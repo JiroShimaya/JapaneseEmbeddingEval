{
 "cells": [
  {
   "cell_type": "code",
   "execution_count": 1,
   "metadata": {},
   "outputs": [],
   "source": [
    "import papermill as pm"
   ]
  },
  {
   "cell_type": "markdown",
   "metadata": {},
   "source": [
    "# sentence_transformers"
   ]
  },
  {
   "cell_type": "code",
   "execution_count": 2,
   "metadata": {},
   "outputs": [
    {
     "name": "stderr",
     "output_type": "stream",
     "text": [
      "Black is not installed, parameters wont be formatted\n"
     ]
    },
    {
     "name": "stdout",
     "output_type": "stream",
     "text": [
      "colorfulscoop/sbert-base-ja 01_colorfulscoop_sbert-base-ja.ipynb\n"
     ]
    },
    {
     "data": {
      "application/vnd.jupyter.widget-view+json": {
       "model_id": "3d413215cc5340da8451a4dbd23880c9",
       "version_major": 2,
       "version_minor": 0
      },
      "text/plain": [
       "Executing:   0%|          | 0/31 [00:00<?, ?cell/s]"
      ]
     },
     "metadata": {},
     "output_type": "display_data"
    },
    {
     "name": "stderr",
     "output_type": "stream",
     "text": [
      "Black is not installed, parameters wont be formatted\n"
     ]
    },
    {
     "name": "stdout",
     "output_type": "stream",
     "text": [
      "MU-Kindai/SBERT-JSNLI-base 02_MU-Kindai_SBERT-JSNLI-base.ipynb\n"
     ]
    },
    {
     "data": {
      "application/vnd.jupyter.widget-view+json": {
       "model_id": "83e924eceb8e49d3ba45e2e27b9a88bb",
       "version_major": 2,
       "version_minor": 0
      },
      "text/plain": [
       "Executing:   0%|          | 0/31 [00:00<?, ?cell/s]"
      ]
     },
     "metadata": {},
     "output_type": "display_data"
    },
    {
     "name": "stderr",
     "output_type": "stream",
     "text": [
      "Black is not installed, parameters wont be formatted\n"
     ]
    },
    {
     "name": "stdout",
     "output_type": "stream",
     "text": [
      "MU-Kindai/SBERT-JSNLI-large 03_MU-Kindai_SBERT-JSNLI-large.ipynb\n"
     ]
    },
    {
     "data": {
      "application/vnd.jupyter.widget-view+json": {
       "model_id": "1bee86369ceb46bea4636f36ab99bd99",
       "version_major": 2,
       "version_minor": 0
      },
      "text/plain": [
       "Executing:   0%|          | 0/31 [00:00<?, ?cell/s]"
      ]
     },
     "metadata": {},
     "output_type": "display_data"
    }
   ],
   "source": [
    "for i, model_id in [\n",
    "    (1, \"colorfulscoop/sbert-base-ja\"),\n",
    "    (2, \"MU-Kindai/SBERT-JSNLI-base\"),\n",
    "    (3, \"MU-Kindai/SBERT-JSNLI-large\"),\n",
    "    (5, \"oshizo/sbert-jsnli-luke-japanese-base-lite\"),\n",
    "    (6, \"pkshatech/simcse-ja-bert-base-clcmlp\"),\n",
    "    (17, \"intfloat/multilingual-e5-small\"),\n",
    "    (11, \"intfloat/multilingual-e5-base\"),\n",
    "    (12, \"intfloat/multilingual-e5-large\"),\n",
    "    (12, \"pkshatech/GLuCoSE-base-ja\"),\n",
    "    (13, \"cl-nagoya/unsup-simcse-ja-base\"),\n",
    "    (14, \"cl-nagoya/unsup-simcse-ja-large\"),\n",
    "    (15, \"cl-nagoya/sup-simcse-ja-base\"),\n",
    "    (16, \"cl-nagoya/sup-simcse-ja-large\"),\n",
    "]:\n",
    "    # parameters\n",
    "    query_prefix = \"query: \" if \"multilingual-e5\" in model_id else \"\"\n",
    "    passage_prefix = \"passage: \" if \"multilingual-e5\" in model_id else \"\"\n",
    "\n",
    "    out_filename = f\"{i:02d}_{model_id.replace('/', '_')}.ipynb\"\n",
    "    print(model_id, out_filename)\n",
    "    pm.execute_notebook(\n",
    "        \"template_sentence-transformers.ipynb\",\n",
    "        out_filename,\n",
    "        parameters=dict(\n",
    "            model_id=model_id, query_prefix=query_prefix, passage_prefix=passage_prefix\n",
    "        ),\n",
    "    )"
   ]
  },
  {
   "cell_type": "markdown",
   "metadata": {},
   "source": [
    "# tensorflow_text\n",
    "* TODO"
   ]
  }
 ],
 "metadata": {
  "kernelspec": {
   "display_name": "venv",
   "language": "python",
   "name": "python3"
  },
  "language_info": {
   "codemirror_mode": {
    "name": "ipython",
    "version": 3
   },
   "file_extension": ".py",
   "mimetype": "text/x-python",
   "name": "python",
   "nbconvert_exporter": "python",
   "pygments_lexer": "ipython3",
   "version": "3.9.11"
  },
  "orig_nbformat": 4
 },
 "nbformat": 4,
 "nbformat_minor": 2
}
