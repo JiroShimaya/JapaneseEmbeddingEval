{
 "cells": [
  {
   "cell_type": "code",
   "execution_count": 2,
   "metadata": {},
   "outputs": [],
   "source": [
    "import papermill as pm"
   ]
  },
  {
   "cell_type": "markdown",
   "metadata": {},
   "source": [
    "# 20240126\n",
    "* openai v3 embeddings"
   ]
  },
  {
   "cell_type": "code",
   "execution_count": 3,
   "metadata": {},
   "outputs": [
    {
     "name": "stderr",
     "output_type": "stream",
     "text": [
      "Black is not installed, parameters wont be formatted\n"
     ]
    },
    {
     "name": "stdout",
     "output_type": "stream",
     "text": [
      "text-embedding-3-small 22_text-embedding-3-small_1536.ipynb\n"
     ]
    },
    {
     "data": {
      "application/vnd.jupyter.widget-view+json": {
       "model_id": "3f211f93ff62440fbdfc428b64527e25",
       "version_major": 2,
       "version_minor": 0
      },
      "text/plain": [
       "Executing:   0%|          | 0/30 [00:00<?, ?cell/s]"
      ]
     },
     "metadata": {},
     "output_type": "display_data"
    }
   ],
   "source": [
    "for i, model_id, dimension in [\n",
    "    (22, \"text-embedding-3-small\", 1536),\n",
    "    (23, \"text-embedding-3-large\", 3072),\n",
    "    (9, \"text-embedding-ada-002\", 1536),\n",
    "    # (24, \"text-embedding-3-small\", 512),\n",
    "    # (25, \"text-embedding-3-large\", 1024),\n",
    "    # (26, \"text-embedding-3-large\", 256),\n",
    "]:\n",
    "    out_filename = f\"{i}_{model_id.replace('/', '_')}_{dimension}.ipynb\"\n",
    "    print(model_id, out_filename)\n",
    "    pm.execute_notebook(\n",
    "        \"template_openai.ipynb\",\n",
    "        out_filename,\n",
    "        parameters=dict(model_id=model_id, dimension=dimension),\n",
    "    )"
   ]
  },
  {
   "cell_type": "markdown",
   "metadata": {},
   "source": [
    "# 20231110\n",
    "* miraclの評価でassertion errorが出ると報告があったため、templateを修正して再実行\n",
    "    * https://github.com/oshizo/JapaneseEmbeddingEval/issues/5\n",
    "* 9_text_embedding-ada-002.ipynbはコードのみ修正し再実行はせず"
   ]
  },
  {
   "cell_type": "code",
   "execution_count": 3,
   "metadata": {},
   "outputs": [
    {
     "name": "stderr",
     "output_type": "stream",
     "text": [
      "Black is not installed, parameters wont be formatted\n"
     ]
    },
    {
     "name": "stdout",
     "output_type": "stream",
     "text": [
      "colorfulscoop/sbert-base-ja 1_colorfulscoop_sbert-base-ja.ipynb\n"
     ]
    },
    {
     "data": {
      "application/vnd.jupyter.widget-view+json": {
       "model_id": "2754f2d9e5e54edba4fe6889399efa86",
       "version_major": 2,
       "version_minor": 0
      },
      "text/plain": [
       "Executing:   0%|          | 0/28 [00:00<?, ?cell/s]"
      ]
     },
     "metadata": {},
     "output_type": "display_data"
    },
    {
     "name": "stderr",
     "output_type": "stream",
     "text": [
      "Black is not installed, parameters wont be formatted\n"
     ]
    },
    {
     "name": "stdout",
     "output_type": "stream",
     "text": [
      "MU-Kindai/SBERT-JSNLI-base 2_MU-Kindai_SBERT-JSNLI-base.ipynb\n"
     ]
    },
    {
     "data": {
      "application/vnd.jupyter.widget-view+json": {
       "model_id": "91dc1b103cbc4fdcb89cc18ab91c9745",
       "version_major": 2,
       "version_minor": 0
      },
      "text/plain": [
       "Executing:   0%|          | 0/28 [00:00<?, ?cell/s]"
      ]
     },
     "metadata": {},
     "output_type": "display_data"
    },
    {
     "name": "stderr",
     "output_type": "stream",
     "text": [
      "Black is not installed, parameters wont be formatted\n"
     ]
    },
    {
     "name": "stdout",
     "output_type": "stream",
     "text": [
      "MU-Kindai/SBERT-JSNLI-large 3_MU-Kindai_SBERT-JSNLI-large.ipynb\n"
     ]
    },
    {
     "data": {
      "application/vnd.jupyter.widget-view+json": {
       "model_id": "493223bbef7b4be2aaf59cc6e30eab0e",
       "version_major": 2,
       "version_minor": 0
      },
      "text/plain": [
       "Executing:   0%|          | 0/28 [00:00<?, ?cell/s]"
      ]
     },
     "metadata": {},
     "output_type": "display_data"
    },
    {
     "name": "stderr",
     "output_type": "stream",
     "text": [
      "Black is not installed, parameters wont be formatted\n"
     ]
    },
    {
     "name": "stdout",
     "output_type": "stream",
     "text": [
      "oshizo/sbert-jsnli-luke-japanese-base-lite 5_oshizo_sbert-jsnli-luke-japanese-base-lite.ipynb\n"
     ]
    },
    {
     "data": {
      "application/vnd.jupyter.widget-view+json": {
       "model_id": "5e452576695a4ced8e7eeb27cef411b3",
       "version_major": 2,
       "version_minor": 0
      },
      "text/plain": [
       "Executing:   0%|          | 0/28 [00:00<?, ?cell/s]"
      ]
     },
     "metadata": {},
     "output_type": "display_data"
    },
    {
     "name": "stderr",
     "output_type": "stream",
     "text": [
      "Black is not installed, parameters wont be formatted\n"
     ]
    },
    {
     "name": "stdout",
     "output_type": "stream",
     "text": [
      "pkshatech/simcse-ja-bert-base-clcmlp 6_pkshatech_simcse-ja-bert-base-clcmlp.ipynb\n"
     ]
    },
    {
     "data": {
      "application/vnd.jupyter.widget-view+json": {
       "model_id": "748a55ff7e9445e58004d72e1d01a716",
       "version_major": 2,
       "version_minor": 0
      },
      "text/plain": [
       "Executing:   0%|          | 0/28 [00:00<?, ?cell/s]"
      ]
     },
     "metadata": {},
     "output_type": "display_data"
    },
    {
     "name": "stderr",
     "output_type": "stream",
     "text": [
      "Black is not installed, parameters wont be formatted\n"
     ]
    },
    {
     "name": "stdout",
     "output_type": "stream",
     "text": [
      "intfloat/multilingual-e5-base 10_intfloat_multilingual-e5-base.ipynb\n"
     ]
    },
    {
     "data": {
      "application/vnd.jupyter.widget-view+json": {
       "model_id": "ac423e6c8eba4bcca444b2cf40e96ce0",
       "version_major": 2,
       "version_minor": 0
      },
      "text/plain": [
       "Executing:   0%|          | 0/28 [00:00<?, ?cell/s]"
      ]
     },
     "metadata": {},
     "output_type": "display_data"
    },
    {
     "name": "stderr",
     "output_type": "stream",
     "text": [
      "Black is not installed, parameters wont be formatted\n"
     ]
    },
    {
     "name": "stdout",
     "output_type": "stream",
     "text": [
      "intfloat/multilingual-e5-large 11_intfloat_multilingual-e5-large.ipynb\n"
     ]
    },
    {
     "data": {
      "application/vnd.jupyter.widget-view+json": {
       "model_id": "9576245c184f436e88140c71e075d359",
       "version_major": 2,
       "version_minor": 0
      },
      "text/plain": [
       "Executing:   0%|          | 0/28 [00:00<?, ?cell/s]"
      ]
     },
     "metadata": {},
     "output_type": "display_data"
    },
    {
     "name": "stderr",
     "output_type": "stream",
     "text": [
      "Black is not installed, parameters wont be formatted\n"
     ]
    },
    {
     "name": "stdout",
     "output_type": "stream",
     "text": [
      "pkshatech/GLuCoSE-base-ja 12_pkshatech_GLuCoSE-base-ja.ipynb\n"
     ]
    },
    {
     "data": {
      "application/vnd.jupyter.widget-view+json": {
       "model_id": "f16e729edded417c877f66707b98dcf4",
       "version_major": 2,
       "version_minor": 0
      },
      "text/plain": [
       "Executing:   0%|          | 0/28 [00:00<?, ?cell/s]"
      ]
     },
     "metadata": {},
     "output_type": "display_data"
    },
    {
     "name": "stderr",
     "output_type": "stream",
     "text": [
      "Black is not installed, parameters wont be formatted\n"
     ]
    },
    {
     "name": "stdout",
     "output_type": "stream",
     "text": [
      "cl-nagoya/unsup-simcse-ja-base 13_cl-nagoya_unsup-simcse-ja-base.ipynb\n"
     ]
    },
    {
     "data": {
      "application/vnd.jupyter.widget-view+json": {
       "model_id": "d481b204bf1b4d6eb31ea51a50bc39b2",
       "version_major": 2,
       "version_minor": 0
      },
      "text/plain": [
       "Executing:   0%|          | 0/28 [00:00<?, ?cell/s]"
      ]
     },
     "metadata": {},
     "output_type": "display_data"
    },
    {
     "name": "stderr",
     "output_type": "stream",
     "text": [
      "Black is not installed, parameters wont be formatted\n"
     ]
    },
    {
     "name": "stdout",
     "output_type": "stream",
     "text": [
      "cl-nagoya/unsup-simcse-ja-large 14_cl-nagoya_unsup-simcse-ja-large.ipynb\n"
     ]
    },
    {
     "data": {
      "application/vnd.jupyter.widget-view+json": {
       "model_id": "ee69d187ed7340e5bf5a47b071b78d3b",
       "version_major": 2,
       "version_minor": 0
      },
      "text/plain": [
       "Executing:   0%|          | 0/28 [00:00<?, ?cell/s]"
      ]
     },
     "metadata": {},
     "output_type": "display_data"
    },
    {
     "name": "stderr",
     "output_type": "stream",
     "text": [
      "Black is not installed, parameters wont be formatted\n"
     ]
    },
    {
     "name": "stdout",
     "output_type": "stream",
     "text": [
      "cl-nagoya/sup-simcse-ja-base 15_cl-nagoya_sup-simcse-ja-base.ipynb\n"
     ]
    },
    {
     "data": {
      "application/vnd.jupyter.widget-view+json": {
       "model_id": "cef78cf78e014340a68fc68dcc37dfba",
       "version_major": 2,
       "version_minor": 0
      },
      "text/plain": [
       "Executing:   0%|          | 0/28 [00:00<?, ?cell/s]"
      ]
     },
     "metadata": {},
     "output_type": "display_data"
    },
    {
     "name": "stderr",
     "output_type": "stream",
     "text": [
      "Black is not installed, parameters wont be formatted\n"
     ]
    },
    {
     "name": "stdout",
     "output_type": "stream",
     "text": [
      "cl-nagoya/sup-simcse-ja-large 16_cl-nagoya_sup-simcse-ja-large.ipynb\n"
     ]
    },
    {
     "data": {
      "application/vnd.jupyter.widget-view+json": {
       "model_id": "61cd00771fb948a7bc6eb0a1a2ac1139",
       "version_major": 2,
       "version_minor": 0
      },
      "text/plain": [
       "Executing:   0%|          | 0/28 [00:00<?, ?cell/s]"
      ]
     },
     "metadata": {},
     "output_type": "display_data"
    },
    {
     "name": "stderr",
     "output_type": "stream",
     "text": [
      "Black is not installed, parameters wont be formatted\n"
     ]
    },
    {
     "name": "stdout",
     "output_type": "stream",
     "text": [
      "intfloat/multilingual-e5-small 17_intfloat_multilingual-e5-small.ipynb\n"
     ]
    },
    {
     "data": {
      "application/vnd.jupyter.widget-view+json": {
       "model_id": "98efee5ad70046749e91f2b5359e4ffa",
       "version_major": 2,
       "version_minor": 0
      },
      "text/plain": [
       "Executing:   0%|          | 0/28 [00:00<?, ?cell/s]"
      ]
     },
     "metadata": {},
     "output_type": "display_data"
    }
   ],
   "source": [
    "for i, model_id in [\n",
    "    (1, \"colorfulscoop/sbert-base-ja\"),\n",
    "    (2, \"MU-Kindai/SBERT-JSNLI-base\"),\n",
    "    (3, \"MU-Kindai/SBERT-JSNLI-large\"),\n",
    "    (5, \"oshizo/sbert-jsnli-luke-japanese-base-lite\"),\n",
    "    (6, \"pkshatech/simcse-ja-bert-base-clcmlp\"),\n",
    "    (10, \"intfloat/multilingual-e5-base\"),\n",
    "    (11, \"intfloat/multilingual-e5-large\"),\n",
    "    (12, \"pkshatech/GLuCoSE-base-ja\"),\n",
    "    (13, \"cl-nagoya/unsup-simcse-ja-base\"),\n",
    "    (14, \"cl-nagoya/unsup-simcse-ja-large\"),\n",
    "    (15, \"cl-nagoya/sup-simcse-ja-base\"),\n",
    "    (16, \"cl-nagoya/sup-simcse-ja-large\"),\n",
    "    (17, \"intfloat/multilingual-e5-small\"),\n",
    "    (18, \"bclavie/fio-base-japanese-v0.1\"),\n",
    "]:\n",
    "    # parameters\n",
    "    query_prefix = \"query: \" if \"multilingual-e5\" in model_id else \"\"\n",
    "    passage_prefix = \"passage: \" if \"multilingual-e5\" in model_id else \"\"\n",
    "\n",
    "    out_filename = f\"{i}_{model_id.replace('/', '_')}.ipynb\"\n",
    "    print(model_id, out_filename)\n",
    "    pm.execute_notebook(\n",
    "        \"template_sentence-transformers.ipynb\",\n",
    "        out_filename,\n",
    "        parameters=dict(\n",
    "            model_id=model_id, query_prefix=query_prefix, passage_prefix=passage_prefix\n",
    "        ),\n",
    "    )"
   ]
  },
  {
   "cell_type": "markdown",
   "metadata": {},
   "source": [
    "# 20231008"
   ]
  },
  {
   "cell_type": "code",
   "execution_count": 2,
   "metadata": {},
   "outputs": [
    {
     "name": "stderr",
     "output_type": "stream",
     "text": [
      "Black is not installed, parameters wont be formatted\n"
     ]
    },
    {
     "name": "stdout",
     "output_type": "stream",
     "text": [
      "intfloat/multilingual-e5-base 10_intfloat_multilingual-e5-base.ipynb\n"
     ]
    },
    {
     "data": {
      "application/vnd.jupyter.widget-view+json": {
       "model_id": "3c97434665f04577b067b9cad5159439",
       "version_major": 2,
       "version_minor": 0
      },
      "text/plain": [
       "Executing:   0%|          | 0/28 [00:00<?, ?cell/s]"
      ]
     },
     "metadata": {},
     "output_type": "display_data"
    },
    {
     "name": "stderr",
     "output_type": "stream",
     "text": [
      "Black is not installed, parameters wont be formatted\n"
     ]
    },
    {
     "name": "stdout",
     "output_type": "stream",
     "text": [
      "colorfulscoop/sbert-base-ja 1_colorfulscoop_sbert-base-ja.ipynb\n"
     ]
    },
    {
     "data": {
      "application/vnd.jupyter.widget-view+json": {
       "model_id": "6ed93c30cc65496db76f941c6d64e427",
       "version_major": 2,
       "version_minor": 0
      },
      "text/plain": [
       "Executing:   0%|          | 0/28 [00:00<?, ?cell/s]"
      ]
     },
     "metadata": {},
     "output_type": "display_data"
    },
    {
     "name": "stderr",
     "output_type": "stream",
     "text": [
      "Black is not installed, parameters wont be formatted\n"
     ]
    },
    {
     "name": "stdout",
     "output_type": "stream",
     "text": [
      "MU-Kindai/SBERT-JSNLI-base 2_MU-Kindai_SBERT-JSNLI-base.ipynb\n"
     ]
    },
    {
     "data": {
      "application/vnd.jupyter.widget-view+json": {
       "model_id": "83301df2249b4f5897260592258e3cde",
       "version_major": 2,
       "version_minor": 0
      },
      "text/plain": [
       "Executing:   0%|          | 0/28 [00:00<?, ?cell/s]"
      ]
     },
     "metadata": {},
     "output_type": "display_data"
    },
    {
     "name": "stderr",
     "output_type": "stream",
     "text": [
      "Black is not installed, parameters wont be formatted\n"
     ]
    },
    {
     "name": "stdout",
     "output_type": "stream",
     "text": [
      "MU-Kindai/SBERT-JSNLI-large 3_MU-Kindai_SBERT-JSNLI-large.ipynb\n"
     ]
    },
    {
     "data": {
      "application/vnd.jupyter.widget-view+json": {
       "model_id": "02c54a506ccc477c9b6f072a1db50ef8",
       "version_major": 2,
       "version_minor": 0
      },
      "text/plain": [
       "Executing:   0%|          | 0/28 [00:00<?, ?cell/s]"
      ]
     },
     "metadata": {},
     "output_type": "display_data"
    },
    {
     "name": "stderr",
     "output_type": "stream",
     "text": [
      "Black is not installed, parameters wont be formatted\n"
     ]
    },
    {
     "name": "stdout",
     "output_type": "stream",
     "text": [
      "oshizo/sbert-jsnli-luke-japanese-base-lite 5_oshizo_sbert-jsnli-luke-japanese-base-lite.ipynb\n"
     ]
    },
    {
     "data": {
      "application/vnd.jupyter.widget-view+json": {
       "model_id": "30d473faa2d34828a61a4c6146efda50",
       "version_major": 2,
       "version_minor": 0
      },
      "text/plain": [
       "Executing:   0%|          | 0/28 [00:00<?, ?cell/s]"
      ]
     },
     "metadata": {},
     "output_type": "display_data"
    },
    {
     "name": "stderr",
     "output_type": "stream",
     "text": [
      "Black is not installed, parameters wont be formatted\n"
     ]
    },
    {
     "name": "stdout",
     "output_type": "stream",
     "text": [
      "pkshatech/simcse-ja-bert-base-clcmlp 6_pkshatech_simcse-ja-bert-base-clcmlp.ipynb\n"
     ]
    },
    {
     "data": {
      "application/vnd.jupyter.widget-view+json": {
       "model_id": "804dfba200cf41d4aa27ad9e146a483d",
       "version_major": 2,
       "version_minor": 0
      },
      "text/plain": [
       "Executing:   0%|          | 0/28 [00:00<?, ?cell/s]"
      ]
     },
     "metadata": {},
     "output_type": "display_data"
    },
    {
     "name": "stderr",
     "output_type": "stream",
     "text": [
      "Black is not installed, parameters wont be formatted\n"
     ]
    },
    {
     "name": "stdout",
     "output_type": "stream",
     "text": [
      "intfloat/multilingual-e5-small 17_intfloat_multilingual-e5-small.ipynb\n"
     ]
    },
    {
     "data": {
      "application/vnd.jupyter.widget-view+json": {
       "model_id": "5548a202ca454e8b93e459d29c2a1fb4",
       "version_major": 2,
       "version_minor": 0
      },
      "text/plain": [
       "Executing:   0%|          | 0/28 [00:00<?, ?cell/s]"
      ]
     },
     "metadata": {},
     "output_type": "display_data"
    },
    {
     "name": "stderr",
     "output_type": "stream",
     "text": [
      "Black is not installed, parameters wont be formatted\n"
     ]
    },
    {
     "name": "stdout",
     "output_type": "stream",
     "text": [
      "intfloat/multilingual-e5-large 11_intfloat_multilingual-e5-large.ipynb\n"
     ]
    },
    {
     "data": {
      "application/vnd.jupyter.widget-view+json": {
       "model_id": "e95ccc2f2ed244db8e50bfc10582079b",
       "version_major": 2,
       "version_minor": 0
      },
      "text/plain": [
       "Executing:   0%|          | 0/28 [00:00<?, ?cell/s]"
      ]
     },
     "metadata": {},
     "output_type": "display_data"
    },
    {
     "name": "stderr",
     "output_type": "stream",
     "text": [
      "Black is not installed, parameters wont be formatted\n"
     ]
    },
    {
     "name": "stdout",
     "output_type": "stream",
     "text": [
      "pkshatech/GLuCoSE-base-ja 12_pkshatech_GLuCoSE-base-ja.ipynb\n"
     ]
    },
    {
     "data": {
      "application/vnd.jupyter.widget-view+json": {
       "model_id": "70194500576840b3971ff10f6f42d3d4",
       "version_major": 2,
       "version_minor": 0
      },
      "text/plain": [
       "Executing:   0%|          | 0/28 [00:00<?, ?cell/s]"
      ]
     },
     "metadata": {},
     "output_type": "display_data"
    },
    {
     "name": "stderr",
     "output_type": "stream",
     "text": [
      "Black is not installed, parameters wont be formatted\n"
     ]
    },
    {
     "name": "stdout",
     "output_type": "stream",
     "text": [
      "cl-nagoya/unsup-simcse-ja-base 13_cl-nagoya_unsup-simcse-ja-base.ipynb\n"
     ]
    },
    {
     "data": {
      "application/vnd.jupyter.widget-view+json": {
       "model_id": "5d9e504e70e44853b8768b8390a203d1",
       "version_major": 2,
       "version_minor": 0
      },
      "text/plain": [
       "Executing:   0%|          | 0/28 [00:00<?, ?cell/s]"
      ]
     },
     "metadata": {},
     "output_type": "display_data"
    },
    {
     "name": "stderr",
     "output_type": "stream",
     "text": [
      "Black is not installed, parameters wont be formatted\n"
     ]
    },
    {
     "name": "stdout",
     "output_type": "stream",
     "text": [
      "cl-nagoya/unsup-simcse-ja-large 14_cl-nagoya_unsup-simcse-ja-large.ipynb\n"
     ]
    },
    {
     "data": {
      "application/vnd.jupyter.widget-view+json": {
       "model_id": "6da2bc85c56241c1a48e07a517abd68d",
       "version_major": 2,
       "version_minor": 0
      },
      "text/plain": [
       "Executing:   0%|          | 0/28 [00:00<?, ?cell/s]"
      ]
     },
     "metadata": {},
     "output_type": "display_data"
    },
    {
     "name": "stderr",
     "output_type": "stream",
     "text": [
      "Black is not installed, parameters wont be formatted\n"
     ]
    },
    {
     "name": "stdout",
     "output_type": "stream",
     "text": [
      "cl-nagoya/sup-simcse-ja-base 15_cl-nagoya_sup-simcse-ja-base.ipynb\n"
     ]
    },
    {
     "data": {
      "application/vnd.jupyter.widget-view+json": {
       "model_id": "1efffb0ae1a54677978365cbceac046b",
       "version_major": 2,
       "version_minor": 0
      },
      "text/plain": [
       "Executing:   0%|          | 0/28 [00:00<?, ?cell/s]"
      ]
     },
     "metadata": {},
     "output_type": "display_data"
    },
    {
     "name": "stderr",
     "output_type": "stream",
     "text": [
      "Black is not installed, parameters wont be formatted\n"
     ]
    },
    {
     "name": "stdout",
     "output_type": "stream",
     "text": [
      "cl-nagoya/sup-simcse-ja-large 16_cl-nagoya_sup-simcse-ja-large.ipynb\n"
     ]
    },
    {
     "data": {
      "application/vnd.jupyter.widget-view+json": {
       "model_id": "5587d4cb0eaa40f390e3907908ba1277",
       "version_major": 2,
       "version_minor": 0
      },
      "text/plain": [
       "Executing:   0%|          | 0/28 [00:00<?, ?cell/s]"
      ]
     },
     "metadata": {},
     "output_type": "display_data"
    }
   ],
   "source": [
    "for i, model_id in [\n",
    "    (10, \"intfloat/multilingual-e5-base\"),\n",
    "    (1, \"colorfulscoop/sbert-base-ja\"),\n",
    "    (2, \"MU-Kindai/SBERT-JSNLI-base\"),\n",
    "    (3, \"MU-Kindai/SBERT-JSNLI-large\"),\n",
    "    (5, \"oshizo/sbert-jsnli-luke-japanese-base-lite\"),\n",
    "    (6, \"pkshatech/simcse-ja-bert-base-clcmlp\"),\n",
    "    (17, \"intfloat/multilingual-e5-small\"),\n",
    "    (11, \"intfloat/multilingual-e5-large\"),\n",
    "    (12, \"pkshatech/GLuCoSE-base-ja\"),\n",
    "    (13, \"cl-nagoya/unsup-simcse-ja-base\"),\n",
    "    (14, \"cl-nagoya/unsup-simcse-ja-large\"),\n",
    "    (15, \"cl-nagoya/sup-simcse-ja-base\"),\n",
    "    (16, \"cl-nagoya/sup-simcse-ja-large\"),\n",
    "]:\n",
    "    # parameters\n",
    "    query_prefix = \"query: \" if \"multilingual-e5\" in model_id else \"\"\n",
    "    passage_prefix = \"passage: \" if \"multilingual-e5\" in model_id else \"\"\n",
    "\n",
    "    out_filename = f\"{i}_{model_id.replace('/', '_')}.ipynb\"\n",
    "    print(model_id, out_filename)\n",
    "    pm.execute_notebook(\n",
    "        \"template_sentence-transformers.ipynb\",\n",
    "        out_filename,\n",
    "        parameters=dict(\n",
    "            model_id=model_id, query_prefix=query_prefix, passage_prefix=passage_prefix\n",
    "        ),\n",
    "    )"
   ]
  },
  {
   "cell_type": "markdown",
   "metadata": {},
   "source": []
  }
 ],
 "metadata": {
  "kernelspec": {
   "display_name": "Python 3 (ipykernel)",
   "language": "python",
   "name": "python3"
  },
  "language_info": {
   "codemirror_mode": {
    "name": "ipython",
    "version": 3
   },
   "file_extension": ".py",
   "mimetype": "text/x-python",
   "name": "python",
   "nbconvert_exporter": "python",
   "pygments_lexer": "ipython3",
   "version": "3.9.11"
  }
 },
 "nbformat": 4,
 "nbformat_minor": 4
}
