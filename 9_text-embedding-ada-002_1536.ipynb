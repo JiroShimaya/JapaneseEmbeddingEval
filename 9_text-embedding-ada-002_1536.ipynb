{
 "cells": [
  {
   "cell_type": "code",
   "execution_count": 1,
   "id": "37e4a991",
   "metadata": {
    "ExecuteTime": {
     "end_time": "2023-10-07T08:50:45.949996Z",
     "start_time": "2023-10-07T08:50:44.497041Z"
    },
    "execution": {
     "iopub.execute_input": "2024-01-26T12:58:27.332173Z",
     "iopub.status.busy": "2024-01-26T12:58:27.331172Z",
     "iopub.status.idle": "2024-01-26T12:58:27.845190Z",
     "shell.execute_reply": "2024-01-26T12:58:27.845190Z"
    },
    "papermill": {
     "duration": 0.521028,
     "end_time": "2024-01-26T12:58:27.847689",
     "exception": false,
     "start_time": "2024-01-26T12:58:27.326661",
     "status": "completed"
    },
    "tags": []
   },
   "outputs": [
    {
     "data": {
      "text/plain": [
       "'1.10.0'"
      ]
     },
     "execution_count": 1,
     "metadata": {},
     "output_type": "execute_result"
    }
   ],
   "source": [
    "import openai\n",
    "import os\n",
    "\n",
    "openai.__version__"
   ]
  },
  {
   "cell_type": "code",
   "execution_count": 2,
   "id": "ba90e7a6",
   "metadata": {
    "ExecuteTime": {
     "end_time": "2023-10-07T08:50:45.965421Z",
     "start_time": "2023-10-07T08:50:45.951998Z"
    },
    "execution": {
     "iopub.execute_input": "2024-01-26T12:58:27.857695Z",
     "iopub.status.busy": "2024-01-26T12:58:27.856695Z",
     "iopub.status.idle": "2024-01-26T12:58:27.860762Z",
     "shell.execute_reply": "2024-01-26T12:58:27.860762Z"
    },
    "papermill": {
     "duration": 0.009058,
     "end_time": "2024-01-26T12:58:27.861755",
     "exception": false,
     "start_time": "2024-01-26T12:58:27.852697",
     "status": "completed"
    },
    "tags": [
     "parameters"
    ]
   },
   "outputs": [],
   "source": [
    "jsts_url = \"https://raw.githubusercontent.com/yahoojapan/JGLUE/main/datasets/jsts-v1.1/valid-v1.1.json\"\n",
    "jsick_url = \"https://github.com/verypluming/JSICK/raw/main/jsick/test.tsv\"\n",
    "miracle_n_hard_negs = 300\n",
    "miracle_n_recall = 30\n",
    "model_id = \"\"\n",
    "dimension = -1\n",
    "query_prefix = \"\"\n",
    "passage_prefix = \"\""
   ]
  },
  {
   "cell_type": "code",
   "execution_count": 3,
   "id": "b89c7146",
   "metadata": {
    "execution": {
     "iopub.execute_input": "2024-01-26T12:58:27.870930Z",
     "iopub.status.busy": "2024-01-26T12:58:27.869931Z",
     "iopub.status.idle": "2024-01-26T12:58:27.876055Z",
     "shell.execute_reply": "2024-01-26T12:58:27.876055Z"
    },
    "papermill": {
     "duration": 0.012287,
     "end_time": "2024-01-26T12:58:27.878056",
     "exception": false,
     "start_time": "2024-01-26T12:58:27.865769",
     "status": "completed"
    },
    "tags": [
     "injected-parameters"
    ]
   },
   "outputs": [],
   "source": [
    "# Parameters\n",
    "model_id = \"text-embedding-ada-002\"\n",
    "dimension = 1536\n"
   ]
  },
  {
   "cell_type": "markdown",
   "id": "b8e76087",
   "metadata": {
    "papermill": {
     "duration": 0.004497,
     "end_time": "2024-01-26T12:58:27.888003",
     "exception": false,
     "start_time": "2024-01-26T12:58:27.883506",
     "status": "completed"
    },
    "tags": []
   },
   "source": [
    "# Model"
   ]
  },
  {
   "cell_type": "code",
   "execution_count": 4,
   "id": "5fba5f36",
   "metadata": {
    "execution": {
     "iopub.execute_input": "2024-01-26T12:58:27.895016Z",
     "iopub.status.busy": "2024-01-26T12:58:27.894019Z",
     "iopub.status.idle": "2024-01-26T12:58:27.999927Z",
     "shell.execute_reply": "2024-01-26T12:58:27.998024Z"
    },
    "papermill": {
     "duration": 0.110932,
     "end_time": "2024-01-26T12:58:28.001946",
     "exception": false,
     "start_time": "2024-01-26T12:58:27.891014",
     "status": "completed"
    },
    "tags": []
   },
   "outputs": [],
   "source": [
    "import numpy as np\n",
    "import dotenv\n",
    "\n",
    "dotenv.load_dotenv(\"openai_key\", override=True)\n",
    "client = openai.OpenAI()\n",
    "\n",
    "\n",
    "# https://platform.openai.com/docs/guides/embeddings/use-cases\n",
    "def get_embedding(texts):\n",
    "    texts = [text.replace(\"\\n\", \" \")[:2000] for text in texts]\n",
    "    if \"text-embedding-3\" not in model_id:\n",
    "        return client.embeddings.create(input=texts, model=model_id).data\n",
    "    else:\n",
    "        return client.embeddings.create(\n",
    "            input=texts, model=model_id, dimensions=dimension\n",
    "        ).data\n",
    "\n",
    "\n",
    "def get_embeddings(texts):\n",
    "    all_embeddings = []\n",
    "    batch_size = 100\n",
    "    for i in range(0, len(texts), batch_size):\n",
    "        all_embeddings += [\n",
    "            emb.embedding for emb in get_embedding(texts[i : i + batch_size])\n",
    "        ]\n",
    "    return np.array(all_embeddings)"
   ]
  },
  {
   "cell_type": "markdown",
   "id": "a53e197c",
   "metadata": {
    "papermill": {
     "duration": 0.004323,
     "end_time": "2024-01-26T12:58:28.010257",
     "exception": false,
     "start_time": "2024-01-26T12:58:28.005934",
     "status": "completed"
    },
    "tags": []
   },
   "source": [
    "# JSTS"
   ]
  },
  {
   "cell_type": "code",
   "execution_count": 5,
   "id": "792cd013",
   "metadata": {
    "ExecuteTime": {
     "end_time": "2023-10-07T08:50:54.215161Z",
     "start_time": "2023-10-07T08:50:53.767452Z"
    },
    "execution": {
     "iopub.execute_input": "2024-01-26T12:58:28.020787Z",
     "iopub.status.busy": "2024-01-26T12:58:28.020787Z",
     "iopub.status.idle": "2024-01-26T12:58:28.849704Z",
     "shell.execute_reply": "2024-01-26T12:58:28.848186Z"
    },
    "papermill": {
     "duration": 0.836432,
     "end_time": "2024-01-26T12:58:28.851698",
     "exception": false,
     "start_time": "2024-01-26T12:58:28.015266",
     "status": "completed"
    },
    "tags": []
   },
   "outputs": [
    {
     "data": {
      "text/html": [
       "<div>\n",
       "<style scoped>\n",
       "    .dataframe tbody tr th:only-of-type {\n",
       "        vertical-align: middle;\n",
       "    }\n",
       "\n",
       "    .dataframe tbody tr th {\n",
       "        vertical-align: top;\n",
       "    }\n",
       "\n",
       "    .dataframe thead th {\n",
       "        text-align: right;\n",
       "    }\n",
       "</style>\n",
       "<table border=\"1\" class=\"dataframe\">\n",
       "  <thead>\n",
       "    <tr style=\"text-align: right;\">\n",
       "      <th></th>\n",
       "      <th>sentence_pair_id</th>\n",
       "      <th>yjcaptions_id</th>\n",
       "      <th>sentence1</th>\n",
       "      <th>sentence2</th>\n",
       "      <th>label</th>\n",
       "    </tr>\n",
       "  </thead>\n",
       "  <tbody>\n",
       "    <tr>\n",
       "      <th>0</th>\n",
       "      <td>0</td>\n",
       "      <td>100312_421853-104611-31624</td>\n",
       "      <td>レンガの建物の前を、乳母車を押した女性が歩いています。</td>\n",
       "      <td>厩舎で馬と女性とが寄り添っています。</td>\n",
       "      <td>0.0</td>\n",
       "    </tr>\n",
       "  </tbody>\n",
       "</table>\n",
       "</div>"
      ],
      "text/plain": [
       "  sentence_pair_id               yjcaptions_id                    sentence1  \\\n",
       "0                0  100312_421853-104611-31624  レンガの建物の前を、乳母車を押した女性が歩いています。   \n",
       "\n",
       "            sentence2  label  \n",
       "0  厩舎で馬と女性とが寄り添っています。    0.0  "
      ]
     },
     "execution_count": 5,
     "metadata": {},
     "output_type": "execute_result"
    }
   ],
   "source": [
    "import json\n",
    "import pandas as pd\n",
    "from urllib.request import urlopen\n",
    "\n",
    "df = pd.DataFrame([json.loads(line) for line in urlopen(jsts_url).readlines()])\n",
    "df.head(1)"
   ]
  },
  {
   "cell_type": "code",
   "execution_count": 6,
   "id": "fa470689",
   "metadata": {
    "ExecuteTime": {
     "end_time": "2023-10-07T08:50:54.230679Z",
     "start_time": "2023-10-07T08:50:54.218161Z"
    },
    "execution": {
     "iopub.execute_input": "2024-01-26T12:58:28.861228Z",
     "iopub.status.busy": "2024-01-26T12:58:28.861228Z",
     "iopub.status.idle": "2024-01-26T12:58:28.879791Z",
     "shell.execute_reply": "2024-01-26T12:58:28.878788Z"
    },
    "papermill": {
     "duration": 0.025086,
     "end_time": "2024-01-26T12:58:28.881793",
     "exception": false,
     "start_time": "2024-01-26T12:58:28.856707",
     "status": "completed"
    },
    "tags": []
   },
   "outputs": [
    {
     "data": {
      "text/plain": [
       "(1457, 5)"
      ]
     },
     "execution_count": 6,
     "metadata": {},
     "output_type": "execute_result"
    }
   ],
   "source": [
    "df.shape"
   ]
  },
  {
   "cell_type": "markdown",
   "id": "5931950c",
   "metadata": {
    "papermill": {
     "duration": 0.004227,
     "end_time": "2024-01-26T12:58:28.892024",
     "exception": false,
     "start_time": "2024-01-26T12:58:28.887797",
     "status": "completed"
    },
    "tags": []
   },
   "source": [
    "## Encode"
   ]
  },
  {
   "cell_type": "code",
   "execution_count": 7,
   "id": "1f9ee818",
   "metadata": {
    "ExecuteTime": {
     "end_time": "2023-10-07T08:50:57.800419Z",
     "start_time": "2023-10-07T08:50:54.234207Z"
    },
    "execution": {
     "iopub.execute_input": "2024-01-26T12:58:28.901524Z",
     "iopub.status.busy": "2024-01-26T12:58:28.901524Z",
     "iopub.status.idle": "2024-01-26T12:59:02.470005Z",
     "shell.execute_reply": "2024-01-26T12:59:02.468992Z"
    },
    "papermill": {
     "duration": 33.578989,
     "end_time": "2024-01-26T12:59:02.474000",
     "exception": false,
     "start_time": "2024-01-26T12:58:28.895011",
     "status": "completed"
    },
    "tags": []
   },
   "outputs": [
    {
     "data": {
      "text/plain": [
       "((1457, 1536), (1457, 1536))"
      ]
     },
     "execution_count": 7,
     "metadata": {},
     "output_type": "execute_result"
    }
   ],
   "source": [
    "import numpy as np\n",
    "\n",
    "\n",
    "sentence1_embs = get_embeddings(df[\"sentence1\"].values)\n",
    "sentence2_embs = get_embeddings(df[\"sentence2\"].values)\n",
    "\n",
    "\n",
    "sentence1_embs.shape, sentence2_embs.shape"
   ]
  },
  {
   "cell_type": "markdown",
   "id": "be891078",
   "metadata": {
    "papermill": {
     "duration": 0.004161,
     "end_time": "2024-01-26T12:59:02.482151",
     "exception": false,
     "start_time": "2024-01-26T12:59:02.477990",
     "status": "completed"
    },
    "tags": []
   },
   "source": [
    "## Correlation Score"
   ]
  },
  {
   "cell_type": "code",
   "execution_count": 8,
   "id": "fb194d62",
   "metadata": {
    "ExecuteTime": {
     "end_time": "2023-10-07T08:50:57.847350Z",
     "start_time": "2023-10-07T08:50:57.801925Z"
    },
    "execution": {
     "iopub.execute_input": "2024-01-26T12:59:02.493671Z",
     "iopub.status.busy": "2024-01-26T12:59:02.492662Z",
     "iopub.status.idle": "2024-01-26T12:59:02.940368Z",
     "shell.execute_reply": "2024-01-26T12:59:02.940368Z"
    },
    "papermill": {
     "duration": 0.454213,
     "end_time": "2024-01-26T12:59:02.942361",
     "exception": false,
     "start_time": "2024-01-26T12:59:02.488148",
     "status": "completed"
    },
    "tags": []
   },
   "outputs": [
    {
     "data": {
      "text/plain": [
       "0.7900532111284366"
      ]
     },
     "execution_count": 8,
     "metadata": {},
     "output_type": "execute_result"
    }
   ],
   "source": [
    "from scipy.spatial.distance import cosine, euclidean\n",
    "from scipy.stats import spearmanr\n",
    "\n",
    "df[\"similarity\"] = [\n",
    "    1 - cosine(s1, s2) for s1, s2 in zip(sentence1_embs, sentence2_embs)\n",
    "]\n",
    "jsts_score = spearmanr(df[\"similarity\"], df[\"label\"])[0]\n",
    "jsts_score"
   ]
  },
  {
   "cell_type": "markdown",
   "id": "d074c5e6",
   "metadata": {
    "papermill": {
     "duration": 0.004525,
     "end_time": "2024-01-26T12:59:02.950886",
     "exception": false,
     "start_time": "2024-01-26T12:59:02.946361",
     "status": "completed"
    },
    "tags": []
   },
   "source": [
    "# JSICK"
   ]
  },
  {
   "cell_type": "code",
   "execution_count": 9,
   "id": "73b05dac",
   "metadata": {
    "ExecuteTime": {
     "end_time": "2023-10-07T08:51:00.645301Z",
     "start_time": "2023-10-07T08:51:00.119204Z"
    },
    "execution": {
     "iopub.execute_input": "2024-01-26T12:59:02.960921Z",
     "iopub.status.busy": "2024-01-26T12:59:02.959920Z",
     "iopub.status.idle": "2024-01-26T12:59:03.750182Z",
     "shell.execute_reply": "2024-01-26T12:59:03.749182Z"
    },
    "papermill": {
     "duration": 0.796295,
     "end_time": "2024-01-26T12:59:03.752192",
     "exception": false,
     "start_time": "2024-01-26T12:59:02.955897",
     "status": "completed"
    },
    "tags": []
   },
   "outputs": [
    {
     "data": {
      "text/html": [
       "<div>\n",
       "<style scoped>\n",
       "    .dataframe tbody tr th:only-of-type {\n",
       "        vertical-align: middle;\n",
       "    }\n",
       "\n",
       "    .dataframe tbody tr th {\n",
       "        vertical-align: top;\n",
       "    }\n",
       "\n",
       "    .dataframe thead th {\n",
       "        text-align: right;\n",
       "    }\n",
       "</style>\n",
       "<table border=\"1\" class=\"dataframe\">\n",
       "  <thead>\n",
       "    <tr style=\"text-align: right;\">\n",
       "      <th></th>\n",
       "      <th>pair_ID</th>\n",
       "      <th>data</th>\n",
       "      <th>sentence_A_En</th>\n",
       "      <th>sentence_B_En</th>\n",
       "      <th>entailment_label_En</th>\n",
       "      <th>relatedness_score_En</th>\n",
       "      <th>corr_entailment_labelAB_En</th>\n",
       "      <th>corr_entailment_labelBA_En</th>\n",
       "      <th>sentence_A_Ja</th>\n",
       "      <th>sentence_B_Ja</th>\n",
       "      <th>entailment_label_Ja</th>\n",
       "      <th>relatedness_score_Ja</th>\n",
       "      <th>image_ID</th>\n",
       "      <th>original_caption</th>\n",
       "      <th>semtag_short</th>\n",
       "      <th>semtag_long</th>\n",
       "    </tr>\n",
       "  </thead>\n",
       "  <tbody>\n",
       "    <tr>\n",
       "      <th>0</th>\n",
       "      <td>6</td>\n",
       "      <td>test</td>\n",
       "      <td>There is no boy playing outdoors and there is ...</td>\n",
       "      <td>A group of kids is playing in a yard and an ol...</td>\n",
       "      <td>neutral</td>\n",
       "      <td>3.3</td>\n",
       "      <td>NaN</td>\n",
       "      <td>NaN</td>\n",
       "      <td>戸外で遊んでいる男の子は一人もおらず、微笑んでいる男性は一人もいない</td>\n",
       "      <td>子供たちのグループが庭で遊んでいて、後ろの方には年を取った男性が立っている</td>\n",
       "      <td>contradiction</td>\n",
       "      <td>2.3</td>\n",
       "      <td>3155657768_b83a7831e5.jpg</td>\n",
       "      <td>The children are playing outdoors , while a ma...</td>\n",
       "      <td>Negation#Numerical</td>\n",
       "      <td>Numerical;人;名詞,接尾,助数詞,*#Negation;ない;助動詞,*,*,*#...</td>\n",
       "    </tr>\n",
       "  </tbody>\n",
       "</table>\n",
       "</div>"
      ],
      "text/plain": [
       "   pair_ID  data                                      sentence_A_En  \\\n",
       "0        6  test  There is no boy playing outdoors and there is ...   \n",
       "\n",
       "                                       sentence_B_En entailment_label_En  \\\n",
       "0  A group of kids is playing in a yard and an ol...             neutral   \n",
       "\n",
       "   relatedness_score_En corr_entailment_labelAB_En corr_entailment_labelBA_En  \\\n",
       "0                   3.3                        NaN                        NaN   \n",
       "\n",
       "                        sentence_A_Ja                          sentence_B_Ja  \\\n",
       "0  戸外で遊んでいる男の子は一人もおらず、微笑んでいる男性は一人もいない  子供たちのグループが庭で遊んでいて、後ろの方には年を取った男性が立っている   \n",
       "\n",
       "  entailment_label_Ja  relatedness_score_Ja                   image_ID  \\\n",
       "0       contradiction                   2.3  3155657768_b83a7831e5.jpg   \n",
       "\n",
       "                                    original_caption        semtag_short  \\\n",
       "0  The children are playing outdoors , while a ma...  Negation#Numerical   \n",
       "\n",
       "                                         semtag_long  \n",
       "0  Numerical;人;名詞,接尾,助数詞,*#Negation;ない;助動詞,*,*,*#...  "
      ]
     },
     "execution_count": 9,
     "metadata": {},
     "output_type": "execute_result"
    }
   ],
   "source": [
    "df = pd.read_csv(jsick_url, sep=\"\\t\")\n",
    "df.head(1)"
   ]
  },
  {
   "cell_type": "code",
   "execution_count": 10,
   "id": "1a54dbf4",
   "metadata": {
    "ExecuteTime": {
     "end_time": "2023-10-07T08:51:00.660322Z",
     "start_time": "2023-10-07T08:51:00.647809Z"
    },
    "execution": {
     "iopub.execute_input": "2024-01-26T12:59:03.762385Z",
     "iopub.status.busy": "2024-01-26T12:59:03.761384Z",
     "iopub.status.idle": "2024-01-26T12:59:03.780041Z",
     "shell.execute_reply": "2024-01-26T12:59:03.779047Z"
    },
    "papermill": {
     "duration": 0.024303,
     "end_time": "2024-01-26T12:59:03.781051",
     "exception": false,
     "start_time": "2024-01-26T12:59:03.756748",
     "status": "completed"
    },
    "tags": []
   },
   "outputs": [
    {
     "data": {
      "text/plain": [
       "(4927, 16)"
      ]
     },
     "execution_count": 10,
     "metadata": {},
     "output_type": "execute_result"
    }
   ],
   "source": [
    "df.shape"
   ]
  },
  {
   "cell_type": "markdown",
   "id": "e07ca33f",
   "metadata": {
    "papermill": {
     "duration": 0.004553,
     "end_time": "2024-01-26T12:59:03.791602",
     "exception": false,
     "start_time": "2024-01-26T12:59:03.787049",
     "status": "completed"
    },
    "tags": []
   },
   "source": [
    "## Encode"
   ]
  },
  {
   "cell_type": "code",
   "execution_count": 11,
   "id": "575da4b5",
   "metadata": {
    "ExecuteTime": {
     "end_time": "2023-10-07T08:51:06.645910Z",
     "start_time": "2023-10-07T08:51:01.623993Z"
    },
    "execution": {
     "iopub.execute_input": "2024-01-26T12:59:03.802136Z",
     "iopub.status.busy": "2024-01-26T12:59:03.801142Z",
     "iopub.status.idle": "2024-01-26T13:00:48.126317Z",
     "shell.execute_reply": "2024-01-26T13:00:48.125297Z"
    },
    "papermill": {
     "duration": 104.334199,
     "end_time": "2024-01-26T13:00:48.129808",
     "exception": false,
     "start_time": "2024-01-26T12:59:03.795609",
     "status": "completed"
    },
    "tags": []
   },
   "outputs": [
    {
     "data": {
      "text/plain": [
       "((4927, 1536), (4927, 1536))"
      ]
     },
     "execution_count": 11,
     "metadata": {},
     "output_type": "execute_result"
    }
   ],
   "source": [
    "sentence1_embs = get_embeddings(df[\"sentence_A_Ja\"].values)\n",
    "sentence2_embs = get_embeddings(df[\"sentence_B_Ja\"].values)\n",
    "sentence1_embs.shape, sentence2_embs.shape"
   ]
  },
  {
   "cell_type": "markdown",
   "id": "e1cb5b79",
   "metadata": {
    "papermill": {
     "duration": 0.003536,
     "end_time": "2024-01-26T13:00:48.138339",
     "exception": false,
     "start_time": "2024-01-26T13:00:48.134803",
     "status": "completed"
    },
    "tags": []
   },
   "source": [
    "## Correlation Score"
   ]
  },
  {
   "cell_type": "code",
   "execution_count": 12,
   "id": "51cd8193",
   "metadata": {
    "execution": {
     "iopub.execute_input": "2024-01-26T13:00:48.150955Z",
     "iopub.status.busy": "2024-01-26T13:00:48.150955Z",
     "iopub.status.idle": "2024-01-26T13:00:48.294763Z",
     "shell.execute_reply": "2024-01-26T13:00:48.293210Z"
    },
    "papermill": {
     "duration": 0.150562,
     "end_time": "2024-01-26T13:00:48.295908",
     "exception": false,
     "start_time": "2024-01-26T13:00:48.145346",
     "status": "completed"
    },
    "tags": []
   },
   "outputs": [
    {
     "data": {
      "text/plain": [
       "0.7895379746155307"
      ]
     },
     "execution_count": 12,
     "metadata": {},
     "output_type": "execute_result"
    }
   ],
   "source": [
    "from scipy.spatial.distance import cosine\n",
    "from scipy.stats import spearmanr\n",
    "\n",
    "df[\"similarity\"] = [\n",
    "    1 - cosine(s1, s2) for s1, s2 in zip(sentence1_embs, sentence2_embs)\n",
    "]\n",
    "jsick_score = spearmanr(df[\"similarity\"], df[\"relatedness_score_Ja\"])[0]\n",
    "jsick_score"
   ]
  },
  {
   "cell_type": "markdown",
   "id": "16fb7d68",
   "metadata": {
    "papermill": {
     "duration": 0.003829,
     "end_time": "2024-01-26T13:00:48.304239",
     "exception": false,
     "start_time": "2024-01-26T13:00:48.300410",
     "status": "completed"
    },
    "tags": []
   },
   "source": [
    "# Miracle\n",
    "* Need access token for huggingface"
   ]
  },
  {
   "cell_type": "code",
   "execution_count": 13,
   "id": "6a48a832",
   "metadata": {
    "execution": {
     "iopub.execute_input": "2024-01-26T13:00:48.316729Z",
     "iopub.status.busy": "2024-01-26T13:00:48.316729Z",
     "iopub.status.idle": "2024-01-26T13:00:48.324264Z",
     "shell.execute_reply": "2024-01-26T13:00:48.323255Z"
    },
    "papermill": {
     "duration": 0.01452,
     "end_time": "2024-01-26T13:00:48.326254",
     "exception": false,
     "start_time": "2024-01-26T13:00:48.311734",
     "status": "completed"
    },
    "tags": []
   },
   "outputs": [
    {
     "data": {
      "text/plain": [
       "True"
      ]
     },
     "execution_count": 13,
     "metadata": {},
     "output_type": "execute_result"
    }
   ],
   "source": [
    "import os\n",
    "import dotenv\n",
    "\n",
    "dotenv.load_dotenv(\"huggingface_access_token\", override=True)"
   ]
  },
  {
   "cell_type": "code",
   "execution_count": 14,
   "id": "5695ba71",
   "metadata": {
    "execution": {
     "iopub.execute_input": "2024-01-26T13:00:48.335778Z",
     "iopub.status.busy": "2024-01-26T13:00:48.334768Z",
     "iopub.status.idle": "2024-01-26T13:00:51.165999Z",
     "shell.execute_reply": "2024-01-26T13:00:51.164990Z"
    },
    "papermill": {
     "duration": 2.836225,
     "end_time": "2024-01-26T13:00:51.166992",
     "exception": false,
     "start_time": "2024-01-26T13:00:48.330767",
     "status": "completed"
    },
    "tags": []
   },
   "outputs": [
    {
     "name": "stderr",
     "output_type": "stream",
     "text": [
      "Found cached dataset miracl (G:/cache/miracl___miracl/ja/1.0.0/f598b4ee332f2b16e82c6c83ab1ba82e1a7777ef82e7ce3c1416f6b20a142313)\n"
     ]
    },
    {
     "data": {
      "text/plain": [
       "Dataset({\n",
       "    features: ['query_id', 'query', 'positive_passages', 'negative_passages'],\n",
       "    num_rows: 860\n",
       "})"
      ]
     },
     "execution_count": 14,
     "metadata": {},
     "output_type": "execute_result"
    }
   ],
   "source": [
    "import datasets\n",
    "\n",
    "# query and positives\n",
    "ds = datasets.load_dataset(\n",
    "    \"miracl/miracl\", \"ja\", use_auth_token=os.environ[\"HF_ACCESS_TOKEN\"], split=\"dev\"\n",
    ")\n",
    "ds"
   ]
  },
  {
   "cell_type": "code",
   "execution_count": 15,
   "id": "7fd24e0f",
   "metadata": {
    "execution": {
     "iopub.execute_input": "2024-01-26T13:00:51.181036Z",
     "iopub.status.busy": "2024-01-26T13:00:51.180040Z",
     "iopub.status.idle": "2024-01-26T13:00:53.186750Z",
     "shell.execute_reply": "2024-01-26T13:00:53.186750Z"
    },
    "papermill": {
     "duration": 2.017761,
     "end_time": "2024-01-26T13:00:53.189260",
     "exception": false,
     "start_time": "2024-01-26T13:00:51.171499",
     "status": "completed"
    },
    "tags": []
   },
   "outputs": [
    {
     "name": "stderr",
     "output_type": "stream",
     "text": [
      "Found cached dataset miracl-corpus (G:/cache/miracl___miracl-corpus/ja/1.0.0/16b566312c83a2e1f94d0813c8702b464b97f6b8959336adf062d289ce9b51fa)\n"
     ]
    },
    {
     "data": {
      "application/vnd.jupyter.widget-view+json": {
       "model_id": "c3eb9dbc88454e89aea69f77a22358a1",
       "version_major": 2,
       "version_minor": 0
      },
      "text/plain": [
       "  0%|          | 0/1 [00:00<?, ?it/s]"
      ]
     },
     "metadata": {},
     "output_type": "display_data"
    },
    {
     "data": {
      "text/plain": [
       "DatasetDict({\n",
       "    train: Dataset({\n",
       "        features: ['docid', 'title', 'text'],\n",
       "        num_rows: 6953614\n",
       "    })\n",
       "})"
      ]
     },
     "execution_count": 15,
     "metadata": {},
     "output_type": "execute_result"
    }
   ],
   "source": [
    "# all corpus texts\n",
    "corpus = datasets.load_dataset(\"miracl/miracl-corpus\", \"ja\")\n",
    "corpus"
   ]
  },
  {
   "cell_type": "code",
   "execution_count": 16,
   "id": "3908ae09",
   "metadata": {
    "execution": {
     "iopub.execute_input": "2024-01-26T13:00:53.203549Z",
     "iopub.status.busy": "2024-01-26T13:00:53.203549Z",
     "iopub.status.idle": "2024-01-26T13:00:53.403400Z",
     "shell.execute_reply": "2024-01-26T13:00:53.402397Z"
    },
    "papermill": {
     "duration": 0.211129,
     "end_time": "2024-01-26T13:00:53.404390",
     "exception": false,
     "start_time": "2024-01-26T13:00:53.193261",
     "status": "completed"
    },
    "tags": []
   },
   "outputs": [
    {
     "data": {
      "text/plain": [
       "(860,\n",
       " ['0', '3', '4', '5', '7'],\n",
       " dict_keys(['docids', 'indices']),\n",
       " ['2681119#0', '2681119#1'],\n",
       " [1393435, 1393436])"
      ]
     },
     "execution_count": 16,
     "metadata": {},
     "output_type": "execute_result"
    }
   ],
   "source": [
    "# hard negatives\n",
    "with open(\"./miracl_hard_negs_1000.json\") as f:\n",
    "    hn = json.loads(f.read())\n",
    "len(hn), list(hn.keys())[:5], hn[\"0\"].keys(), hn[\"0\"][\"docids\"][:2], hn[\"0\"][\"indices\"][\n",
    "    :2\n",
    "]"
   ]
  },
  {
   "cell_type": "code",
   "execution_count": 17,
   "id": "a0aebe98",
   "metadata": {
    "execution": {
     "iopub.execute_input": "2024-01-26T13:00:53.416918Z",
     "iopub.status.busy": "2024-01-26T13:00:53.415910Z",
     "iopub.status.idle": "2024-01-26T13:03:59.300746Z",
     "shell.execute_reply": "2024-01-26T13:03:59.299743Z"
    },
    "papermill": {
     "duration": 185.893841,
     "end_time": "2024-01-26T13:03:59.302742",
     "exception": false,
     "start_time": "2024-01-26T13:00:53.408901",
     "status": "completed"
    },
    "tags": []
   },
   "outputs": [],
   "source": [
    "import numpy as np\n",
    "import pandas as pd\n",
    "from scipy.spatial.distance import cdist\n",
    "\n",
    "\n",
    "def get_text(corpus_item):\n",
    "    return corpus_item[\"title\"] + \" \" + corpus_item[\"text\"]\n",
    "\n",
    "\n",
    "corpus_dict = {item[\"docid\"]: get_text(item) for item in corpus[\"train\"]}"
   ]
  },
  {
   "cell_type": "code",
   "execution_count": 18,
   "id": "baff8eb2",
   "metadata": {
    "execution": {
     "iopub.execute_input": "2024-01-26T13:03:59.314253Z",
     "iopub.status.busy": "2024-01-26T13:03:59.313253Z",
     "iopub.status.idle": "2024-01-26T13:14:11.106657Z",
     "shell.execute_reply": "2024-01-26T13:14:11.104662Z"
    },
    "papermill": {
     "duration": 611.800411,
     "end_time": "2024-01-26T13:14:11.108657",
     "exception": false,
     "start_time": "2024-01-26T13:03:59.308246",
     "status": "completed"
    },
    "tags": []
   },
   "outputs": [
    {
     "data": {
      "text/plain": [
       "(195, 142, 0.7282051282051282)"
      ]
     },
     "execution_count": 18,
     "metadata": {},
     "output_type": "execute_result"
    }
   ],
   "source": [
    "n_total_pos = 0\n",
    "n_total_tp = 0\n",
    "\n",
    "# only evaluate first 100 queries\n",
    "for item in ds.select(range(100)):\n",
    "    # query\n",
    "    query_emb = get_embeddings([query_prefix + item[\"query\"]])\n",
    "\n",
    "    # passages are set(300 hard negatives + positives)\n",
    "    positive_docids = [pp[\"docid\"] for pp in item[\"positive_passages\"]]\n",
    "    positive_texts = [get_text(pp) for pp in item[\"positive_passages\"]]\n",
    "    hn_docids = hn[item[\"query_id\"]][\"docids\"][:miracle_n_hard_negs]\n",
    "\n",
    "    # drop hard negatives in positives\n",
    "    hn_docids = [docid for docid in hn_docids if docid not in positive_docids]\n",
    "\n",
    "    # search target\n",
    "    target_docids = positive_docids + hn_docids\n",
    "    target_texts = positive_texts + [corpus_dict[docid] for docid in hn_docids]\n",
    "\n",
    "    # embedding\n",
    "    tmppath = f'tmp/{model_id}_{dimension}_{item[\"query_id\"]}.npy'\n",
    "    if os.path.exists(tmppath):\n",
    "        target_embs = np.load(tmppath)\n",
    "    else:\n",
    "        # use cache\n",
    "        target_embs = get_embeddings([passage_prefix + text for text in target_texts])\n",
    "        np.save(tmppath, target_embs)\n",
    "\n",
    "    # topK\n",
    "    topk_indices = np.argsort(cdist(query_emb, target_embs, metric=\"cosine\"))[0][\n",
    "        :miracle_n_recall\n",
    "    ]\n",
    "\n",
    "    n_pos = len(positive_docids)\n",
    "    n_tp = len(\n",
    "        set(topk_indices) & set(range(len(positive_docids)))\n",
    "    )  # positives are first indices\n",
    "\n",
    "    n_total_pos += n_pos\n",
    "    n_total_tp += n_tp\n",
    "\n",
    "miracl_recall = n_total_tp / n_total_pos\n",
    "\n",
    "n_total_pos, n_total_tp, miracl_recall"
   ]
  },
  {
   "cell_type": "markdown",
   "id": "906a1a4d",
   "metadata": {
    "papermill": {
     "duration": 0.005,
     "end_time": "2024-01-26T13:14:11.119168",
     "exception": false,
     "start_time": "2024-01-26T13:14:11.114168",
     "status": "completed"
    },
    "tags": []
   },
   "source": [
    "# Output"
   ]
  },
  {
   "cell_type": "code",
   "execution_count": 19,
   "id": "60cb2010",
   "metadata": {
    "execution": {
     "iopub.execute_input": "2024-01-26T13:14:11.133787Z",
     "iopub.status.busy": "2024-01-26T13:14:11.132788Z",
     "iopub.status.idle": "2024-01-26T13:14:11.152362Z",
     "shell.execute_reply": "2024-01-26T13:14:11.151362Z"
    },
    "papermill": {
     "duration": 0.026098,
     "end_time": "2024-01-26T13:14:11.153374",
     "exception": false,
     "start_time": "2024-01-26T13:14:11.127276",
     "status": "completed"
    },
    "tags": []
   },
   "outputs": [
    {
     "data": {
      "text/plain": [
       "('text-embedding-ada-002',\n",
       " 1536,\n",
       " 0.7900532111284366,\n",
       " 0.7895379746155307,\n",
       " 0.7282051282051282)"
      ]
     },
     "execution_count": 19,
     "metadata": {},
     "output_type": "execute_result"
    }
   ],
   "source": [
    "model_id, dimension, jsts_score, jsick_score, miracl_recall"
   ]
  },
  {
   "cell_type": "code",
   "execution_count": 20,
   "id": "39da8336",
   "metadata": {
    "execution": {
     "iopub.execute_input": "2024-01-26T13:14:11.167388Z",
     "iopub.status.busy": "2024-01-26T13:14:11.166387Z",
     "iopub.status.idle": "2024-01-26T13:14:11.182901Z",
     "shell.execute_reply": "2024-01-26T13:14:11.181907Z"
    },
    "papermill": {
     "duration": 0.023511,
     "end_time": "2024-01-26T13:14:11.183898",
     "exception": false,
     "start_time": "2024-01-26T13:14:11.160387",
     "status": "completed"
    },
    "tags": []
   },
   "outputs": [],
   "source": [
    "import json\n",
    "\n",
    "with open(f'./scores/{model_id.replace(\"/\", \"_\")}_{dimension}.txt', \"w\") as f:\n",
    "    f.write(\n",
    "        json.dumps(\n",
    "            {\n",
    "                \"model_id\": model_id,\n",
    "                \"jsts\": jsts_score,\n",
    "                \"jsick\": jsick_score,\n",
    "                \"miracl\": miracl_recall,\n",
    "            }\n",
    "        )\n",
    "    )"
   ]
  }
 ],
 "metadata": {
  "kernelspec": {
   "display_name": "Python 3 (ipykernel)",
   "language": "python",
   "name": "python3"
  },
  "language_info": {
   "codemirror_mode": {
    "name": "ipython",
    "version": 3
   },
   "file_extension": ".py",
   "mimetype": "text/x-python",
   "name": "python",
   "nbconvert_exporter": "python",
   "pygments_lexer": "ipython3",
   "version": "3.9.11"
  },
  "papermill": {
   "default_parameters": {},
   "duration": 946.704959,
   "end_time": "2024-01-26T13:14:12.704121",
   "environment_variables": {},
   "exception": null,
   "input_path": "template_openai.ipynb",
   "output_path": "9_text-embedding-ada-002_1536.ipynb",
   "parameters": {
    "dimension": 1536,
    "model_id": "text-embedding-ada-002"
   },
   "start_time": "2024-01-26T12:58:25.999162",
   "version": "2.4.0"
  },
  "toc": {
   "base_numbering": 1,
   "nav_menu": {},
   "number_sections": true,
   "sideBar": true,
   "skip_h1_title": false,
   "title_cell": "Table of Contents",
   "title_sidebar": "Contents",
   "toc_cell": false,
   "toc_position": {},
   "toc_section_display": true,
   "toc_window_display": false
  },
  "vscode": {
   "interpreter": {
    "hash": "02c2702a58ea2fe60fd5f26dd152a70e7993d77024040a4f035d0ea16923b730"
   }
  },
  "widgets": {
   "application/vnd.jupyter.widget-state+json": {
    "state": {
     "038fb48a7909490ba33ca14c69e8140f": {
      "model_module": "@jupyter-widgets/controls",
      "model_module_version": "2.0.0",
      "model_name": "ProgressStyleModel",
      "state": {
       "_model_module": "@jupyter-widgets/controls",
       "_model_module_version": "2.0.0",
       "_model_name": "ProgressStyleModel",
       "_view_count": null,
       "_view_module": "@jupyter-widgets/base",
       "_view_module_version": "2.0.0",
       "_view_name": "StyleView",
       "bar_color": null,
       "description_width": ""
      }
     },
     "0513dc73135343c3ba51b7aed793d0d9": {
      "model_module": "@jupyter-widgets/base",
      "model_module_version": "2.0.0",
      "model_name": "LayoutModel",
      "state": {
       "_model_module": "@jupyter-widgets/base",
       "_model_module_version": "2.0.0",
       "_model_name": "LayoutModel",
       "_view_count": null,
       "_view_module": "@jupyter-widgets/base",
       "_view_module_version": "2.0.0",
       "_view_name": "LayoutView",
       "align_content": null,
       "align_items": null,
       "align_self": null,
       "border_bottom": null,
       "border_left": null,
       "border_right": null,
       "border_top": null,
       "bottom": null,
       "display": null,
       "flex": null,
       "flex_flow": null,
       "grid_area": null,
       "grid_auto_columns": null,
       "grid_auto_flow": null,
       "grid_auto_rows": null,
       "grid_column": null,
       "grid_gap": null,
       "grid_row": null,
       "grid_template_areas": null,
       "grid_template_columns": null,
       "grid_template_rows": null,
       "height": null,
       "justify_content": null,
       "justify_items": null,
       "left": null,
       "margin": null,
       "max_height": null,
       "max_width": null,
       "min_height": null,
       "min_width": null,
       "object_fit": null,
       "object_position": null,
       "order": null,
       "overflow": null,
       "padding": null,
       "right": null,
       "top": null,
       "visibility": null,
       "width": null
      }
     },
     "113dc7aa81b04506a316f8e9a82fc51b": {
      "model_module": "@jupyter-widgets/base",
      "model_module_version": "2.0.0",
      "model_name": "LayoutModel",
      "state": {
       "_model_module": "@jupyter-widgets/base",
       "_model_module_version": "2.0.0",
       "_model_name": "LayoutModel",
       "_view_count": null,
       "_view_module": "@jupyter-widgets/base",
       "_view_module_version": "2.0.0",
       "_view_name": "LayoutView",
       "align_content": null,
       "align_items": null,
       "align_self": null,
       "border_bottom": null,
       "border_left": null,
       "border_right": null,
       "border_top": null,
       "bottom": null,
       "display": null,
       "flex": null,
       "flex_flow": null,
       "grid_area": null,
       "grid_auto_columns": null,
       "grid_auto_flow": null,
       "grid_auto_rows": null,
       "grid_column": null,
       "grid_gap": null,
       "grid_row": null,
       "grid_template_areas": null,
       "grid_template_columns": null,
       "grid_template_rows": null,
       "height": null,
       "justify_content": null,
       "justify_items": null,
       "left": null,
       "margin": null,
       "max_height": null,
       "max_width": null,
       "min_height": null,
       "min_width": null,
       "object_fit": null,
       "object_position": null,
       "order": null,
       "overflow": null,
       "padding": null,
       "right": null,
       "top": null,
       "visibility": null,
       "width": null
      }
     },
     "3a365555229e40afa25911cf68c48d80": {
      "model_module": "@jupyter-widgets/controls",
      "model_module_version": "2.0.0",
      "model_name": "HTMLModel",
      "state": {
       "_dom_classes": [],
       "_model_module": "@jupyter-widgets/controls",
       "_model_module_version": "2.0.0",
       "_model_name": "HTMLModel",
       "_view_count": null,
       "_view_module": "@jupyter-widgets/controls",
       "_view_module_version": "2.0.0",
       "_view_name": "HTMLView",
       "description": "",
       "description_allow_html": false,
       "layout": "IPY_MODEL_0513dc73135343c3ba51b7aed793d0d9",
       "placeholder": "​",
       "style": "IPY_MODEL_939261e48e8b4e3e8a9b6757aa30cf7d",
       "tabbable": null,
       "tooltip": null,
       "value": "100%"
      }
     },
     "5a6d914f96e3498f8d8a26552cd349fe": {
      "model_module": "@jupyter-widgets/base",
      "model_module_version": "2.0.0",
      "model_name": "LayoutModel",
      "state": {
       "_model_module": "@jupyter-widgets/base",
       "_model_module_version": "2.0.0",
       "_model_name": "LayoutModel",
       "_view_count": null,
       "_view_module": "@jupyter-widgets/base",
       "_view_module_version": "2.0.0",
       "_view_name": "LayoutView",
       "align_content": null,
       "align_items": null,
       "align_self": null,
       "border_bottom": null,
       "border_left": null,
       "border_right": null,
       "border_top": null,
       "bottom": null,
       "display": null,
       "flex": null,
       "flex_flow": null,
       "grid_area": null,
       "grid_auto_columns": null,
       "grid_auto_flow": null,
       "grid_auto_rows": null,
       "grid_column": null,
       "grid_gap": null,
       "grid_row": null,
       "grid_template_areas": null,
       "grid_template_columns": null,
       "grid_template_rows": null,
       "height": null,
       "justify_content": null,
       "justify_items": null,
       "left": null,
       "margin": null,
       "max_height": null,
       "max_width": null,
       "min_height": null,
       "min_width": null,
       "object_fit": null,
       "object_position": null,
       "order": null,
       "overflow": null,
       "padding": null,
       "right": null,
       "top": null,
       "visibility": null,
       "width": null
      }
     },
     "6191e445c956496481f781dfad43e461": {
      "model_module": "@jupyter-widgets/base",
      "model_module_version": "2.0.0",
      "model_name": "LayoutModel",
      "state": {
       "_model_module": "@jupyter-widgets/base",
       "_model_module_version": "2.0.0",
       "_model_name": "LayoutModel",
       "_view_count": null,
       "_view_module": "@jupyter-widgets/base",
       "_view_module_version": "2.0.0",
       "_view_name": "LayoutView",
       "align_content": null,
       "align_items": null,
       "align_self": null,
       "border_bottom": null,
       "border_left": null,
       "border_right": null,
       "border_top": null,
       "bottom": null,
       "display": null,
       "flex": null,
       "flex_flow": null,
       "grid_area": null,
       "grid_auto_columns": null,
       "grid_auto_flow": null,
       "grid_auto_rows": null,
       "grid_column": null,
       "grid_gap": null,
       "grid_row": null,
       "grid_template_areas": null,
       "grid_template_columns": null,
       "grid_template_rows": null,
       "height": null,
       "justify_content": null,
       "justify_items": null,
       "left": null,
       "margin": null,
       "max_height": null,
       "max_width": null,
       "min_height": null,
       "min_width": null,
       "object_fit": null,
       "object_position": null,
       "order": null,
       "overflow": null,
       "padding": null,
       "right": null,
       "top": null,
       "visibility": null,
       "width": null
      }
     },
     "8691f8d3d1e84ee18895417d818b5972": {
      "model_module": "@jupyter-widgets/controls",
      "model_module_version": "2.0.0",
      "model_name": "HTMLStyleModel",
      "state": {
       "_model_module": "@jupyter-widgets/controls",
       "_model_module_version": "2.0.0",
       "_model_name": "HTMLStyleModel",
       "_view_count": null,
       "_view_module": "@jupyter-widgets/base",
       "_view_module_version": "2.0.0",
       "_view_name": "StyleView",
       "background": null,
       "description_width": "",
       "font_size": null,
       "text_color": null
      }
     },
     "939261e48e8b4e3e8a9b6757aa30cf7d": {
      "model_module": "@jupyter-widgets/controls",
      "model_module_version": "2.0.0",
      "model_name": "HTMLStyleModel",
      "state": {
       "_model_module": "@jupyter-widgets/controls",
       "_model_module_version": "2.0.0",
       "_model_name": "HTMLStyleModel",
       "_view_count": null,
       "_view_module": "@jupyter-widgets/base",
       "_view_module_version": "2.0.0",
       "_view_name": "StyleView",
       "background": null,
       "description_width": "",
       "font_size": null,
       "text_color": null
      }
     },
     "a33fde2a471b48b68d2fb8d010719d34": {
      "model_module": "@jupyter-widgets/controls",
      "model_module_version": "2.0.0",
      "model_name": "FloatProgressModel",
      "state": {
       "_dom_classes": [],
       "_model_module": "@jupyter-widgets/controls",
       "_model_module_version": "2.0.0",
       "_model_name": "FloatProgressModel",
       "_view_count": null,
       "_view_module": "@jupyter-widgets/controls",
       "_view_module_version": "2.0.0",
       "_view_name": "ProgressView",
       "bar_style": "success",
       "description": "",
       "description_allow_html": false,
       "layout": "IPY_MODEL_5a6d914f96e3498f8d8a26552cd349fe",
       "max": 1.0,
       "min": 0.0,
       "orientation": "horizontal",
       "style": "IPY_MODEL_038fb48a7909490ba33ca14c69e8140f",
       "tabbable": null,
       "tooltip": null,
       "value": 1.0
      }
     },
     "c3eb9dbc88454e89aea69f77a22358a1": {
      "model_module": "@jupyter-widgets/controls",
      "model_module_version": "2.0.0",
      "model_name": "HBoxModel",
      "state": {
       "_dom_classes": [],
       "_model_module": "@jupyter-widgets/controls",
       "_model_module_version": "2.0.0",
       "_model_name": "HBoxModel",
       "_view_count": null,
       "_view_module": "@jupyter-widgets/controls",
       "_view_module_version": "2.0.0",
       "_view_name": "HBoxView",
       "box_style": "",
       "children": [
        "IPY_MODEL_3a365555229e40afa25911cf68c48d80",
        "IPY_MODEL_a33fde2a471b48b68d2fb8d010719d34",
        "IPY_MODEL_f7197e95e70d4d80880d1f6c241ac56d"
       ],
       "layout": "IPY_MODEL_113dc7aa81b04506a316f8e9a82fc51b",
       "tabbable": null,
       "tooltip": null
      }
     },
     "f7197e95e70d4d80880d1f6c241ac56d": {
      "model_module": "@jupyter-widgets/controls",
      "model_module_version": "2.0.0",
      "model_name": "HTMLModel",
      "state": {
       "_dom_classes": [],
       "_model_module": "@jupyter-widgets/controls",
       "_model_module_version": "2.0.0",
       "_model_name": "HTMLModel",
       "_view_count": null,
       "_view_module": "@jupyter-widgets/controls",
       "_view_module_version": "2.0.0",
       "_view_name": "HTMLView",
       "description": "",
       "description_allow_html": false,
       "layout": "IPY_MODEL_6191e445c956496481f781dfad43e461",
       "placeholder": "​",
       "style": "IPY_MODEL_8691f8d3d1e84ee18895417d818b5972",
       "tabbable": null,
       "tooltip": null,
       "value": " 1/1 [00:00&lt;00:00,  2.72it/s]"
      }
     }
    },
    "version_major": 2,
    "version_minor": 0
   }
  }
 },
 "nbformat": 4,
 "nbformat_minor": 5
}