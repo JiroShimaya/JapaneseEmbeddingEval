{
 "cells": [
  {
   "cell_type": "code",
   "execution_count": 1,
   "id": "172bcc9a",
   "metadata": {
    "ExecuteTime": {
     "end_time": "2023-10-07T08:50:45.949996Z",
     "start_time": "2023-10-07T08:50:44.497041Z"
    },
    "execution": {
     "iopub.execute_input": "2023-10-08T11:45:50.388911Z",
     "iopub.status.busy": "2023-10-08T11:45:50.388911Z",
     "iopub.status.idle": "2023-10-08T11:45:51.775314Z",
     "shell.execute_reply": "2023-10-08T11:45:51.775314Z"
    },
    "papermill": {
     "duration": 1.393412,
     "end_time": "2023-10-08T11:45:51.777329",
     "exception": false,
     "start_time": "2023-10-08T11:45:50.383917",
     "status": "completed"
    },
    "tags": []
   },
   "outputs": [
    {
     "data": {
      "text/plain": [
       "True"
      ]
     },
     "execution_count": 1,
     "metadata": {},
     "output_type": "execute_result"
    }
   ],
   "source": [
    "import torch\n",
    "\n",
    "torch.cuda.is_available()"
   ]
  },
  {
   "cell_type": "code",
   "execution_count": 2,
   "id": "fdae75e7",
   "metadata": {
    "ExecuteTime": {
     "end_time": "2023-10-07T08:50:45.965421Z",
     "start_time": "2023-10-07T08:50:45.951998Z"
    },
    "execution": {
     "iopub.execute_input": "2023-10-08T11:45:51.785283Z",
     "iopub.status.busy": "2023-10-08T11:45:51.785283Z",
     "iopub.status.idle": "2023-10-08T11:45:51.792283Z",
     "shell.execute_reply": "2023-10-08T11:45:51.791293Z"
    },
    "papermill": {
     "duration": 0.012263,
     "end_time": "2023-10-08T11:45:51.793545",
     "exception": false,
     "start_time": "2023-10-08T11:45:51.781282",
     "status": "completed"
    },
    "tags": [
     "parameters"
    ]
   },
   "outputs": [],
   "source": [
    "jsts_url = \"https://raw.githubusercontent.com/yahoojapan/JGLUE/main/datasets/jsts-v1.1/valid-v1.1.json\"\n",
    "jsick_url = \"https://github.com/verypluming/JSICK/raw/main/jsick/test.tsv\"\n",
    "miracle_n_hard_negs = 300\n",
    "miracle_n_recall = 30"
   ]
  },
  {
   "cell_type": "code",
   "execution_count": 3,
   "id": "bed9f643",
   "metadata": {
    "execution": {
     "iopub.execute_input": "2023-10-08T11:45:51.799553Z",
     "iopub.status.busy": "2023-10-08T11:45:51.799553Z",
     "iopub.status.idle": "2023-10-08T11:45:51.806999Z",
     "shell.execute_reply": "2023-10-08T11:45:51.805983Z"
    },
    "papermill": {
     "duration": 0.012397,
     "end_time": "2023-10-08T11:45:51.807948",
     "exception": false,
     "start_time": "2023-10-08T11:45:51.795551",
     "status": "completed"
    },
    "tags": [
     "injected-parameters"
    ]
   },
   "outputs": [],
   "source": [
    "# Parameters\n",
    "model_id = \"cl-nagoya/unsup-simcse-ja-large\"\n",
    "query_prefix = \"\"\n",
    "passage_prefix = \"\"\n"
   ]
  },
  {
   "cell_type": "markdown",
   "id": "1f0ba3fc",
   "metadata": {
    "papermill": {
     "duration": 0.003349,
     "end_time": "2023-10-08T11:45:51.814306",
     "exception": false,
     "start_time": "2023-10-08T11:45:51.810957",
     "status": "completed"
    },
    "tags": []
   },
   "source": [
    "# Model"
   ]
  },
  {
   "cell_type": "code",
   "execution_count": 4,
   "id": "9905fe34",
   "metadata": {
    "ExecuteTime": {
     "end_time": "2023-10-07T08:50:53.766453Z",
     "start_time": "2023-10-07T08:50:51.631864Z"
    },
    "execution": {
     "iopub.execute_input": "2023-10-08T11:45:51.822314Z",
     "iopub.status.busy": "2023-10-08T11:45:51.821314Z",
     "iopub.status.idle": "2023-10-08T11:45:56.169635Z",
     "shell.execute_reply": "2023-10-08T11:45:56.168634Z"
    },
    "papermill": {
     "duration": 4.353322,
     "end_time": "2023-10-08T11:45:56.170634",
     "exception": false,
     "start_time": "2023-10-08T11:45:51.817312",
     "status": "completed"
    },
    "tags": []
   },
   "outputs": [],
   "source": [
    "from sentence_transformers import SentenceTransformer\n",
    "\n",
    "model = SentenceTransformer(model_id)\n",
    "model.max_seq_length = 512"
   ]
  },
  {
   "cell_type": "markdown",
   "id": "97b08ce2",
   "metadata": {
    "papermill": {
     "duration": 0.005999,
     "end_time": "2023-10-08T11:45:56.181634",
     "exception": false,
     "start_time": "2023-10-08T11:45:56.175635",
     "status": "completed"
    },
    "tags": []
   },
   "source": [
    "# JSTS"
   ]
  },
  {
   "cell_type": "code",
   "execution_count": 5,
   "id": "84ab08be",
   "metadata": {
    "ExecuteTime": {
     "end_time": "2023-10-07T08:50:54.215161Z",
     "start_time": "2023-10-07T08:50:53.767452Z"
    },
    "execution": {
     "iopub.execute_input": "2023-10-08T11:45:56.192633Z",
     "iopub.status.busy": "2023-10-08T11:45:56.191633Z",
     "iopub.status.idle": "2023-10-08T11:45:56.976726Z",
     "shell.execute_reply": "2023-10-08T11:45:56.976726Z"
    },
    "papermill": {
     "duration": 0.793101,
     "end_time": "2023-10-08T11:45:56.978734",
     "exception": false,
     "start_time": "2023-10-08T11:45:56.185633",
     "status": "completed"
    },
    "tags": []
   },
   "outputs": [
    {
     "data": {
      "text/html": [
       "<div>\n",
       "<style scoped>\n",
       "    .dataframe tbody tr th:only-of-type {\n",
       "        vertical-align: middle;\n",
       "    }\n",
       "\n",
       "    .dataframe tbody tr th {\n",
       "        vertical-align: top;\n",
       "    }\n",
       "\n",
       "    .dataframe thead th {\n",
       "        text-align: right;\n",
       "    }\n",
       "</style>\n",
       "<table border=\"1\" class=\"dataframe\">\n",
       "  <thead>\n",
       "    <tr style=\"text-align: right;\">\n",
       "      <th></th>\n",
       "      <th>sentence_pair_id</th>\n",
       "      <th>yjcaptions_id</th>\n",
       "      <th>sentence1</th>\n",
       "      <th>sentence2</th>\n",
       "      <th>label</th>\n",
       "    </tr>\n",
       "  </thead>\n",
       "  <tbody>\n",
       "    <tr>\n",
       "      <th>0</th>\n",
       "      <td>0</td>\n",
       "      <td>100312_421853-104611-31624</td>\n",
       "      <td>レンガの建物の前を、乳母車を押した女性が歩いています。</td>\n",
       "      <td>厩舎で馬と女性とが寄り添っています。</td>\n",
       "      <td>0.0</td>\n",
       "    </tr>\n",
       "  </tbody>\n",
       "</table>\n",
       "</div>"
      ],
      "text/plain": [
       "  sentence_pair_id               yjcaptions_id                    sentence1  \\\n",
       "0                0  100312_421853-104611-31624  レンガの建物の前を、乳母車を押した女性が歩いています。   \n",
       "\n",
       "            sentence2  label  \n",
       "0  厩舎で馬と女性とが寄り添っています。    0.0  "
      ]
     },
     "execution_count": 5,
     "metadata": {},
     "output_type": "execute_result"
    }
   ],
   "source": [
    "import json\n",
    "import pandas as pd\n",
    "from urllib.request import urlopen\n",
    "\n",
    "df = pd.DataFrame([json.loads(line) for line in urlopen(jsts_url).readlines()])\n",
    "df.head(1)"
   ]
  },
  {
   "cell_type": "code",
   "execution_count": 6,
   "id": "1a361096",
   "metadata": {
    "ExecuteTime": {
     "end_time": "2023-10-07T08:50:54.230679Z",
     "start_time": "2023-10-07T08:50:54.218161Z"
    },
    "execution": {
     "iopub.execute_input": "2023-10-08T11:45:56.986730Z",
     "iopub.status.busy": "2023-10-08T11:45:56.986730Z",
     "iopub.status.idle": "2023-10-08T11:45:56.992733Z",
     "shell.execute_reply": "2023-10-08T11:45:56.992733Z"
    },
    "papermill": {
     "duration": 0.011012,
     "end_time": "2023-10-08T11:45:56.993740",
     "exception": false,
     "start_time": "2023-10-08T11:45:56.982728",
     "status": "completed"
    },
    "tags": []
   },
   "outputs": [
    {
     "data": {
      "text/plain": [
       "(1457, 5)"
      ]
     },
     "execution_count": 6,
     "metadata": {},
     "output_type": "execute_result"
    }
   ],
   "source": [
    "df.shape"
   ]
  },
  {
   "cell_type": "markdown",
   "id": "be2dd706",
   "metadata": {
    "papermill": {
     "duration": 0.003,
     "end_time": "2023-10-08T11:45:57.000727",
     "exception": false,
     "start_time": "2023-10-08T11:45:56.997727",
     "status": "completed"
    },
    "tags": []
   },
   "source": [
    "## Encode"
   ]
  },
  {
   "cell_type": "code",
   "execution_count": 7,
   "id": "e61d5818",
   "metadata": {
    "ExecuteTime": {
     "end_time": "2023-10-07T08:50:57.800419Z",
     "start_time": "2023-10-07T08:50:54.234207Z"
    },
    "execution": {
     "iopub.execute_input": "2023-10-08T11:45:57.008733Z",
     "iopub.status.busy": "2023-10-08T11:45:57.008733Z",
     "iopub.status.idle": "2023-10-08T11:46:03.466573Z",
     "shell.execute_reply": "2023-10-08T11:46:03.466573Z"
    },
    "papermill": {
     "duration": 6.464843,
     "end_time": "2023-10-08T11:46:03.468576",
     "exception": false,
     "start_time": "2023-10-08T11:45:57.003733",
     "status": "completed"
    },
    "tags": []
   },
   "outputs": [
    {
     "data": {
      "text/plain": [
       "((1457, 1024), (1457, 1024))"
      ]
     },
     "execution_count": 7,
     "metadata": {},
     "output_type": "execute_result"
    }
   ],
   "source": [
    "sentence1_embs = model.encode(query_prefix + df[\"sentence1\"])\n",
    "sentence2_embs = model.encode(query_prefix + df[\"sentence2\"])\n",
    "sentence1_embs.shape, sentence2_embs.shape"
   ]
  },
  {
   "cell_type": "markdown",
   "id": "659c77c7",
   "metadata": {
    "papermill": {
     "duration": 0.003997,
     "end_time": "2023-10-08T11:46:03.476570",
     "exception": false,
     "start_time": "2023-10-08T11:46:03.472573",
     "status": "completed"
    },
    "tags": []
   },
   "source": [
    "## Correlation Score"
   ]
  },
  {
   "cell_type": "code",
   "execution_count": 8,
   "id": "126bba43",
   "metadata": {
    "ExecuteTime": {
     "end_time": "2023-10-07T08:50:57.847350Z",
     "start_time": "2023-10-07T08:50:57.801925Z"
    },
    "execution": {
     "iopub.execute_input": "2023-10-08T11:46:03.484600Z",
     "iopub.status.busy": "2023-10-08T11:46:03.484600Z",
     "iopub.status.idle": "2023-10-08T11:46:03.529565Z",
     "shell.execute_reply": "2023-10-08T11:46:03.529565Z"
    },
    "papermill": {
     "duration": 0.050975,
     "end_time": "2023-10-08T11:46:03.530575",
     "exception": false,
     "start_time": "2023-10-08T11:46:03.479600",
     "status": "completed"
    },
    "tags": []
   },
   "outputs": [
    {
     "data": {
      "text/plain": [
       "0.8140937834922891"
      ]
     },
     "execution_count": 8,
     "metadata": {},
     "output_type": "execute_result"
    }
   ],
   "source": [
    "from scipy.spatial.distance import cosine, euclidean\n",
    "from scipy.stats import spearmanr\n",
    "\n",
    "df[\"similarity\"] = [\n",
    "    1 - cosine(s1, s2) for s1, s2 in zip(sentence1_embs, sentence2_embs)\n",
    "]\n",
    "jsts_score = spearmanr(df[\"similarity\"], df[\"label\"])[0]\n",
    "jsts_score"
   ]
  },
  {
   "cell_type": "markdown",
   "id": "36fa6493",
   "metadata": {
    "papermill": {
     "duration": 0.002997,
     "end_time": "2023-10-08T11:46:03.537574",
     "exception": false,
     "start_time": "2023-10-08T11:46:03.534577",
     "status": "completed"
    },
    "tags": []
   },
   "source": [
    "# JSICK"
   ]
  },
  {
   "cell_type": "code",
   "execution_count": 9,
   "id": "e8da0ebd",
   "metadata": {
    "ExecuteTime": {
     "end_time": "2023-10-07T08:51:00.645301Z",
     "start_time": "2023-10-07T08:51:00.119204Z"
    },
    "execution": {
     "iopub.execute_input": "2023-10-08T11:46:03.547135Z",
     "iopub.status.busy": "2023-10-08T11:46:03.547135Z",
     "iopub.status.idle": "2023-10-08T11:46:04.339706Z",
     "shell.execute_reply": "2023-10-08T11:46:04.338706Z"
    },
    "papermill": {
     "duration": 0.79914,
     "end_time": "2023-10-08T11:46:04.341706",
     "exception": false,
     "start_time": "2023-10-08T11:46:03.542566",
     "status": "completed"
    },
    "tags": []
   },
   "outputs": [
    {
     "data": {
      "text/html": [
       "<div>\n",
       "<style scoped>\n",
       "    .dataframe tbody tr th:only-of-type {\n",
       "        vertical-align: middle;\n",
       "    }\n",
       "\n",
       "    .dataframe tbody tr th {\n",
       "        vertical-align: top;\n",
       "    }\n",
       "\n",
       "    .dataframe thead th {\n",
       "        text-align: right;\n",
       "    }\n",
       "</style>\n",
       "<table border=\"1\" class=\"dataframe\">\n",
       "  <thead>\n",
       "    <tr style=\"text-align: right;\">\n",
       "      <th></th>\n",
       "      <th>pair_ID</th>\n",
       "      <th>data</th>\n",
       "      <th>sentence_A_En</th>\n",
       "      <th>sentence_B_En</th>\n",
       "      <th>entailment_label_En</th>\n",
       "      <th>relatedness_score_En</th>\n",
       "      <th>corr_entailment_labelAB_En</th>\n",
       "      <th>corr_entailment_labelBA_En</th>\n",
       "      <th>sentence_A_Ja</th>\n",
       "      <th>sentence_B_Ja</th>\n",
       "      <th>entailment_label_Ja</th>\n",
       "      <th>relatedness_score_Ja</th>\n",
       "      <th>image_ID</th>\n",
       "      <th>original_caption</th>\n",
       "      <th>semtag_short</th>\n",
       "      <th>semtag_long</th>\n",
       "    </tr>\n",
       "  </thead>\n",
       "  <tbody>\n",
       "    <tr>\n",
       "      <th>0</th>\n",
       "      <td>6</td>\n",
       "      <td>test</td>\n",
       "      <td>There is no boy playing outdoors and there is ...</td>\n",
       "      <td>A group of kids is playing in a yard and an ol...</td>\n",
       "      <td>neutral</td>\n",
       "      <td>3.3</td>\n",
       "      <td>NaN</td>\n",
       "      <td>NaN</td>\n",
       "      <td>戸外で遊んでいる男の子は一人もおらず、微笑んでいる男性は一人もいない</td>\n",
       "      <td>子供たちのグループが庭で遊んでいて、後ろの方には年を取った男性が立っている</td>\n",
       "      <td>contradiction</td>\n",
       "      <td>2.3</td>\n",
       "      <td>3155657768_b83a7831e5.jpg</td>\n",
       "      <td>The children are playing outdoors , while a ma...</td>\n",
       "      <td>Negation#Numerical</td>\n",
       "      <td>Numerical;人;名詞,接尾,助数詞,*#Negation;ない;助動詞,*,*,*#...</td>\n",
       "    </tr>\n",
       "  </tbody>\n",
       "</table>\n",
       "</div>"
      ],
      "text/plain": [
       "   pair_ID  data                                      sentence_A_En  \\\n",
       "0        6  test  There is no boy playing outdoors and there is ...   \n",
       "\n",
       "                                       sentence_B_En entailment_label_En  \\\n",
       "0  A group of kids is playing in a yard and an ol...             neutral   \n",
       "\n",
       "   relatedness_score_En corr_entailment_labelAB_En corr_entailment_labelBA_En  \\\n",
       "0                   3.3                        NaN                        NaN   \n",
       "\n",
       "                        sentence_A_Ja                          sentence_B_Ja  \\\n",
       "0  戸外で遊んでいる男の子は一人もおらず、微笑んでいる男性は一人もいない  子供たちのグループが庭で遊んでいて、後ろの方には年を取った男性が立っている   \n",
       "\n",
       "  entailment_label_Ja  relatedness_score_Ja                   image_ID  \\\n",
       "0       contradiction                   2.3  3155657768_b83a7831e5.jpg   \n",
       "\n",
       "                                    original_caption        semtag_short  \\\n",
       "0  The children are playing outdoors , while a ma...  Negation#Numerical   \n",
       "\n",
       "                                         semtag_long  \n",
       "0  Numerical;人;名詞,接尾,助数詞,*#Negation;ない;助動詞,*,*,*#...  "
      ]
     },
     "execution_count": 9,
     "metadata": {},
     "output_type": "execute_result"
    }
   ],
   "source": [
    "df = pd.read_csv(jsick_url, sep=\"\\t\")\n",
    "df.head(1)"
   ]
  },
  {
   "cell_type": "code",
   "execution_count": 10,
   "id": "88492c8d",
   "metadata": {
    "ExecuteTime": {
     "end_time": "2023-10-07T08:51:00.660322Z",
     "start_time": "2023-10-07T08:51:00.647809Z"
    },
    "execution": {
     "iopub.execute_input": "2023-10-08T11:46:04.352706Z",
     "iopub.status.busy": "2023-10-08T11:46:04.351705Z",
     "iopub.status.idle": "2023-10-08T11:46:04.369707Z",
     "shell.execute_reply": "2023-10-08T11:46:04.368706Z"
    },
    "papermill": {
     "duration": 0.024005,
     "end_time": "2023-10-08T11:46:04.370709",
     "exception": false,
     "start_time": "2023-10-08T11:46:04.346704",
     "status": "completed"
    },
    "tags": []
   },
   "outputs": [
    {
     "data": {
      "text/plain": [
       "(4927, 16)"
      ]
     },
     "execution_count": 10,
     "metadata": {},
     "output_type": "execute_result"
    }
   ],
   "source": [
    "df.shape"
   ]
  },
  {
   "cell_type": "markdown",
   "id": "f2919f20",
   "metadata": {
    "papermill": {
     "duration": 0.003994,
     "end_time": "2023-10-08T11:46:04.379703",
     "exception": false,
     "start_time": "2023-10-08T11:46:04.375709",
     "status": "completed"
    },
    "tags": []
   },
   "source": [
    "## Encode"
   ]
  },
  {
   "cell_type": "code",
   "execution_count": 11,
   "id": "4a354677",
   "metadata": {
    "ExecuteTime": {
     "end_time": "2023-10-07T08:51:06.645910Z",
     "start_time": "2023-10-07T08:51:01.623993Z"
    },
    "execution": {
     "iopub.execute_input": "2023-10-08T11:46:04.390706Z",
     "iopub.status.busy": "2023-10-08T11:46:04.389710Z",
     "iopub.status.idle": "2023-10-08T11:46:16.009067Z",
     "shell.execute_reply": "2023-10-08T11:46:16.008056Z"
    },
    "papermill": {
     "duration": 11.626319,
     "end_time": "2023-10-08T11:46:16.010022",
     "exception": false,
     "start_time": "2023-10-08T11:46:04.383703",
     "status": "completed"
    },
    "tags": []
   },
   "outputs": [
    {
     "data": {
      "text/plain": [
       "((4927, 1024), (4927, 1024))"
      ]
     },
     "execution_count": 11,
     "metadata": {},
     "output_type": "execute_result"
    }
   ],
   "source": [
    "sentence1_embs = model.encode(query_prefix + df[\"sentence_A_Ja\"])\n",
    "sentence2_embs = model.encode(query_prefix + df[\"sentence_B_Ja\"])\n",
    "sentence1_embs.shape, sentence2_embs.shape"
   ]
  },
  {
   "cell_type": "markdown",
   "id": "b22b18d0",
   "metadata": {
    "papermill": {
     "duration": 0.004001,
     "end_time": "2023-10-08T11:46:16.018022",
     "exception": false,
     "start_time": "2023-10-08T11:46:16.014021",
     "status": "completed"
    },
    "tags": []
   },
   "source": [
    "## Correlation Score"
   ]
  },
  {
   "cell_type": "code",
   "execution_count": 12,
   "id": "331428ea",
   "metadata": {
    "execution": {
     "iopub.execute_input": "2023-10-08T11:46:16.028073Z",
     "iopub.status.busy": "2023-10-08T11:46:16.028073Z",
     "iopub.status.idle": "2023-10-08T11:46:16.165253Z",
     "shell.execute_reply": "2023-10-08T11:46:16.165253Z"
    },
    "papermill": {
     "duration": 0.144228,
     "end_time": "2023-10-08T11:46:16.167253",
     "exception": false,
     "start_time": "2023-10-08T11:46:16.023025",
     "status": "completed"
    },
    "tags": []
   },
   "outputs": [
    {
     "data": {
      "text/plain": [
       "0.796143814041561"
      ]
     },
     "execution_count": 12,
     "metadata": {},
     "output_type": "execute_result"
    }
   ],
   "source": [
    "from scipy.spatial.distance import cosine\n",
    "from scipy.stats import spearmanr\n",
    "\n",
    "df[\"similarity\"] = [\n",
    "    1 - cosine(s1, s2) for s1, s2 in zip(sentence1_embs, sentence2_embs)\n",
    "]\n",
    "jsick_score = spearmanr(df[\"similarity\"], df[\"relatedness_score_Ja\"])[0]\n",
    "jsick_score"
   ]
  },
  {
   "cell_type": "markdown",
   "id": "3107b1b6",
   "metadata": {
    "papermill": {
     "duration": 0.004,
     "end_time": "2023-10-08T11:46:16.175253",
     "exception": false,
     "start_time": "2023-10-08T11:46:16.171253",
     "status": "completed"
    },
    "tags": []
   },
   "source": [
    "# Miracle\n",
    "* Need access token for huggingface"
   ]
  },
  {
   "cell_type": "code",
   "execution_count": 13,
   "id": "ae40a931",
   "metadata": {
    "execution": {
     "iopub.execute_input": "2023-10-08T11:46:16.186254Z",
     "iopub.status.busy": "2023-10-08T11:46:16.186254Z",
     "iopub.status.idle": "2023-10-08T11:46:16.197260Z",
     "shell.execute_reply": "2023-10-08T11:46:16.197260Z"
    },
    "papermill": {
     "duration": 0.017014,
     "end_time": "2023-10-08T11:46:16.198268",
     "exception": false,
     "start_time": "2023-10-08T11:46:16.181254",
     "status": "completed"
    },
    "tags": []
   },
   "outputs": [
    {
     "data": {
      "text/plain": [
       "True"
      ]
     },
     "execution_count": 13,
     "metadata": {},
     "output_type": "execute_result"
    }
   ],
   "source": [
    "import os\n",
    "import dotenv\n",
    "\n",
    "dotenv.load_dotenv(\"huggingface_access_token\", override=True)"
   ]
  },
  {
   "cell_type": "code",
   "execution_count": 14,
   "id": "8c9b4f84",
   "metadata": {
    "execution": {
     "iopub.execute_input": "2023-10-08T11:46:16.208255Z",
     "iopub.status.busy": "2023-10-08T11:46:16.207267Z",
     "iopub.status.idle": "2023-10-08T11:46:18.542403Z",
     "shell.execute_reply": "2023-10-08T11:46:18.542403Z"
    },
    "papermill": {
     "duration": 2.341025,
     "end_time": "2023-10-08T11:46:18.543287",
     "exception": false,
     "start_time": "2023-10-08T11:46:16.202262",
     "status": "completed"
    },
    "tags": []
   },
   "outputs": [
    {
     "name": "stderr",
     "output_type": "stream",
     "text": [
      "Found cached dataset miracl (G:/cache/miracl___miracl/ja/1.0.0/f598b4ee332f2b16e82c6c83ab1ba82e1a7777ef82e7ce3c1416f6b20a142313)\n"
     ]
    },
    {
     "data": {
      "text/plain": [
       "Dataset({\n",
       "    features: ['query_id', 'query', 'positive_passages', 'negative_passages'],\n",
       "    num_rows: 860\n",
       "})"
      ]
     },
     "execution_count": 14,
     "metadata": {},
     "output_type": "execute_result"
    }
   ],
   "source": [
    "import datasets\n",
    "\n",
    "# query and positives\n",
    "ds = datasets.load_dataset(\n",
    "    \"miracl/miracl\", \"ja\", use_auth_token=os.environ[\"HF_ACCESS_TOKEN\"], split=\"dev\"\n",
    ")\n",
    "ds"
   ]
  },
  {
   "cell_type": "code",
   "execution_count": 15,
   "id": "e837f325",
   "metadata": {
    "execution": {
     "iopub.execute_input": "2023-10-08T11:46:18.553824Z",
     "iopub.status.busy": "2023-10-08T11:46:18.552827Z",
     "iopub.status.idle": "2023-10-08T11:46:20.878776Z",
     "shell.execute_reply": "2023-10-08T11:46:20.878776Z"
    },
    "papermill": {
     "duration": 2.331984,
     "end_time": "2023-10-08T11:46:20.880804",
     "exception": false,
     "start_time": "2023-10-08T11:46:18.548820",
     "status": "completed"
    },
    "tags": []
   },
   "outputs": [
    {
     "name": "stderr",
     "output_type": "stream",
     "text": [
      "Found cached dataset miracl-corpus (G:/cache/miracl___miracl-corpus/ja/1.0.0/16b566312c83a2e1f94d0813c8702b464b97f6b8959336adf062d289ce9b51fa)\n"
     ]
    },
    {
     "data": {
      "application/vnd.jupyter.widget-view+json": {
       "model_id": "5ce940b5ad4b41c0b07382fb01df2e10",
       "version_major": 2,
       "version_minor": 0
      },
      "text/plain": [
       "  0%|          | 0/1 [00:00<?, ?it/s]"
      ]
     },
     "metadata": {},
     "output_type": "display_data"
    },
    {
     "data": {
      "text/plain": [
       "DatasetDict({\n",
       "    train: Dataset({\n",
       "        features: ['docid', 'title', 'text'],\n",
       "        num_rows: 6953614\n",
       "    })\n",
       "})"
      ]
     },
     "execution_count": 15,
     "metadata": {},
     "output_type": "execute_result"
    }
   ],
   "source": [
    "# all corpus texts\n",
    "corpus = datasets.load_dataset(\"miracl/miracl-corpus\", \"ja\")\n",
    "corpus"
   ]
  },
  {
   "cell_type": "code",
   "execution_count": 16,
   "id": "71dae5e8",
   "metadata": {
    "execution": {
     "iopub.execute_input": "2023-10-08T11:46:20.890776Z",
     "iopub.status.busy": "2023-10-08T11:46:20.889775Z",
     "iopub.status.idle": "2023-10-08T11:46:21.053876Z",
     "shell.execute_reply": "2023-10-08T11:46:21.053876Z"
    },
    "papermill": {
     "duration": 0.171039,
     "end_time": "2023-10-08T11:46:21.055840",
     "exception": false,
     "start_time": "2023-10-08T11:46:20.884801",
     "status": "completed"
    },
    "tags": []
   },
   "outputs": [
    {
     "data": {
      "text/plain": [
       "(860,\n",
       " ['0', '3', '4', '5', '7'],\n",
       " dict_keys(['docids', 'indices']),\n",
       " ['2681119#0', '2681119#1'],\n",
       " [1393435, 1393436])"
      ]
     },
     "execution_count": 16,
     "metadata": {},
     "output_type": "execute_result"
    }
   ],
   "source": [
    "# hard negatives\n",
    "with open(\"./miracl_hard_negs_1000.json\") as f:\n",
    "    hn = json.loads(f.read())\n",
    "len(hn), list(hn.keys())[:5], hn[\"0\"].keys(), hn[\"0\"][\"docids\"][:2], hn[\"0\"][\"indices\"][\n",
    "    :2\n",
    "]"
   ]
  },
  {
   "cell_type": "code",
   "execution_count": 17,
   "id": "41b18e26",
   "metadata": {
    "execution": {
     "iopub.execute_input": "2023-10-08T11:46:21.065839Z",
     "iopub.status.busy": "2023-10-08T11:46:21.065839Z",
     "iopub.status.idle": "2023-10-08T12:35:00.315572Z",
     "shell.execute_reply": "2023-10-08T12:35:00.314586Z"
    },
    "papermill": {
     "duration": 2919.256042,
     "end_time": "2023-10-08T12:35:00.316879",
     "exception": false,
     "start_time": "2023-10-08T11:46:21.060837",
     "status": "completed"
    },
    "tags": []
   },
   "outputs": [
    {
     "data": {
      "text/plain": [
       "(1790, 869, 0.48547486033519555)"
      ]
     },
     "execution_count": 17,
     "metadata": {},
     "output_type": "execute_result"
    }
   ],
   "source": [
    "import numpy as np\n",
    "import pandas as pd\n",
    "from scipy.spatial.distance import cdist\n",
    "\n",
    "\n",
    "def get_text(corpus_item):\n",
    "    return corpus_item[\"title\"] + \" \" + corpus_item[\"text\"]\n",
    "\n",
    "\n",
    "n_total_pos = 0\n",
    "n_total_tp = 0\n",
    "\n",
    "for item in ds:\n",
    "    # query\n",
    "    query_emb = model.encode([query_prefix + item[\"query\"]])\n",
    "\n",
    "    # passages are set(300 hard negatives + positives)\n",
    "    positive_docids = [pp[\"docid\"] for pp in item[\"positive_passages\"]]\n",
    "    positive_texts = [get_text(pp) for pp in item[\"positive_passages\"]]\n",
    "    hn_docids = hn[item[\"query_id\"]][\"docids\"][:miracle_n_hard_negs]\n",
    "    hn_indices = hn[item[\"query_id\"]][\"indices\"][:miracle_n_hard_negs]\n",
    "\n",
    "    # drop hard negatives in positives\n",
    "    indices_to_keep = [\n",
    "        i for i, docid in enumerate(hn_docids) if docid not in positive_docids\n",
    "    ]\n",
    "    hn_docids = [hn_docids[i] for i in indices_to_keep]\n",
    "    hn_indices = [hn_indices[i] for i in indices_to_keep]\n",
    "\n",
    "    # search target\n",
    "    target_docids = positive_docids + hn_docids\n",
    "    target_texts = positive_texts + [\n",
    "        get_text(corpus[\"train\"][idx]) for idx in hn_indices\n",
    "    ]\n",
    "\n",
    "    assert set([corpus[\"train\"][idx][\"docid\"] for idx in hn_indices]) == set(hn_docids)\n",
    "\n",
    "    # embedding\n",
    "    target_embs = model.encode([passage_prefix + text for text in target_texts])\n",
    "\n",
    "    # topK\n",
    "    topk_indices = np.argsort(cdist(query_emb, target_embs, metric=\"cosine\"))[0][\n",
    "        :miracle_n_recall\n",
    "    ]\n",
    "\n",
    "    n_pos = len(positive_docids)\n",
    "    n_tp = len(\n",
    "        set(topk_indices) & set(range(len(positive_docids)))\n",
    "    )  # positives are first indices\n",
    "\n",
    "    n_total_pos += n_pos\n",
    "    n_total_tp += n_tp\n",
    "\n",
    "    # if n_pos > n_tp:\n",
    "    # print(f\"{item['query_id']}:{n_tp}/{n_pos}\", end=\", \")\n",
    "\n",
    "miracl_recall = n_total_tp / n_total_pos\n",
    "\n",
    "n_total_pos, n_total_tp, miracl_recall"
   ]
  },
  {
   "cell_type": "markdown",
   "id": "aae96da6",
   "metadata": {
    "papermill": {
     "duration": 0.004574,
     "end_time": "2023-10-08T12:35:00.326982",
     "exception": false,
     "start_time": "2023-10-08T12:35:00.322408",
     "status": "completed"
    },
    "tags": []
   },
   "source": [
    "# Output"
   ]
  },
  {
   "cell_type": "code",
   "execution_count": 18,
   "id": "ff14a8b2",
   "metadata": {
    "execution": {
     "iopub.execute_input": "2023-10-08T12:35:00.339493Z",
     "iopub.status.busy": "2023-10-08T12:35:00.338498Z",
     "iopub.status.idle": "2023-10-08T12:35:00.345527Z",
     "shell.execute_reply": "2023-10-08T12:35:00.345527Z"
    },
    "papermill": {
     "duration": 0.014594,
     "end_time": "2023-10-08T12:35:00.346612",
     "exception": false,
     "start_time": "2023-10-08T12:35:00.332018",
     "status": "completed"
    },
    "tags": []
   },
   "outputs": [
    {
     "data": {
      "text/plain": [
       "('cl-nagoya/unsup-simcse-ja-large',\n",
       " 0.8140937834922891,\n",
       " 0.796143814041561,\n",
       " 0.48547486033519555)"
      ]
     },
     "execution_count": 18,
     "metadata": {},
     "output_type": "execute_result"
    }
   ],
   "source": [
    "model_id, jsts_score, jsick_score, miracl_recall"
   ]
  },
  {
   "cell_type": "code",
   "execution_count": 19,
   "id": "09da15ce",
   "metadata": {
    "execution": {
     "iopub.execute_input": "2023-10-08T12:35:00.358127Z",
     "iopub.status.busy": "2023-10-08T12:35:00.357131Z",
     "iopub.status.idle": "2023-10-08T12:35:00.361137Z",
     "shell.execute_reply": "2023-10-08T12:35:00.361137Z"
    },
    "papermill": {
     "duration": 0.010517,
     "end_time": "2023-10-08T12:35:00.362128",
     "exception": false,
     "start_time": "2023-10-08T12:35:00.351611",
     "status": "completed"
    },
    "tags": []
   },
   "outputs": [],
   "source": [
    "import json\n",
    "\n",
    "with open(f'./scores/{model_id.replace(\"/\", \"_\")}.txt', \"w\") as f:\n",
    "    f.write(\n",
    "        json.dumps(\n",
    "            {\n",
    "                \"model_id\": model_id,\n",
    "                \"jsts\": jsts_score,\n",
    "                \"jsick\": jsick_score,\n",
    "                \"miracl\": miracl_recall,\n",
    "            }\n",
    "        )\n",
    "    )"
   ]
  }
 ],
 "metadata": {
  "kernelspec": {
   "display_name": "Python 3 (ipykernel)",
   "language": "python",
   "name": "python3"
  },
  "language_info": {
   "codemirror_mode": {
    "name": "ipython",
    "version": 3
   },
   "file_extension": ".py",
   "mimetype": "text/x-python",
   "name": "python",
   "nbconvert_exporter": "python",
   "pygments_lexer": "ipython3",
   "version": "3.9.11"
  },
  "papermill": {
   "default_parameters": {},
   "duration": 2952.576866,
   "end_time": "2023-10-08T12:35:01.483709",
   "environment_variables": {},
   "exception": null,
   "input_path": "template_sentence-transformers.ipynb",
   "output_path": "14_cl-nagoya_unsup-simcse-ja-large.ipynb",
   "parameters": {
    "model_id": "cl-nagoya/unsup-simcse-ja-large",
    "passage_prefix": "",
    "query_prefix": ""
   },
   "start_time": "2023-10-08T11:45:48.906843",
   "version": "2.4.0"
  },
  "toc": {
   "base_numbering": 1,
   "nav_menu": {},
   "number_sections": true,
   "sideBar": true,
   "skip_h1_title": false,
   "title_cell": "Table of Contents",
   "title_sidebar": "Contents",
   "toc_cell": false,
   "toc_position": {},
   "toc_section_display": true,
   "toc_window_display": false
  },
  "vscode": {
   "interpreter": {
    "hash": "02c2702a58ea2fe60fd5f26dd152a70e7993d77024040a4f035d0ea16923b730"
   }
  },
  "widgets": {
   "application/vnd.jupyter.widget-state+json": {
    "state": {
     "02897cec54784a4db35d959a28d412c8": {
      "model_module": "@jupyter-widgets/base",
      "model_module_version": "2.0.0",
      "model_name": "LayoutModel",
      "state": {
       "_model_module": "@jupyter-widgets/base",
       "_model_module_version": "2.0.0",
       "_model_name": "LayoutModel",
       "_view_count": null,
       "_view_module": "@jupyter-widgets/base",
       "_view_module_version": "2.0.0",
       "_view_name": "LayoutView",
       "align_content": null,
       "align_items": null,
       "align_self": null,
       "border_bottom": null,
       "border_left": null,
       "border_right": null,
       "border_top": null,
       "bottom": null,
       "display": null,
       "flex": null,
       "flex_flow": null,
       "grid_area": null,
       "grid_auto_columns": null,
       "grid_auto_flow": null,
       "grid_auto_rows": null,
       "grid_column": null,
       "grid_gap": null,
       "grid_row": null,
       "grid_template_areas": null,
       "grid_template_columns": null,
       "grid_template_rows": null,
       "height": null,
       "justify_content": null,
       "justify_items": null,
       "left": null,
       "margin": null,
       "max_height": null,
       "max_width": null,
       "min_height": null,
       "min_width": null,
       "object_fit": null,
       "object_position": null,
       "order": null,
       "overflow": null,
       "padding": null,
       "right": null,
       "top": null,
       "visibility": null,
       "width": null
      }
     },
     "064b069272a64152a0d50790b8fb457c": {
      "model_module": "@jupyter-widgets/base",
      "model_module_version": "2.0.0",
      "model_name": "LayoutModel",
      "state": {
       "_model_module": "@jupyter-widgets/base",
       "_model_module_version": "2.0.0",
       "_model_name": "LayoutModel",
       "_view_count": null,
       "_view_module": "@jupyter-widgets/base",
       "_view_module_version": "2.0.0",
       "_view_name": "LayoutView",
       "align_content": null,
       "align_items": null,
       "align_self": null,
       "border_bottom": null,
       "border_left": null,
       "border_right": null,
       "border_top": null,
       "bottom": null,
       "display": null,
       "flex": null,
       "flex_flow": null,
       "grid_area": null,
       "grid_auto_columns": null,
       "grid_auto_flow": null,
       "grid_auto_rows": null,
       "grid_column": null,
       "grid_gap": null,
       "grid_row": null,
       "grid_template_areas": null,
       "grid_template_columns": null,
       "grid_template_rows": null,
       "height": null,
       "justify_content": null,
       "justify_items": null,
       "left": null,
       "margin": null,
       "max_height": null,
       "max_width": null,
       "min_height": null,
       "min_width": null,
       "object_fit": null,
       "object_position": null,
       "order": null,
       "overflow": null,
       "padding": null,
       "right": null,
       "top": null,
       "visibility": null,
       "width": null
      }
     },
     "1cb3b5fe4e0a44aa8d806bde5b2d231d": {
      "model_module": "@jupyter-widgets/controls",
      "model_module_version": "2.0.0",
      "model_name": "FloatProgressModel",
      "state": {
       "_dom_classes": [],
       "_model_module": "@jupyter-widgets/controls",
       "_model_module_version": "2.0.0",
       "_model_name": "FloatProgressModel",
       "_view_count": null,
       "_view_module": "@jupyter-widgets/controls",
       "_view_module_version": "2.0.0",
       "_view_name": "ProgressView",
       "bar_style": "success",
       "description": "",
       "description_allow_html": false,
       "layout": "IPY_MODEL_4e2b616dc3464f6bb7def7f0ab3dc807",
       "max": 1.0,
       "min": 0.0,
       "orientation": "horizontal",
       "style": "IPY_MODEL_fa62f8c12caf400e83ba3ef90e314802",
       "tabbable": null,
       "tooltip": null,
       "value": 1.0
      }
     },
     "35fb36b7a8a34712bbf1598c6b7d0371": {
      "model_module": "@jupyter-widgets/controls",
      "model_module_version": "2.0.0",
      "model_name": "HTMLModel",
      "state": {
       "_dom_classes": [],
       "_model_module": "@jupyter-widgets/controls",
       "_model_module_version": "2.0.0",
       "_model_name": "HTMLModel",
       "_view_count": null,
       "_view_module": "@jupyter-widgets/controls",
       "_view_module_version": "2.0.0",
       "_view_name": "HTMLView",
       "description": "",
       "description_allow_html": false,
       "layout": "IPY_MODEL_4891238a25b545a090dfa4e2d7e83835",
       "placeholder": "​",
       "style": "IPY_MODEL_561b5386dc084f0d929b6bd5b54b8a0f",
       "tabbable": null,
       "tooltip": null,
       "value": "100%"
      }
     },
     "4891238a25b545a090dfa4e2d7e83835": {
      "model_module": "@jupyter-widgets/base",
      "model_module_version": "2.0.0",
      "model_name": "LayoutModel",
      "state": {
       "_model_module": "@jupyter-widgets/base",
       "_model_module_version": "2.0.0",
       "_model_name": "LayoutModel",
       "_view_count": null,
       "_view_module": "@jupyter-widgets/base",
       "_view_module_version": "2.0.0",
       "_view_name": "LayoutView",
       "align_content": null,
       "align_items": null,
       "align_self": null,
       "border_bottom": null,
       "border_left": null,
       "border_right": null,
       "border_top": null,
       "bottom": null,
       "display": null,
       "flex": null,
       "flex_flow": null,
       "grid_area": null,
       "grid_auto_columns": null,
       "grid_auto_flow": null,
       "grid_auto_rows": null,
       "grid_column": null,
       "grid_gap": null,
       "grid_row": null,
       "grid_template_areas": null,
       "grid_template_columns": null,
       "grid_template_rows": null,
       "height": null,
       "justify_content": null,
       "justify_items": null,
       "left": null,
       "margin": null,
       "max_height": null,
       "max_width": null,
       "min_height": null,
       "min_width": null,
       "object_fit": null,
       "object_position": null,
       "order": null,
       "overflow": null,
       "padding": null,
       "right": null,
       "top": null,
       "visibility": null,
       "width": null
      }
     },
     "4e2b616dc3464f6bb7def7f0ab3dc807": {
      "model_module": "@jupyter-widgets/base",
      "model_module_version": "2.0.0",
      "model_name": "LayoutModel",
      "state": {
       "_model_module": "@jupyter-widgets/base",
       "_model_module_version": "2.0.0",
       "_model_name": "LayoutModel",
       "_view_count": null,
       "_view_module": "@jupyter-widgets/base",
       "_view_module_version": "2.0.0",
       "_view_name": "LayoutView",
       "align_content": null,
       "align_items": null,
       "align_self": null,
       "border_bottom": null,
       "border_left": null,
       "border_right": null,
       "border_top": null,
       "bottom": null,
       "display": null,
       "flex": null,
       "flex_flow": null,
       "grid_area": null,
       "grid_auto_columns": null,
       "grid_auto_flow": null,
       "grid_auto_rows": null,
       "grid_column": null,
       "grid_gap": null,
       "grid_row": null,
       "grid_template_areas": null,
       "grid_template_columns": null,
       "grid_template_rows": null,
       "height": null,
       "justify_content": null,
       "justify_items": null,
       "left": null,
       "margin": null,
       "max_height": null,
       "max_width": null,
       "min_height": null,
       "min_width": null,
       "object_fit": null,
       "object_position": null,
       "order": null,
       "overflow": null,
       "padding": null,
       "right": null,
       "top": null,
       "visibility": null,
       "width": null
      }
     },
     "561b5386dc084f0d929b6bd5b54b8a0f": {
      "model_module": "@jupyter-widgets/controls",
      "model_module_version": "2.0.0",
      "model_name": "HTMLStyleModel",
      "state": {
       "_model_module": "@jupyter-widgets/controls",
       "_model_module_version": "2.0.0",
       "_model_name": "HTMLStyleModel",
       "_view_count": null,
       "_view_module": "@jupyter-widgets/base",
       "_view_module_version": "2.0.0",
       "_view_name": "StyleView",
       "background": null,
       "description_width": "",
       "font_size": null,
       "text_color": null
      }
     },
     "5ce940b5ad4b41c0b07382fb01df2e10": {
      "model_module": "@jupyter-widgets/controls",
      "model_module_version": "2.0.0",
      "model_name": "HBoxModel",
      "state": {
       "_dom_classes": [],
       "_model_module": "@jupyter-widgets/controls",
       "_model_module_version": "2.0.0",
       "_model_name": "HBoxModel",
       "_view_count": null,
       "_view_module": "@jupyter-widgets/controls",
       "_view_module_version": "2.0.0",
       "_view_name": "HBoxView",
       "box_style": "",
       "children": [
        "IPY_MODEL_35fb36b7a8a34712bbf1598c6b7d0371",
        "IPY_MODEL_1cb3b5fe4e0a44aa8d806bde5b2d231d",
        "IPY_MODEL_ecb914e2e08649759657069353c1ddd1"
       ],
       "layout": "IPY_MODEL_02897cec54784a4db35d959a28d412c8",
       "tabbable": null,
       "tooltip": null
      }
     },
     "a78f74bfbccd4037a2e1df18be86d1d8": {
      "model_module": "@jupyter-widgets/controls",
      "model_module_version": "2.0.0",
      "model_name": "HTMLStyleModel",
      "state": {
       "_model_module": "@jupyter-widgets/controls",
       "_model_module_version": "2.0.0",
       "_model_name": "HTMLStyleModel",
       "_view_count": null,
       "_view_module": "@jupyter-widgets/base",
       "_view_module_version": "2.0.0",
       "_view_name": "StyleView",
       "background": null,
       "description_width": "",
       "font_size": null,
       "text_color": null
      }
     },
     "ecb914e2e08649759657069353c1ddd1": {
      "model_module": "@jupyter-widgets/controls",
      "model_module_version": "2.0.0",
      "model_name": "HTMLModel",
      "state": {
       "_dom_classes": [],
       "_model_module": "@jupyter-widgets/controls",
       "_model_module_version": "2.0.0",
       "_model_name": "HTMLModel",
       "_view_count": null,
       "_view_module": "@jupyter-widgets/controls",
       "_view_module_version": "2.0.0",
       "_view_name": "HTMLView",
       "description": "",
       "description_allow_html": false,
       "layout": "IPY_MODEL_064b069272a64152a0d50790b8fb457c",
       "placeholder": "​",
       "style": "IPY_MODEL_a78f74bfbccd4037a2e1df18be86d1d8",
       "tabbable": null,
       "tooltip": null,
       "value": " 1/1 [00:00&lt;00:00,  2.64it/s]"
      }
     },
     "fa62f8c12caf400e83ba3ef90e314802": {
      "model_module": "@jupyter-widgets/controls",
      "model_module_version": "2.0.0",
      "model_name": "ProgressStyleModel",
      "state": {
       "_model_module": "@jupyter-widgets/controls",
       "_model_module_version": "2.0.0",
       "_model_name": "ProgressStyleModel",
       "_view_count": null,
       "_view_module": "@jupyter-widgets/base",
       "_view_module_version": "2.0.0",
       "_view_name": "StyleView",
       "bar_color": null,
       "description_width": ""
      }
     }
    },
    "version_major": 2,
    "version_minor": 0
   }
  }
 },
 "nbformat": 4,
 "nbformat_minor": 5
}