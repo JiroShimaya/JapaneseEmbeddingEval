{
 "cells": [
  {
   "cell_type": "code",
   "execution_count": 1,
   "id": "40b002c1",
   "metadata": {
    "ExecuteTime": {
     "end_time": "2023-10-07T08:50:45.949996Z",
     "start_time": "2023-10-07T08:50:44.497041Z"
    },
    "execution": {
     "iopub.execute_input": "2024-01-26T12:33:25.277518Z",
     "iopub.status.busy": "2024-01-26T12:33:25.277518Z",
     "iopub.status.idle": "2024-01-26T12:33:25.748969Z",
     "shell.execute_reply": "2024-01-26T12:33:25.747967Z"
    },
    "papermill": {
     "duration": 0.476973,
     "end_time": "2024-01-26T12:33:25.749969",
     "exception": false,
     "start_time": "2024-01-26T12:33:25.272996",
     "status": "completed"
    },
    "tags": []
   },
   "outputs": [
    {
     "data": {
      "text/plain": [
       "'1.10.0'"
      ]
     },
     "execution_count": 1,
     "metadata": {},
     "output_type": "execute_result"
    }
   ],
   "source": [
    "import openai\n",
    "import os\n",
    "\n",
    "openai.__version__"
   ]
  },
  {
   "cell_type": "code",
   "execution_count": 2,
   "id": "c5881949",
   "metadata": {
    "ExecuteTime": {
     "end_time": "2023-10-07T08:50:45.965421Z",
     "start_time": "2023-10-07T08:50:45.951998Z"
    },
    "execution": {
     "iopub.execute_input": "2024-01-26T12:33:25.760480Z",
     "iopub.status.busy": "2024-01-26T12:33:25.760480Z",
     "iopub.status.idle": "2024-01-26T12:33:25.778522Z",
     "shell.execute_reply": "2024-01-26T12:33:25.778522Z"
    },
    "papermill": {
     "duration": 0.027966,
     "end_time": "2024-01-26T12:33:25.780934",
     "exception": false,
     "start_time": "2024-01-26T12:33:25.752968",
     "status": "completed"
    },
    "tags": [
     "parameters"
    ]
   },
   "outputs": [],
   "source": [
    "jsts_url = \"https://raw.githubusercontent.com/yahoojapan/JGLUE/main/datasets/jsts-v1.1/valid-v1.1.json\"\n",
    "jsick_url = \"https://github.com/verypluming/JSICK/raw/main/jsick/test.tsv\"\n",
    "miracle_n_hard_negs = 300\n",
    "miracle_n_recall = 30\n",
    "model_id = \"\"\n",
    "dimension = -1\n",
    "query_prefix = \"\"\n",
    "passage_prefix = \"\""
   ]
  },
  {
   "cell_type": "code",
   "execution_count": 3,
   "id": "3f94a52a",
   "metadata": {
    "execution": {
     "iopub.execute_input": "2024-01-26T12:33:25.787550Z",
     "iopub.status.busy": "2024-01-26T12:33:25.787550Z",
     "iopub.status.idle": "2024-01-26T12:33:25.793433Z",
     "shell.execute_reply": "2024-01-26T12:33:25.793433Z"
    },
    "papermill": {
     "duration": 0.011748,
     "end_time": "2024-01-26T12:33:25.795445",
     "exception": false,
     "start_time": "2024-01-26T12:33:25.783697",
     "status": "completed"
    },
    "tags": [
     "injected-parameters"
    ]
   },
   "outputs": [],
   "source": [
    "# Parameters\n",
    "model_id = \"text-embedding-3-small\"\n",
    "dimension = 1536\n"
   ]
  },
  {
   "cell_type": "markdown",
   "id": "7599e4b0",
   "metadata": {
    "papermill": {
     "duration": 0.00299,
     "end_time": "2024-01-26T12:33:25.800972",
     "exception": false,
     "start_time": "2024-01-26T12:33:25.797982",
     "status": "completed"
    },
    "tags": []
   },
   "source": [
    "# Model"
   ]
  },
  {
   "cell_type": "code",
   "execution_count": 4,
   "id": "1bb1a11e",
   "metadata": {
    "execution": {
     "iopub.execute_input": "2024-01-26T12:33:25.812528Z",
     "iopub.status.busy": "2024-01-26T12:33:25.812528Z",
     "iopub.status.idle": "2024-01-26T12:33:25.914649Z",
     "shell.execute_reply": "2024-01-26T12:33:25.914649Z"
    },
    "papermill": {
     "duration": 0.113022,
     "end_time": "2024-01-26T12:33:25.917003",
     "exception": false,
     "start_time": "2024-01-26T12:33:25.803981",
     "status": "completed"
    },
    "tags": []
   },
   "outputs": [],
   "source": [
    "import numpy as np\n",
    "import dotenv\n",
    "\n",
    "dotenv.load_dotenv(\"openai_key\", override=True)\n",
    "client = openai.OpenAI()\n",
    "\n",
    "\n",
    "# https://platform.openai.com/docs/guides/embeddings/use-cases\n",
    "def get_embedding(texts):\n",
    "    texts = [text.replace(\"\\n\", \" \")[:2000] for text in texts]\n",
    "    if \"text-embedding-3\" not in model_id:\n",
    "        return client.embeddings.create(input=texts, model=model_id).data\n",
    "    else:\n",
    "        return client.embeddings.create(\n",
    "            input=texts, model=model_id, dimensions=dimension\n",
    "        ).data\n",
    "\n",
    "\n",
    "def get_embeddings(texts):\n",
    "    all_embeddings = []\n",
    "    batch_size = 100\n",
    "    for i in range(0, len(texts), batch_size):\n",
    "        all_embeddings += [\n",
    "            emb.embedding for emb in get_embedding(texts[i : i + batch_size])\n",
    "        ]\n",
    "    return np.array(all_embeddings)"
   ]
  },
  {
   "cell_type": "markdown",
   "id": "0e29abfd",
   "metadata": {
    "papermill": {
     "duration": 0.005521,
     "end_time": "2024-01-26T12:33:25.925531",
     "exception": false,
     "start_time": "2024-01-26T12:33:25.920010",
     "status": "completed"
    },
    "tags": []
   },
   "source": [
    "# JSTS"
   ]
  },
  {
   "cell_type": "code",
   "execution_count": 5,
   "id": "2be2f686",
   "metadata": {
    "ExecuteTime": {
     "end_time": "2023-10-07T08:50:54.215161Z",
     "start_time": "2023-10-07T08:50:53.767452Z"
    },
    "execution": {
     "iopub.execute_input": "2024-01-26T12:33:25.934554Z",
     "iopub.status.busy": "2024-01-26T12:33:25.933544Z",
     "iopub.status.idle": "2024-01-26T12:33:26.600430Z",
     "shell.execute_reply": "2024-01-26T12:33:26.599429Z"
    },
    "papermill": {
     "duration": 0.673884,
     "end_time": "2024-01-26T12:33:26.602428",
     "exception": false,
     "start_time": "2024-01-26T12:33:25.928544",
     "status": "completed"
    },
    "tags": []
   },
   "outputs": [
    {
     "data": {
      "text/html": [
       "<div>\n",
       "<style scoped>\n",
       "    .dataframe tbody tr th:only-of-type {\n",
       "        vertical-align: middle;\n",
       "    }\n",
       "\n",
       "    .dataframe tbody tr th {\n",
       "        vertical-align: top;\n",
       "    }\n",
       "\n",
       "    .dataframe thead th {\n",
       "        text-align: right;\n",
       "    }\n",
       "</style>\n",
       "<table border=\"1\" class=\"dataframe\">\n",
       "  <thead>\n",
       "    <tr style=\"text-align: right;\">\n",
       "      <th></th>\n",
       "      <th>sentence_pair_id</th>\n",
       "      <th>yjcaptions_id</th>\n",
       "      <th>sentence1</th>\n",
       "      <th>sentence2</th>\n",
       "      <th>label</th>\n",
       "    </tr>\n",
       "  </thead>\n",
       "  <tbody>\n",
       "    <tr>\n",
       "      <th>0</th>\n",
       "      <td>0</td>\n",
       "      <td>100312_421853-104611-31624</td>\n",
       "      <td>レンガの建物の前を、乳母車を押した女性が歩いています。</td>\n",
       "      <td>厩舎で馬と女性とが寄り添っています。</td>\n",
       "      <td>0.0</td>\n",
       "    </tr>\n",
       "  </tbody>\n",
       "</table>\n",
       "</div>"
      ],
      "text/plain": [
       "  sentence_pair_id               yjcaptions_id                    sentence1  \\\n",
       "0                0  100312_421853-104611-31624  レンガの建物の前を、乳母車を押した女性が歩いています。   \n",
       "\n",
       "            sentence2  label  \n",
       "0  厩舎で馬と女性とが寄り添っています。    0.0  "
      ]
     },
     "execution_count": 5,
     "metadata": {},
     "output_type": "execute_result"
    }
   ],
   "source": [
    "import json\n",
    "import pandas as pd\n",
    "from urllib.request import urlopen\n",
    "\n",
    "df = pd.DataFrame([json.loads(line) for line in urlopen(jsts_url).readlines()])\n",
    "df.head(1)"
   ]
  },
  {
   "cell_type": "code",
   "execution_count": 6,
   "id": "2c154c8e",
   "metadata": {
    "ExecuteTime": {
     "end_time": "2023-10-07T08:50:54.230679Z",
     "start_time": "2023-10-07T08:50:54.218161Z"
    },
    "execution": {
     "iopub.execute_input": "2024-01-26T12:33:26.613102Z",
     "iopub.status.busy": "2024-01-26T12:33:26.612097Z",
     "iopub.status.idle": "2024-01-26T12:33:26.630401Z",
     "shell.execute_reply": "2024-01-26T12:33:26.629743Z"
    },
    "papermill": {
     "duration": 0.02486,
     "end_time": "2024-01-26T12:33:26.631409",
     "exception": false,
     "start_time": "2024-01-26T12:33:26.606549",
     "status": "completed"
    },
    "tags": []
   },
   "outputs": [
    {
     "data": {
      "text/plain": [
       "(1457, 5)"
      ]
     },
     "execution_count": 6,
     "metadata": {},
     "output_type": "execute_result"
    }
   ],
   "source": [
    "df.shape"
   ]
  },
  {
   "cell_type": "markdown",
   "id": "29a530d9",
   "metadata": {
    "papermill": {
     "duration": 0.004101,
     "end_time": "2024-01-26T12:33:26.638508",
     "exception": false,
     "start_time": "2024-01-26T12:33:26.634407",
     "status": "completed"
    },
    "tags": []
   },
   "source": [
    "## Encode"
   ]
  },
  {
   "cell_type": "code",
   "execution_count": 7,
   "id": "492b993c",
   "metadata": {
    "ExecuteTime": {
     "end_time": "2023-10-07T08:50:57.800419Z",
     "start_time": "2023-10-07T08:50:54.234207Z"
    },
    "execution": {
     "iopub.execute_input": "2024-01-26T12:33:26.649070Z",
     "iopub.status.busy": "2024-01-26T12:33:26.648017Z",
     "iopub.status.idle": "2024-01-26T12:34:02.184878Z",
     "shell.execute_reply": "2024-01-26T12:34:02.183885Z"
    },
    "papermill": {
     "duration": 35.542389,
     "end_time": "2024-01-26T12:34:02.185887",
     "exception": false,
     "start_time": "2024-01-26T12:33:26.643498",
     "status": "completed"
    },
    "tags": []
   },
   "outputs": [
    {
     "data": {
      "text/plain": [
       "((1457, 1536), (1457, 1536))"
      ]
     },
     "execution_count": 7,
     "metadata": {},
     "output_type": "execute_result"
    }
   ],
   "source": [
    "import numpy as np\n",
    "\n",
    "\n",
    "sentence1_embs = get_embeddings(df[\"sentence1\"].values)\n",
    "sentence2_embs = get_embeddings(df[\"sentence2\"].values)\n",
    "\n",
    "\n",
    "sentence1_embs.shape, sentence2_embs.shape"
   ]
  },
  {
   "cell_type": "markdown",
   "id": "7d7ce439",
   "metadata": {
    "papermill": {
     "duration": 0.005515,
     "end_time": "2024-01-26T12:34:02.197467",
     "exception": false,
     "start_time": "2024-01-26T12:34:02.191952",
     "status": "completed"
    },
    "tags": []
   },
   "source": [
    "## Correlation Score"
   ]
  },
  {
   "cell_type": "code",
   "execution_count": 8,
   "id": "30a179d3",
   "metadata": {
    "ExecuteTime": {
     "end_time": "2023-10-07T08:50:57.847350Z",
     "start_time": "2023-10-07T08:50:57.801925Z"
    },
    "execution": {
     "iopub.execute_input": "2024-01-26T12:34:02.206794Z",
     "iopub.status.busy": "2024-01-26T12:34:02.206290Z",
     "iopub.status.idle": "2024-01-26T12:34:02.627514Z",
     "shell.execute_reply": "2024-01-26T12:34:02.626516Z"
    },
    "papermill": {
     "duration": 0.428047,
     "end_time": "2024-01-26T12:34:02.629518",
     "exception": false,
     "start_time": "2024-01-26T12:34:02.201471",
     "status": "completed"
    },
    "tags": []
   },
   "outputs": [
    {
     "data": {
      "text/plain": [
       "0.7809981604825089"
      ]
     },
     "execution_count": 8,
     "metadata": {},
     "output_type": "execute_result"
    }
   ],
   "source": [
    "from scipy.spatial.distance import cosine, euclidean\n",
    "from scipy.stats import spearmanr\n",
    "\n",
    "df[\"similarity\"] = [\n",
    "    1 - cosine(s1, s2) for s1, s2 in zip(sentence1_embs, sentence2_embs)\n",
    "]\n",
    "jsts_score = spearmanr(df[\"similarity\"], df[\"label\"])[0]\n",
    "jsts_score"
   ]
  },
  {
   "cell_type": "markdown",
   "id": "b73603b4",
   "metadata": {
    "papermill": {
     "duration": 0.003555,
     "end_time": "2024-01-26T12:34:02.637067",
     "exception": false,
     "start_time": "2024-01-26T12:34:02.633512",
     "status": "completed"
    },
    "tags": []
   },
   "source": [
    "# JSICK"
   ]
  },
  {
   "cell_type": "code",
   "execution_count": 9,
   "id": "4d85c3ff",
   "metadata": {
    "ExecuteTime": {
     "end_time": "2023-10-07T08:51:00.645301Z",
     "start_time": "2023-10-07T08:51:00.119204Z"
    },
    "execution": {
     "iopub.execute_input": "2024-01-26T12:34:02.646810Z",
     "iopub.status.busy": "2024-01-26T12:34:02.646810Z",
     "iopub.status.idle": "2024-01-26T12:34:03.585558Z",
     "shell.execute_reply": "2024-01-26T12:34:03.584621Z"
    },
    "papermill": {
     "duration": 0.945575,
     "end_time": "2024-01-26T12:34:03.586654",
     "exception": false,
     "start_time": "2024-01-26T12:34:02.641079",
     "status": "completed"
    },
    "tags": []
   },
   "outputs": [
    {
     "data": {
      "text/html": [
       "<div>\n",
       "<style scoped>\n",
       "    .dataframe tbody tr th:only-of-type {\n",
       "        vertical-align: middle;\n",
       "    }\n",
       "\n",
       "    .dataframe tbody tr th {\n",
       "        vertical-align: top;\n",
       "    }\n",
       "\n",
       "    .dataframe thead th {\n",
       "        text-align: right;\n",
       "    }\n",
       "</style>\n",
       "<table border=\"1\" class=\"dataframe\">\n",
       "  <thead>\n",
       "    <tr style=\"text-align: right;\">\n",
       "      <th></th>\n",
       "      <th>pair_ID</th>\n",
       "      <th>data</th>\n",
       "      <th>sentence_A_En</th>\n",
       "      <th>sentence_B_En</th>\n",
       "      <th>entailment_label_En</th>\n",
       "      <th>relatedness_score_En</th>\n",
       "      <th>corr_entailment_labelAB_En</th>\n",
       "      <th>corr_entailment_labelBA_En</th>\n",
       "      <th>sentence_A_Ja</th>\n",
       "      <th>sentence_B_Ja</th>\n",
       "      <th>entailment_label_Ja</th>\n",
       "      <th>relatedness_score_Ja</th>\n",
       "      <th>image_ID</th>\n",
       "      <th>original_caption</th>\n",
       "      <th>semtag_short</th>\n",
       "      <th>semtag_long</th>\n",
       "    </tr>\n",
       "  </thead>\n",
       "  <tbody>\n",
       "    <tr>\n",
       "      <th>0</th>\n",
       "      <td>6</td>\n",
       "      <td>test</td>\n",
       "      <td>There is no boy playing outdoors and there is ...</td>\n",
       "      <td>A group of kids is playing in a yard and an ol...</td>\n",
       "      <td>neutral</td>\n",
       "      <td>3.3</td>\n",
       "      <td>NaN</td>\n",
       "      <td>NaN</td>\n",
       "      <td>戸外で遊んでいる男の子は一人もおらず、微笑んでいる男性は一人もいない</td>\n",
       "      <td>子供たちのグループが庭で遊んでいて、後ろの方には年を取った男性が立っている</td>\n",
       "      <td>contradiction</td>\n",
       "      <td>2.3</td>\n",
       "      <td>3155657768_b83a7831e5.jpg</td>\n",
       "      <td>The children are playing outdoors , while a ma...</td>\n",
       "      <td>Negation#Numerical</td>\n",
       "      <td>Numerical;人;名詞,接尾,助数詞,*#Negation;ない;助動詞,*,*,*#...</td>\n",
       "    </tr>\n",
       "  </tbody>\n",
       "</table>\n",
       "</div>"
      ],
      "text/plain": [
       "   pair_ID  data                                      sentence_A_En  \\\n",
       "0        6  test  There is no boy playing outdoors and there is ...   \n",
       "\n",
       "                                       sentence_B_En entailment_label_En  \\\n",
       "0  A group of kids is playing in a yard and an ol...             neutral   \n",
       "\n",
       "   relatedness_score_En corr_entailment_labelAB_En corr_entailment_labelBA_En  \\\n",
       "0                   3.3                        NaN                        NaN   \n",
       "\n",
       "                        sentence_A_Ja                          sentence_B_Ja  \\\n",
       "0  戸外で遊んでいる男の子は一人もおらず、微笑んでいる男性は一人もいない  子供たちのグループが庭で遊んでいて、後ろの方には年を取った男性が立っている   \n",
       "\n",
       "  entailment_label_Ja  relatedness_score_Ja                   image_ID  \\\n",
       "0       contradiction                   2.3  3155657768_b83a7831e5.jpg   \n",
       "\n",
       "                                    original_caption        semtag_short  \\\n",
       "0  The children are playing outdoors , while a ma...  Negation#Numerical   \n",
       "\n",
       "                                         semtag_long  \n",
       "0  Numerical;人;名詞,接尾,助数詞,*#Negation;ない;助動詞,*,*,*#...  "
      ]
     },
     "execution_count": 9,
     "metadata": {},
     "output_type": "execute_result"
    }
   ],
   "source": [
    "df = pd.read_csv(jsick_url, sep=\"\\t\")\n",
    "df.head(1)"
   ]
  },
  {
   "cell_type": "code",
   "execution_count": 10,
   "id": "b74bccb9",
   "metadata": {
    "ExecuteTime": {
     "end_time": "2023-10-07T08:51:00.660322Z",
     "start_time": "2023-10-07T08:51:00.647809Z"
    },
    "execution": {
     "iopub.execute_input": "2024-01-26T12:34:03.598465Z",
     "iopub.status.busy": "2024-01-26T12:34:03.597464Z",
     "iopub.status.idle": "2024-01-26T12:34:03.616536Z",
     "shell.execute_reply": "2024-01-26T12:34:03.615603Z"
    },
    "papermill": {
     "duration": 0.026583,
     "end_time": "2024-01-26T12:34:03.617525",
     "exception": false,
     "start_time": "2024-01-26T12:34:03.590942",
     "status": "completed"
    },
    "tags": []
   },
   "outputs": [
    {
     "data": {
      "text/plain": [
       "(4927, 16)"
      ]
     },
     "execution_count": 10,
     "metadata": {},
     "output_type": "execute_result"
    }
   ],
   "source": [
    "df.shape"
   ]
  },
  {
   "cell_type": "markdown",
   "id": "dc057b51",
   "metadata": {
    "papermill": {
     "duration": 0.003992,
     "end_time": "2024-01-26T12:34:03.625524",
     "exception": false,
     "start_time": "2024-01-26T12:34:03.621532",
     "status": "completed"
    },
    "tags": []
   },
   "source": [
    "## Encode"
   ]
  },
  {
   "cell_type": "code",
   "execution_count": 11,
   "id": "04dae0cb",
   "metadata": {
    "ExecuteTime": {
     "end_time": "2023-10-07T08:51:06.645910Z",
     "start_time": "2023-10-07T08:51:01.623993Z"
    },
    "execution": {
     "iopub.execute_input": "2024-01-26T12:34:03.635557Z",
     "iopub.status.busy": "2024-01-26T12:34:03.635557Z",
     "iopub.status.idle": "2024-01-26T12:35:56.686804Z",
     "shell.execute_reply": "2024-01-26T12:35:56.686804Z"
    },
    "papermill": {
     "duration": 113.096956,
     "end_time": "2024-01-26T12:35:56.727010",
     "exception": false,
     "start_time": "2024-01-26T12:34:03.630054",
     "status": "completed"
    },
    "tags": []
   },
   "outputs": [
    {
     "data": {
      "text/plain": [
       "((4927, 1536), (4927, 1536))"
      ]
     },
     "execution_count": 11,
     "metadata": {},
     "output_type": "execute_result"
    }
   ],
   "source": [
    "sentence1_embs = get_embeddings(df[\"sentence_A_Ja\"].values)\n",
    "sentence2_embs = get_embeddings(df[\"sentence_B_Ja\"].values)\n",
    "sentence1_embs.shape, sentence2_embs.shape"
   ]
  },
  {
   "cell_type": "markdown",
   "id": "0d281825",
   "metadata": {
    "papermill": {
     "duration": 0.005,
     "end_time": "2024-01-26T12:35:56.736005",
     "exception": false,
     "start_time": "2024-01-26T12:35:56.731005",
     "status": "completed"
    },
    "tags": []
   },
   "source": [
    "## Correlation Score"
   ]
  },
  {
   "cell_type": "code",
   "execution_count": 12,
   "id": "2bd7947b",
   "metadata": {
    "execution": {
     "iopub.execute_input": "2024-01-26T12:35:56.746697Z",
     "iopub.status.busy": "2024-01-26T12:35:56.746697Z",
     "iopub.status.idle": "2024-01-26T12:35:56.869677Z",
     "shell.execute_reply": "2024-01-26T12:35:56.868707Z"
    },
    "papermill": {
     "duration": 0.130524,
     "end_time": "2024-01-26T12:35:56.870676",
     "exception": false,
     "start_time": "2024-01-26T12:35:56.740152",
     "status": "completed"
    },
    "tags": []
   },
   "outputs": [
    {
     "data": {
      "text/plain": [
       "0.8040307567839314"
      ]
     },
     "execution_count": 12,
     "metadata": {},
     "output_type": "execute_result"
    }
   ],
   "source": [
    "from scipy.spatial.distance import cosine\n",
    "from scipy.stats import spearmanr\n",
    "\n",
    "df[\"similarity\"] = [\n",
    "    1 - cosine(s1, s2) for s1, s2 in zip(sentence1_embs, sentence2_embs)\n",
    "]\n",
    "jsick_score = spearmanr(df[\"similarity\"], df[\"relatedness_score_Ja\"])[0]\n",
    "jsick_score"
   ]
  },
  {
   "cell_type": "markdown",
   "id": "a4805402",
   "metadata": {
    "papermill": {
     "duration": 0.004108,
     "end_time": "2024-01-26T12:35:56.881130",
     "exception": false,
     "start_time": "2024-01-26T12:35:56.877022",
     "status": "completed"
    },
    "tags": []
   },
   "source": [
    "# Miracle\n",
    "* Need access token for huggingface"
   ]
  },
  {
   "cell_type": "code",
   "execution_count": 13,
   "id": "302717bf",
   "metadata": {
    "execution": {
     "iopub.execute_input": "2024-01-26T12:35:56.890674Z",
     "iopub.status.busy": "2024-01-26T12:35:56.889673Z",
     "iopub.status.idle": "2024-01-26T12:35:56.900225Z",
     "shell.execute_reply": "2024-01-26T12:35:56.899225Z"
    },
    "papermill": {
     "duration": 0.015572,
     "end_time": "2024-01-26T12:35:56.901241",
     "exception": false,
     "start_time": "2024-01-26T12:35:56.885669",
     "status": "completed"
    },
    "tags": []
   },
   "outputs": [
    {
     "data": {
      "text/plain": [
       "True"
      ]
     },
     "execution_count": 13,
     "metadata": {},
     "output_type": "execute_result"
    }
   ],
   "source": [
    "import os\n",
    "import dotenv\n",
    "\n",
    "dotenv.load_dotenv(\"huggingface_access_token\", override=True)"
   ]
  },
  {
   "cell_type": "code",
   "execution_count": 14,
   "id": "bddc10d0",
   "metadata": {
    "execution": {
     "iopub.execute_input": "2024-01-26T12:35:56.911738Z",
     "iopub.status.busy": "2024-01-26T12:35:56.911738Z",
     "iopub.status.idle": "2024-01-26T12:35:59.198664Z",
     "shell.execute_reply": "2024-01-26T12:35:59.197664Z"
    },
    "papermill": {
     "duration": 2.295436,
     "end_time": "2024-01-26T12:35:59.199662",
     "exception": false,
     "start_time": "2024-01-26T12:35:56.904226",
     "status": "completed"
    },
    "tags": []
   },
   "outputs": [
    {
     "name": "stderr",
     "output_type": "stream",
     "text": [
      "Found cached dataset miracl (G:/cache/miracl___miracl/ja/1.0.0/f598b4ee332f2b16e82c6c83ab1ba82e1a7777ef82e7ce3c1416f6b20a142313)\n"
     ]
    },
    {
     "data": {
      "text/plain": [
       "Dataset({\n",
       "    features: ['query_id', 'query', 'positive_passages', 'negative_passages'],\n",
       "    num_rows: 860\n",
       "})"
      ]
     },
     "execution_count": 14,
     "metadata": {},
     "output_type": "execute_result"
    }
   ],
   "source": [
    "import datasets\n",
    "\n",
    "# query and positives\n",
    "ds = datasets.load_dataset(\n",
    "    \"miracl/miracl\", \"ja\", use_auth_token=os.environ[\"HF_ACCESS_TOKEN\"], split=\"dev\"\n",
    ")\n",
    "ds"
   ]
  },
  {
   "cell_type": "code",
   "execution_count": 15,
   "id": "f797a949",
   "metadata": {
    "execution": {
     "iopub.execute_input": "2024-01-26T12:35:59.212197Z",
     "iopub.status.busy": "2024-01-26T12:35:59.210190Z",
     "iopub.status.idle": "2024-01-26T12:36:01.253657Z",
     "shell.execute_reply": "2024-01-26T12:36:01.252657Z"
    },
    "papermill": {
     "duration": 2.050033,
     "end_time": "2024-01-26T12:36:01.254692",
     "exception": false,
     "start_time": "2024-01-26T12:35:59.204659",
     "status": "completed"
    },
    "tags": []
   },
   "outputs": [
    {
     "name": "stderr",
     "output_type": "stream",
     "text": [
      "Found cached dataset miracl-corpus (G:/cache/miracl___miracl-corpus/ja/1.0.0/16b566312c83a2e1f94d0813c8702b464b97f6b8959336adf062d289ce9b51fa)\n"
     ]
    },
    {
     "data": {
      "application/vnd.jupyter.widget-view+json": {
       "model_id": "1ae90feb362c441dbf38012864eeab6a",
       "version_major": 2,
       "version_minor": 0
      },
      "text/plain": [
       "  0%|          | 0/1 [00:00<?, ?it/s]"
      ]
     },
     "metadata": {},
     "output_type": "display_data"
    },
    {
     "data": {
      "text/plain": [
       "DatasetDict({\n",
       "    train: Dataset({\n",
       "        features: ['docid', 'title', 'text'],\n",
       "        num_rows: 6953614\n",
       "    })\n",
       "})"
      ]
     },
     "execution_count": 15,
     "metadata": {},
     "output_type": "execute_result"
    }
   ],
   "source": [
    "# all corpus texts\n",
    "corpus = datasets.load_dataset(\"miracl/miracl-corpus\", \"ja\")\n",
    "corpus"
   ]
  },
  {
   "cell_type": "code",
   "execution_count": 16,
   "id": "30357a4b",
   "metadata": {
    "execution": {
     "iopub.execute_input": "2024-01-26T12:36:01.265744Z",
     "iopub.status.busy": "2024-01-26T12:36:01.264175Z",
     "iopub.status.idle": "2024-01-26T12:36:01.467726Z",
     "shell.execute_reply": "2024-01-26T12:36:01.465841Z"
    },
    "papermill": {
     "duration": 0.210554,
     "end_time": "2024-01-26T12:36:01.469722",
     "exception": false,
     "start_time": "2024-01-26T12:36:01.259168",
     "status": "completed"
    },
    "tags": []
   },
   "outputs": [
    {
     "data": {
      "text/plain": [
       "(860,\n",
       " ['0', '3', '4', '5', '7'],\n",
       " dict_keys(['docids', 'indices']),\n",
       " ['2681119#0', '2681119#1'],\n",
       " [1393435, 1393436])"
      ]
     },
     "execution_count": 16,
     "metadata": {},
     "output_type": "execute_result"
    }
   ],
   "source": [
    "# hard negatives\n",
    "with open(\"./miracl_hard_negs_1000.json\") as f:\n",
    "    hn = json.loads(f.read())\n",
    "len(hn), list(hn.keys())[:5], hn[\"0\"].keys(), hn[\"0\"][\"docids\"][:2], hn[\"0\"][\"indices\"][\n",
    "    :2\n",
    "]"
   ]
  },
  {
   "cell_type": "code",
   "execution_count": 17,
   "id": "4f66c2ec",
   "metadata": {
    "execution": {
     "iopub.execute_input": "2024-01-26T12:36:01.481240Z",
     "iopub.status.busy": "2024-01-26T12:36:01.480235Z",
     "iopub.status.idle": "2024-01-26T12:39:02.374539Z",
     "shell.execute_reply": "2024-01-26T12:39:02.374539Z"
    },
    "papermill": {
     "duration": 180.903326,
     "end_time": "2024-01-26T12:39:02.377052",
     "exception": false,
     "start_time": "2024-01-26T12:36:01.473726",
     "status": "completed"
    },
    "tags": []
   },
   "outputs": [],
   "source": [
    "import numpy as np\n",
    "import pandas as pd\n",
    "from scipy.spatial.distance import cdist\n",
    "\n",
    "\n",
    "def get_text(corpus_item):\n",
    "    return corpus_item[\"title\"] + \" \" + corpus_item[\"text\"]\n",
    "\n",
    "\n",
    "corpus_dict = {item[\"docid\"]: get_text(item) for item in corpus[\"train\"]}"
   ]
  },
  {
   "cell_type": "code",
   "execution_count": 18,
   "id": "f20a158b",
   "metadata": {
    "execution": {
     "iopub.execute_input": "2024-01-26T12:39:02.389562Z",
     "iopub.status.busy": "2024-01-26T12:39:02.388563Z",
     "iopub.status.idle": "2024-01-26T12:40:41.354607Z",
     "shell.execute_reply": "2024-01-26T12:40:41.354607Z"
    },
    "papermill": {
     "duration": 98.977078,
     "end_time": "2024-01-26T12:40:41.360129",
     "exception": false,
     "start_time": "2024-01-26T12:39:02.383051",
     "status": "completed"
    },
    "tags": []
   },
   "outputs": [
    {
     "data": {
      "text/plain": [
       "(195, 155, 0.7948717948717948)"
      ]
     },
     "execution_count": 18,
     "metadata": {},
     "output_type": "execute_result"
    }
   ],
   "source": [
    "n_total_pos = 0\n",
    "n_total_tp = 0\n",
    "\n",
    "# only evaluate first 100 queries\n",
    "for item in ds.select(range(100)):\n",
    "    # query\n",
    "    query_emb = get_embeddings([query_prefix + item[\"query\"]])\n",
    "\n",
    "    # passages are set(300 hard negatives + positives)\n",
    "    positive_docids = [pp[\"docid\"] for pp in item[\"positive_passages\"]]\n",
    "    positive_texts = [get_text(pp) for pp in item[\"positive_passages\"]]\n",
    "    hn_docids = hn[item[\"query_id\"]][\"docids\"][:miracle_n_hard_negs]\n",
    "\n",
    "    # drop hard negatives in positives\n",
    "    hn_docids = [docid for docid in hn_docids if docid not in positive_docids]\n",
    "\n",
    "    # search target\n",
    "    target_docids = positive_docids + hn_docids\n",
    "    target_texts = positive_texts + [corpus_dict[docid] for docid in hn_docids]\n",
    "\n",
    "    # embedding\n",
    "    tmppath = f'tmp/{model_id}_{dimension}_{item[\"query_id\"]}.npy'\n",
    "    if os.path.exists(tmppath):\n",
    "        target_embs = np.load(tmppath)\n",
    "    else:\n",
    "        # use cache\n",
    "        target_embs = get_embeddings([passage_prefix + text for text in target_texts])\n",
    "        np.save(tmppath, target_embs)\n",
    "\n",
    "    # topK\n",
    "    topk_indices = np.argsort(cdist(query_emb, target_embs, metric=\"cosine\"))[0][\n",
    "        :miracle_n_recall\n",
    "    ]\n",
    "\n",
    "    n_pos = len(positive_docids)\n",
    "    n_tp = len(\n",
    "        set(topk_indices) & set(range(len(positive_docids)))\n",
    "    )  # positives are first indices\n",
    "\n",
    "    n_total_pos += n_pos\n",
    "    n_total_tp += n_tp\n",
    "\n",
    "miracl_recall = n_total_tp / n_total_pos\n",
    "\n",
    "n_total_pos, n_total_tp, miracl_recall"
   ]
  },
  {
   "cell_type": "markdown",
   "id": "9ed67d47",
   "metadata": {
    "papermill": {
     "duration": 0.007013,
     "end_time": "2024-01-26T12:40:41.374199",
     "exception": false,
     "start_time": "2024-01-26T12:40:41.367186",
     "status": "completed"
    },
    "tags": []
   },
   "source": [
    "# Output"
   ]
  },
  {
   "cell_type": "code",
   "execution_count": 19,
   "id": "3ba22b77",
   "metadata": {
    "execution": {
     "iopub.execute_input": "2024-01-26T12:40:41.386332Z",
     "iopub.status.busy": "2024-01-26T12:40:41.386332Z",
     "iopub.status.idle": "2024-01-26T12:40:41.402744Z",
     "shell.execute_reply": "2024-01-26T12:40:41.401745Z"
    },
    "papermill": {
     "duration": 0.025026,
     "end_time": "2024-01-26T12:40:41.403746",
     "exception": false,
     "start_time": "2024-01-26T12:40:41.378720",
     "status": "completed"
    },
    "tags": []
   },
   "outputs": [
    {
     "data": {
      "text/plain": [
       "('text-embedding-3-small',\n",
       " 1536,\n",
       " 0.7809981604825089,\n",
       " 0.8040307567839314,\n",
       " 0.7948717948717948)"
      ]
     },
     "execution_count": 19,
     "metadata": {},
     "output_type": "execute_result"
    }
   ],
   "source": [
    "model_id, dimension, jsts_score, jsick_score, miracl_recall"
   ]
  },
  {
   "cell_type": "code",
   "execution_count": 20,
   "id": "08b91286",
   "metadata": {
    "execution": {
     "iopub.execute_input": "2024-01-26T12:40:41.415265Z",
     "iopub.status.busy": "2024-01-26T12:40:41.414262Z",
     "iopub.status.idle": "2024-01-26T12:40:41.433584Z",
     "shell.execute_reply": "2024-01-26T12:40:41.432530Z"
    },
    "papermill": {
     "duration": 0.025885,
     "end_time": "2024-01-26T12:40:41.435162",
     "exception": false,
     "start_time": "2024-01-26T12:40:41.409277",
     "status": "completed"
    },
    "tags": []
   },
   "outputs": [],
   "source": [
    "import json\n",
    "\n",
    "with open(f'./scores/{model_id.replace(\"/\", \"_\")}_{dimension}.txt', \"w\") as f:\n",
    "    f.write(\n",
    "        json.dumps(\n",
    "            {\n",
    "                \"model_id\": model_id,\n",
    "                \"jsts\": jsts_score,\n",
    "                \"jsick\": jsick_score,\n",
    "                \"miracl\": miracl_recall,\n",
    "            }\n",
    "        )\n",
    "    )"
   ]
  }
 ],
 "metadata": {
  "kernelspec": {
   "display_name": "Python 3 (ipykernel)",
   "language": "python",
   "name": "python3"
  },
  "language_info": {
   "codemirror_mode": {
    "name": "ipython",
    "version": 3
   },
   "file_extension": ".py",
   "mimetype": "text/x-python",
   "name": "python",
   "nbconvert_exporter": "python",
   "pygments_lexer": "ipython3",
   "version": "3.9.11"
  },
  "papermill": {
   "default_parameters": {},
   "duration": 438.981632,
   "end_time": "2024-01-26T12:40:42.967172",
   "environment_variables": {},
   "exception": null,
   "input_path": "template_openai.ipynb",
   "output_path": "22_text-embedding-3-small_1536.ipynb",
   "parameters": {
    "dimension": 1536,
    "model_id": "text-embedding-3-small"
   },
   "start_time": "2024-01-26T12:33:23.985540",
   "version": "2.4.0"
  },
  "toc": {
   "base_numbering": 1,
   "nav_menu": {},
   "number_sections": true,
   "sideBar": true,
   "skip_h1_title": false,
   "title_cell": "Table of Contents",
   "title_sidebar": "Contents",
   "toc_cell": false,
   "toc_position": {},
   "toc_section_display": true,
   "toc_window_display": false
  },
  "vscode": {
   "interpreter": {
    "hash": "02c2702a58ea2fe60fd5f26dd152a70e7993d77024040a4f035d0ea16923b730"
   }
  },
  "widgets": {
   "application/vnd.jupyter.widget-state+json": {
    "state": {
     "0b086695d3694edb8d1924b7e0635f30": {
      "model_module": "@jupyter-widgets/controls",
      "model_module_version": "2.0.0",
      "model_name": "FloatProgressModel",
      "state": {
       "_dom_classes": [],
       "_model_module": "@jupyter-widgets/controls",
       "_model_module_version": "2.0.0",
       "_model_name": "FloatProgressModel",
       "_view_count": null,
       "_view_module": "@jupyter-widgets/controls",
       "_view_module_version": "2.0.0",
       "_view_name": "ProgressView",
       "bar_style": "success",
       "description": "",
       "description_allow_html": false,
       "layout": "IPY_MODEL_ba8ee945716f423b805c8d3689ba3369",
       "max": 1.0,
       "min": 0.0,
       "orientation": "horizontal",
       "style": "IPY_MODEL_1adc6a71ccbd4f158a8e8a685996dbd8",
       "tabbable": null,
       "tooltip": null,
       "value": 1.0
      }
     },
     "1adc6a71ccbd4f158a8e8a685996dbd8": {
      "model_module": "@jupyter-widgets/controls",
      "model_module_version": "2.0.0",
      "model_name": "ProgressStyleModel",
      "state": {
       "_model_module": "@jupyter-widgets/controls",
       "_model_module_version": "2.0.0",
       "_model_name": "ProgressStyleModel",
       "_view_count": null,
       "_view_module": "@jupyter-widgets/base",
       "_view_module_version": "2.0.0",
       "_view_name": "StyleView",
       "bar_color": null,
       "description_width": ""
      }
     },
     "1ae90feb362c441dbf38012864eeab6a": {
      "model_module": "@jupyter-widgets/controls",
      "model_module_version": "2.0.0",
      "model_name": "HBoxModel",
      "state": {
       "_dom_classes": [],
       "_model_module": "@jupyter-widgets/controls",
       "_model_module_version": "2.0.0",
       "_model_name": "HBoxModel",
       "_view_count": null,
       "_view_module": "@jupyter-widgets/controls",
       "_view_module_version": "2.0.0",
       "_view_name": "HBoxView",
       "box_style": "",
       "children": [
        "IPY_MODEL_23bc2589ec894ff08bea7beb5d16f20d",
        "IPY_MODEL_0b086695d3694edb8d1924b7e0635f30",
        "IPY_MODEL_d50932df7de940f391db9b89f4dc6e68"
       ],
       "layout": "IPY_MODEL_6593b1fe7fe84f7d8d96d61f95925fa7",
       "tabbable": null,
       "tooltip": null
      }
     },
     "23bc2589ec894ff08bea7beb5d16f20d": {
      "model_module": "@jupyter-widgets/controls",
      "model_module_version": "2.0.0",
      "model_name": "HTMLModel",
      "state": {
       "_dom_classes": [],
       "_model_module": "@jupyter-widgets/controls",
       "_model_module_version": "2.0.0",
       "_model_name": "HTMLModel",
       "_view_count": null,
       "_view_module": "@jupyter-widgets/controls",
       "_view_module_version": "2.0.0",
       "_view_name": "HTMLView",
       "description": "",
       "description_allow_html": false,
       "layout": "IPY_MODEL_ccc9ef79cf854b28938305d49e70ff4a",
       "placeholder": "​",
       "style": "IPY_MODEL_e7654b41f06a4f398e5aa6ff166296de",
       "tabbable": null,
       "tooltip": null,
       "value": "100%"
      }
     },
     "6593b1fe7fe84f7d8d96d61f95925fa7": {
      "model_module": "@jupyter-widgets/base",
      "model_module_version": "2.0.0",
      "model_name": "LayoutModel",
      "state": {
       "_model_module": "@jupyter-widgets/base",
       "_model_module_version": "2.0.0",
       "_model_name": "LayoutModel",
       "_view_count": null,
       "_view_module": "@jupyter-widgets/base",
       "_view_module_version": "2.0.0",
       "_view_name": "LayoutView",
       "align_content": null,
       "align_items": null,
       "align_self": null,
       "border_bottom": null,
       "border_left": null,
       "border_right": null,
       "border_top": null,
       "bottom": null,
       "display": null,
       "flex": null,
       "flex_flow": null,
       "grid_area": null,
       "grid_auto_columns": null,
       "grid_auto_flow": null,
       "grid_auto_rows": null,
       "grid_column": null,
       "grid_gap": null,
       "grid_row": null,
       "grid_template_areas": null,
       "grid_template_columns": null,
       "grid_template_rows": null,
       "height": null,
       "justify_content": null,
       "justify_items": null,
       "left": null,
       "margin": null,
       "max_height": null,
       "max_width": null,
       "min_height": null,
       "min_width": null,
       "object_fit": null,
       "object_position": null,
       "order": null,
       "overflow": null,
       "padding": null,
       "right": null,
       "top": null,
       "visibility": null,
       "width": null
      }
     },
     "6a58c26f98f1483ca30ed214daa2cf89": {
      "model_module": "@jupyter-widgets/controls",
      "model_module_version": "2.0.0",
      "model_name": "HTMLStyleModel",
      "state": {
       "_model_module": "@jupyter-widgets/controls",
       "_model_module_version": "2.0.0",
       "_model_name": "HTMLStyleModel",
       "_view_count": null,
       "_view_module": "@jupyter-widgets/base",
       "_view_module_version": "2.0.0",
       "_view_name": "StyleView",
       "background": null,
       "description_width": "",
       "font_size": null,
       "text_color": null
      }
     },
     "77752906300c4cc892606850757877e8": {
      "model_module": "@jupyter-widgets/base",
      "model_module_version": "2.0.0",
      "model_name": "LayoutModel",
      "state": {
       "_model_module": "@jupyter-widgets/base",
       "_model_module_version": "2.0.0",
       "_model_name": "LayoutModel",
       "_view_count": null,
       "_view_module": "@jupyter-widgets/base",
       "_view_module_version": "2.0.0",
       "_view_name": "LayoutView",
       "align_content": null,
       "align_items": null,
       "align_self": null,
       "border_bottom": null,
       "border_left": null,
       "border_right": null,
       "border_top": null,
       "bottom": null,
       "display": null,
       "flex": null,
       "flex_flow": null,
       "grid_area": null,
       "grid_auto_columns": null,
       "grid_auto_flow": null,
       "grid_auto_rows": null,
       "grid_column": null,
       "grid_gap": null,
       "grid_row": null,
       "grid_template_areas": null,
       "grid_template_columns": null,
       "grid_template_rows": null,
       "height": null,
       "justify_content": null,
       "justify_items": null,
       "left": null,
       "margin": null,
       "max_height": null,
       "max_width": null,
       "min_height": null,
       "min_width": null,
       "object_fit": null,
       "object_position": null,
       "order": null,
       "overflow": null,
       "padding": null,
       "right": null,
       "top": null,
       "visibility": null,
       "width": null
      }
     },
     "ba8ee945716f423b805c8d3689ba3369": {
      "model_module": "@jupyter-widgets/base",
      "model_module_version": "2.0.0",
      "model_name": "LayoutModel",
      "state": {
       "_model_module": "@jupyter-widgets/base",
       "_model_module_version": "2.0.0",
       "_model_name": "LayoutModel",
       "_view_count": null,
       "_view_module": "@jupyter-widgets/base",
       "_view_module_version": "2.0.0",
       "_view_name": "LayoutView",
       "align_content": null,
       "align_items": null,
       "align_self": null,
       "border_bottom": null,
       "border_left": null,
       "border_right": null,
       "border_top": null,
       "bottom": null,
       "display": null,
       "flex": null,
       "flex_flow": null,
       "grid_area": null,
       "grid_auto_columns": null,
       "grid_auto_flow": null,
       "grid_auto_rows": null,
       "grid_column": null,
       "grid_gap": null,
       "grid_row": null,
       "grid_template_areas": null,
       "grid_template_columns": null,
       "grid_template_rows": null,
       "height": null,
       "justify_content": null,
       "justify_items": null,
       "left": null,
       "margin": null,
       "max_height": null,
       "max_width": null,
       "min_height": null,
       "min_width": null,
       "object_fit": null,
       "object_position": null,
       "order": null,
       "overflow": null,
       "padding": null,
       "right": null,
       "top": null,
       "visibility": null,
       "width": null
      }
     },
     "ccc9ef79cf854b28938305d49e70ff4a": {
      "model_module": "@jupyter-widgets/base",
      "model_module_version": "2.0.0",
      "model_name": "LayoutModel",
      "state": {
       "_model_module": "@jupyter-widgets/base",
       "_model_module_version": "2.0.0",
       "_model_name": "LayoutModel",
       "_view_count": null,
       "_view_module": "@jupyter-widgets/base",
       "_view_module_version": "2.0.0",
       "_view_name": "LayoutView",
       "align_content": null,
       "align_items": null,
       "align_self": null,
       "border_bottom": null,
       "border_left": null,
       "border_right": null,
       "border_top": null,
       "bottom": null,
       "display": null,
       "flex": null,
       "flex_flow": null,
       "grid_area": null,
       "grid_auto_columns": null,
       "grid_auto_flow": null,
       "grid_auto_rows": null,
       "grid_column": null,
       "grid_gap": null,
       "grid_row": null,
       "grid_template_areas": null,
       "grid_template_columns": null,
       "grid_template_rows": null,
       "height": null,
       "justify_content": null,
       "justify_items": null,
       "left": null,
       "margin": null,
       "max_height": null,
       "max_width": null,
       "min_height": null,
       "min_width": null,
       "object_fit": null,
       "object_position": null,
       "order": null,
       "overflow": null,
       "padding": null,
       "right": null,
       "top": null,
       "visibility": null,
       "width": null
      }
     },
     "d50932df7de940f391db9b89f4dc6e68": {
      "model_module": "@jupyter-widgets/controls",
      "model_module_version": "2.0.0",
      "model_name": "HTMLModel",
      "state": {
       "_dom_classes": [],
       "_model_module": "@jupyter-widgets/controls",
       "_model_module_version": "2.0.0",
       "_model_name": "HTMLModel",
       "_view_count": null,
       "_view_module": "@jupyter-widgets/controls",
       "_view_module_version": "2.0.0",
       "_view_name": "HTMLView",
       "description": "",
       "description_allow_html": false,
       "layout": "IPY_MODEL_77752906300c4cc892606850757877e8",
       "placeholder": "​",
       "style": "IPY_MODEL_6a58c26f98f1483ca30ed214daa2cf89",
       "tabbable": null,
       "tooltip": null,
       "value": " 1/1 [00:00&lt;00:00,  2.83it/s]"
      }
     },
     "e7654b41f06a4f398e5aa6ff166296de": {
      "model_module": "@jupyter-widgets/controls",
      "model_module_version": "2.0.0",
      "model_name": "HTMLStyleModel",
      "state": {
       "_model_module": "@jupyter-widgets/controls",
       "_model_module_version": "2.0.0",
       "_model_name": "HTMLStyleModel",
       "_view_count": null,
       "_view_module": "@jupyter-widgets/base",
       "_view_module_version": "2.0.0",
       "_view_name": "StyleView",
       "background": null,
       "description_width": "",
       "font_size": null,
       "text_color": null
      }
     }
    },
    "version_major": 2,
    "version_minor": 0
   }
  }
 },
 "nbformat": 4,
 "nbformat_minor": 5
}