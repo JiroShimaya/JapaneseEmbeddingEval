{
 "cells": [
  {
   "cell_type": "code",
   "execution_count": 1,
   "id": "f7781b7a",
   "metadata": {
    "ExecuteTime": {
     "end_time": "2023-10-07T08:50:45.949996Z",
     "start_time": "2023-10-07T08:50:44.497041Z"
    },
    "execution": {
     "iopub.execute_input": "2024-01-26T12:40:44.308434Z",
     "iopub.status.busy": "2024-01-26T12:40:44.307434Z",
     "iopub.status.idle": "2024-01-26T12:40:44.778483Z",
     "shell.execute_reply": "2024-01-26T12:40:44.777471Z"
    },
    "papermill": {
     "duration": 0.47705,
     "end_time": "2024-01-26T12:40:44.779472",
     "exception": false,
     "start_time": "2024-01-26T12:40:44.302422",
     "status": "completed"
    },
    "tags": []
   },
   "outputs": [
    {
     "data": {
      "text/plain": [
       "'1.10.0'"
      ]
     },
     "execution_count": 1,
     "metadata": {},
     "output_type": "execute_result"
    }
   ],
   "source": [
    "import openai\n",
    "import os\n",
    "\n",
    "openai.__version__"
   ]
  },
  {
   "cell_type": "code",
   "execution_count": 2,
   "id": "7bbad0a1",
   "metadata": {
    "ExecuteTime": {
     "end_time": "2023-10-07T08:50:45.965421Z",
     "start_time": "2023-10-07T08:50:45.951998Z"
    },
    "execution": {
     "iopub.execute_input": "2024-01-26T12:40:44.789992Z",
     "iopub.status.busy": "2024-01-26T12:40:44.788995Z",
     "iopub.status.idle": "2024-01-26T12:40:44.808538Z",
     "shell.execute_reply": "2024-01-26T12:40:44.808538Z"
    },
    "papermill": {
     "duration": 0.028067,
     "end_time": "2024-01-26T12:40:44.810538",
     "exception": false,
     "start_time": "2024-01-26T12:40:44.782471",
     "status": "completed"
    },
    "tags": [
     "parameters"
    ]
   },
   "outputs": [],
   "source": [
    "jsts_url = \"https://raw.githubusercontent.com/yahoojapan/JGLUE/main/datasets/jsts-v1.1/valid-v1.1.json\"\n",
    "jsick_url = \"https://github.com/verypluming/JSICK/raw/main/jsick/test.tsv\"\n",
    "miracle_n_hard_negs = 300\n",
    "miracle_n_recall = 30\n",
    "model_id = \"\"\n",
    "dimension = -1\n",
    "query_prefix = \"\"\n",
    "passage_prefix = \"\""
   ]
  },
  {
   "cell_type": "code",
   "execution_count": 3,
   "id": "5ec2dbd5",
   "metadata": {
    "execution": {
     "iopub.execute_input": "2024-01-26T12:40:44.816605Z",
     "iopub.status.busy": "2024-01-26T12:40:44.816605Z",
     "iopub.status.idle": "2024-01-26T12:40:44.823602Z",
     "shell.execute_reply": "2024-01-26T12:40:44.823602Z"
    },
    "papermill": {
     "duration": 0.012073,
     "end_time": "2024-01-26T12:40:44.824610",
     "exception": false,
     "start_time": "2024-01-26T12:40:44.812537",
     "status": "completed"
    },
    "tags": [
     "injected-parameters"
    ]
   },
   "outputs": [],
   "source": [
    "# Parameters\n",
    "model_id = \"text-embedding-3-large\"\n",
    "dimension = 3072\n"
   ]
  },
  {
   "cell_type": "markdown",
   "id": "749e7c42",
   "metadata": {
    "papermill": {
     "duration": 0.003,
     "end_time": "2024-01-26T12:40:44.831626",
     "exception": false,
     "start_time": "2024-01-26T12:40:44.828626",
     "status": "completed"
    },
    "tags": []
   },
   "source": [
    "# Model"
   ]
  },
  {
   "cell_type": "code",
   "execution_count": 4,
   "id": "1063845e",
   "metadata": {
    "execution": {
     "iopub.execute_input": "2024-01-26T12:40:44.842142Z",
     "iopub.status.busy": "2024-01-26T12:40:44.841142Z",
     "iopub.status.idle": "2024-01-26T12:40:44.945821Z",
     "shell.execute_reply": "2024-01-26T12:40:44.945229Z"
    },
    "papermill": {
     "duration": 0.111377,
     "end_time": "2024-01-26T12:40:44.947514",
     "exception": false,
     "start_time": "2024-01-26T12:40:44.836137",
     "status": "completed"
    },
    "tags": []
   },
   "outputs": [],
   "source": [
    "import numpy as np\n",
    "import dotenv\n",
    "\n",
    "dotenv.load_dotenv(\"openai_key\", override=True)\n",
    "client = openai.OpenAI()\n",
    "\n",
    "\n",
    "# https://platform.openai.com/docs/guides/embeddings/use-cases\n",
    "def get_embedding(texts):\n",
    "    texts = [text.replace(\"\\n\", \" \")[:2000] for text in texts]\n",
    "    if \"text-embedding-3\" not in model_id:\n",
    "        return client.embeddings.create(input=texts, model=model_id).data\n",
    "    else:\n",
    "        return client.embeddings.create(\n",
    "            input=texts, model=model_id, dimensions=dimension\n",
    "        ).data\n",
    "\n",
    "\n",
    "def get_embeddings(texts):\n",
    "    all_embeddings = []\n",
    "    batch_size = 100\n",
    "    for i in range(0, len(texts), batch_size):\n",
    "        all_embeddings += [\n",
    "            emb.embedding for emb in get_embedding(texts[i : i + batch_size])\n",
    "        ]\n",
    "    return np.array(all_embeddings)"
   ]
  },
  {
   "cell_type": "markdown",
   "id": "f483fd2d",
   "metadata": {
    "papermill": {
     "duration": 0.005141,
     "end_time": "2024-01-26T12:40:44.957272",
     "exception": false,
     "start_time": "2024-01-26T12:40:44.952131",
     "status": "completed"
    },
    "tags": []
   },
   "source": [
    "# JSTS"
   ]
  },
  {
   "cell_type": "code",
   "execution_count": 5,
   "id": "544459fa",
   "metadata": {
    "ExecuteTime": {
     "end_time": "2023-10-07T08:50:54.215161Z",
     "start_time": "2023-10-07T08:50:53.767452Z"
    },
    "execution": {
     "iopub.execute_input": "2024-01-26T12:40:44.965272Z",
     "iopub.status.busy": "2024-01-26T12:40:44.965272Z",
     "iopub.status.idle": "2024-01-26T12:40:45.646411Z",
     "shell.execute_reply": "2024-01-26T12:40:45.646411Z"
    },
    "papermill": {
     "duration": 0.687603,
     "end_time": "2024-01-26T12:40:45.648875",
     "exception": false,
     "start_time": "2024-01-26T12:40:44.961272",
     "status": "completed"
    },
    "tags": []
   },
   "outputs": [
    {
     "data": {
      "text/html": [
       "<div>\n",
       "<style scoped>\n",
       "    .dataframe tbody tr th:only-of-type {\n",
       "        vertical-align: middle;\n",
       "    }\n",
       "\n",
       "    .dataframe tbody tr th {\n",
       "        vertical-align: top;\n",
       "    }\n",
       "\n",
       "    .dataframe thead th {\n",
       "        text-align: right;\n",
       "    }\n",
       "</style>\n",
       "<table border=\"1\" class=\"dataframe\">\n",
       "  <thead>\n",
       "    <tr style=\"text-align: right;\">\n",
       "      <th></th>\n",
       "      <th>sentence_pair_id</th>\n",
       "      <th>yjcaptions_id</th>\n",
       "      <th>sentence1</th>\n",
       "      <th>sentence2</th>\n",
       "      <th>label</th>\n",
       "    </tr>\n",
       "  </thead>\n",
       "  <tbody>\n",
       "    <tr>\n",
       "      <th>0</th>\n",
       "      <td>0</td>\n",
       "      <td>100312_421853-104611-31624</td>\n",
       "      <td>レンガの建物の前を、乳母車を押した女性が歩いています。</td>\n",
       "      <td>厩舎で馬と女性とが寄り添っています。</td>\n",
       "      <td>0.0</td>\n",
       "    </tr>\n",
       "  </tbody>\n",
       "</table>\n",
       "</div>"
      ],
      "text/plain": [
       "  sentence_pair_id               yjcaptions_id                    sentence1  \\\n",
       "0                0  100312_421853-104611-31624  レンガの建物の前を、乳母車を押した女性が歩いています。   \n",
       "\n",
       "            sentence2  label  \n",
       "0  厩舎で馬と女性とが寄り添っています。    0.0  "
      ]
     },
     "execution_count": 5,
     "metadata": {},
     "output_type": "execute_result"
    }
   ],
   "source": [
    "import json\n",
    "import pandas as pd\n",
    "from urllib.request import urlopen\n",
    "\n",
    "df = pd.DataFrame([json.loads(line) for line in urlopen(jsts_url).readlines()])\n",
    "df.head(1)"
   ]
  },
  {
   "cell_type": "code",
   "execution_count": 6,
   "id": "8f16dc39",
   "metadata": {
    "ExecuteTime": {
     "end_time": "2023-10-07T08:50:54.230679Z",
     "start_time": "2023-10-07T08:50:54.218161Z"
    },
    "execution": {
     "iopub.execute_input": "2024-01-26T12:40:45.660412Z",
     "iopub.status.busy": "2024-01-26T12:40:45.659412Z",
     "iopub.status.idle": "2024-01-26T12:40:45.676247Z",
     "shell.execute_reply": "2024-01-26T12:40:45.676247Z"
    },
    "papermill": {
     "duration": 0.024309,
     "end_time": "2024-01-26T12:40:45.678188",
     "exception": false,
     "start_time": "2024-01-26T12:40:45.653879",
     "status": "completed"
    },
    "tags": []
   },
   "outputs": [
    {
     "data": {
      "text/plain": [
       "(1457, 5)"
      ]
     },
     "execution_count": 6,
     "metadata": {},
     "output_type": "execute_result"
    }
   ],
   "source": [
    "df.shape"
   ]
  },
  {
   "cell_type": "markdown",
   "id": "1886830a",
   "metadata": {
    "papermill": {
     "duration": 0.002993,
     "end_time": "2024-01-26T12:40:45.684176",
     "exception": false,
     "start_time": "2024-01-26T12:40:45.681183",
     "status": "completed"
    },
    "tags": []
   },
   "source": [
    "## Encode"
   ]
  },
  {
   "cell_type": "code",
   "execution_count": 7,
   "id": "6cd82d59",
   "metadata": {
    "ExecuteTime": {
     "end_time": "2023-10-07T08:50:57.800419Z",
     "start_time": "2023-10-07T08:50:54.234207Z"
    },
    "execution": {
     "iopub.execute_input": "2024-01-26T12:40:45.694293Z",
     "iopub.status.busy": "2024-01-26T12:40:45.693292Z",
     "iopub.status.idle": "2024-01-26T12:41:24.705094Z",
     "shell.execute_reply": "2024-01-26T12:41:24.705094Z"
    },
    "papermill": {
     "duration": 39.018335,
     "end_time": "2024-01-26T12:41:24.707639",
     "exception": false,
     "start_time": "2024-01-26T12:40:45.689304",
     "status": "completed"
    },
    "tags": []
   },
   "outputs": [
    {
     "data": {
      "text/plain": [
       "((1457, 3072), (1457, 3072))"
      ]
     },
     "execution_count": 7,
     "metadata": {},
     "output_type": "execute_result"
    }
   ],
   "source": [
    "import numpy as np\n",
    "\n",
    "\n",
    "sentence1_embs = get_embeddings(df[\"sentence1\"].values)\n",
    "sentence2_embs = get_embeddings(df[\"sentence2\"].values)\n",
    "\n",
    "\n",
    "sentence1_embs.shape, sentence2_embs.shape"
   ]
  },
  {
   "cell_type": "markdown",
   "id": "dcda3b0b",
   "metadata": {
    "papermill": {
     "duration": 0.003518,
     "end_time": "2024-01-26T12:41:24.717638",
     "exception": false,
     "start_time": "2024-01-26T12:41:24.714120",
     "status": "completed"
    },
    "tags": []
   },
   "source": [
    "## Correlation Score"
   ]
  },
  {
   "cell_type": "code",
   "execution_count": 8,
   "id": "81d401a3",
   "metadata": {
    "ExecuteTime": {
     "end_time": "2023-10-07T08:50:57.847350Z",
     "start_time": "2023-10-07T08:50:57.801925Z"
    },
    "execution": {
     "iopub.execute_input": "2024-01-26T12:41:24.728172Z",
     "iopub.status.busy": "2024-01-26T12:41:24.728172Z",
     "iopub.status.idle": "2024-01-26T12:41:25.163391Z",
     "shell.execute_reply": "2024-01-26T12:41:25.162592Z"
    },
    "papermill": {
     "duration": 0.443312,
     "end_time": "2024-01-26T12:41:25.164950",
     "exception": false,
     "start_time": "2024-01-26T12:41:24.721638",
     "status": "completed"
    },
    "tags": []
   },
   "outputs": [
    {
     "data": {
      "text/plain": [
       "0.8376993902963759"
      ]
     },
     "execution_count": 8,
     "metadata": {},
     "output_type": "execute_result"
    }
   ],
   "source": [
    "from scipy.spatial.distance import cosine, euclidean\n",
    "from scipy.stats import spearmanr\n",
    "\n",
    "df[\"similarity\"] = [\n",
    "    1 - cosine(s1, s2) for s1, s2 in zip(sentence1_embs, sentence2_embs)\n",
    "]\n",
    "jsts_score = spearmanr(df[\"similarity\"], df[\"label\"])[0]\n",
    "jsts_score"
   ]
  },
  {
   "cell_type": "markdown",
   "id": "090c115b",
   "metadata": {
    "papermill": {
     "duration": 0.003304,
     "end_time": "2024-01-26T12:41:25.172597",
     "exception": false,
     "start_time": "2024-01-26T12:41:25.169293",
     "status": "completed"
    },
    "tags": []
   },
   "source": [
    "# JSICK"
   ]
  },
  {
   "cell_type": "code",
   "execution_count": 9,
   "id": "5a0b2307",
   "metadata": {
    "ExecuteTime": {
     "end_time": "2023-10-07T08:51:00.645301Z",
     "start_time": "2023-10-07T08:51:00.119204Z"
    },
    "execution": {
     "iopub.execute_input": "2024-01-26T12:41:25.183240Z",
     "iopub.status.busy": "2024-01-26T12:41:25.182230Z",
     "iopub.status.idle": "2024-01-26T12:41:26.104991Z",
     "shell.execute_reply": "2024-01-26T12:41:26.104991Z"
    },
    "papermill": {
     "duration": 0.928361,
     "end_time": "2024-01-26T12:41:26.106600",
     "exception": false,
     "start_time": "2024-01-26T12:41:25.178239",
     "status": "completed"
    },
    "tags": []
   },
   "outputs": [
    {
     "data": {
      "text/html": [
       "<div>\n",
       "<style scoped>\n",
       "    .dataframe tbody tr th:only-of-type {\n",
       "        vertical-align: middle;\n",
       "    }\n",
       "\n",
       "    .dataframe tbody tr th {\n",
       "        vertical-align: top;\n",
       "    }\n",
       "\n",
       "    .dataframe thead th {\n",
       "        text-align: right;\n",
       "    }\n",
       "</style>\n",
       "<table border=\"1\" class=\"dataframe\">\n",
       "  <thead>\n",
       "    <tr style=\"text-align: right;\">\n",
       "      <th></th>\n",
       "      <th>pair_ID</th>\n",
       "      <th>data</th>\n",
       "      <th>sentence_A_En</th>\n",
       "      <th>sentence_B_En</th>\n",
       "      <th>entailment_label_En</th>\n",
       "      <th>relatedness_score_En</th>\n",
       "      <th>corr_entailment_labelAB_En</th>\n",
       "      <th>corr_entailment_labelBA_En</th>\n",
       "      <th>sentence_A_Ja</th>\n",
       "      <th>sentence_B_Ja</th>\n",
       "      <th>entailment_label_Ja</th>\n",
       "      <th>relatedness_score_Ja</th>\n",
       "      <th>image_ID</th>\n",
       "      <th>original_caption</th>\n",
       "      <th>semtag_short</th>\n",
       "      <th>semtag_long</th>\n",
       "    </tr>\n",
       "  </thead>\n",
       "  <tbody>\n",
       "    <tr>\n",
       "      <th>0</th>\n",
       "      <td>6</td>\n",
       "      <td>test</td>\n",
       "      <td>There is no boy playing outdoors and there is ...</td>\n",
       "      <td>A group of kids is playing in a yard and an ol...</td>\n",
       "      <td>neutral</td>\n",
       "      <td>3.3</td>\n",
       "      <td>NaN</td>\n",
       "      <td>NaN</td>\n",
       "      <td>戸外で遊んでいる男の子は一人もおらず、微笑んでいる男性は一人もいない</td>\n",
       "      <td>子供たちのグループが庭で遊んでいて、後ろの方には年を取った男性が立っている</td>\n",
       "      <td>contradiction</td>\n",
       "      <td>2.3</td>\n",
       "      <td>3155657768_b83a7831e5.jpg</td>\n",
       "      <td>The children are playing outdoors , while a ma...</td>\n",
       "      <td>Negation#Numerical</td>\n",
       "      <td>Numerical;人;名詞,接尾,助数詞,*#Negation;ない;助動詞,*,*,*#...</td>\n",
       "    </tr>\n",
       "  </tbody>\n",
       "</table>\n",
       "</div>"
      ],
      "text/plain": [
       "   pair_ID  data                                      sentence_A_En  \\\n",
       "0        6  test  There is no boy playing outdoors and there is ...   \n",
       "\n",
       "                                       sentence_B_En entailment_label_En  \\\n",
       "0  A group of kids is playing in a yard and an ol...             neutral   \n",
       "\n",
       "   relatedness_score_En corr_entailment_labelAB_En corr_entailment_labelBA_En  \\\n",
       "0                   3.3                        NaN                        NaN   \n",
       "\n",
       "                        sentence_A_Ja                          sentence_B_Ja  \\\n",
       "0  戸外で遊んでいる男の子は一人もおらず、微笑んでいる男性は一人もいない  子供たちのグループが庭で遊んでいて、後ろの方には年を取った男性が立っている   \n",
       "\n",
       "  entailment_label_Ja  relatedness_score_Ja                   image_ID  \\\n",
       "0       contradiction                   2.3  3155657768_b83a7831e5.jpg   \n",
       "\n",
       "                                    original_caption        semtag_short  \\\n",
       "0  The children are playing outdoors , while a ma...  Negation#Numerical   \n",
       "\n",
       "                                         semtag_long  \n",
       "0  Numerical;人;名詞,接尾,助数詞,*#Negation;ない;助動詞,*,*,*#...  "
      ]
     },
     "execution_count": 9,
     "metadata": {},
     "output_type": "execute_result"
    }
   ],
   "source": [
    "df = pd.read_csv(jsick_url, sep=\"\\t\")\n",
    "df.head(1)"
   ]
  },
  {
   "cell_type": "code",
   "execution_count": 10,
   "id": "0427531e",
   "metadata": {
    "ExecuteTime": {
     "end_time": "2023-10-07T08:51:00.660322Z",
     "start_time": "2023-10-07T08:51:00.647809Z"
    },
    "execution": {
     "iopub.execute_input": "2024-01-26T12:41:26.117996Z",
     "iopub.status.busy": "2024-01-26T12:41:26.117996Z",
     "iopub.status.idle": "2024-01-26T12:41:26.134870Z",
     "shell.execute_reply": "2024-01-26T12:41:26.134870Z"
    },
    "papermill": {
     "duration": 0.024881,
     "end_time": "2024-01-26T12:41:26.137395",
     "exception": false,
     "start_time": "2024-01-26T12:41:26.112514",
     "status": "completed"
    },
    "tags": []
   },
   "outputs": [
    {
     "data": {
      "text/plain": [
       "(4927, 16)"
      ]
     },
     "execution_count": 10,
     "metadata": {},
     "output_type": "execute_result"
    }
   ],
   "source": [
    "df.shape"
   ]
  },
  {
   "cell_type": "markdown",
   "id": "42922fc7",
   "metadata": {
    "papermill": {
     "duration": 0.00552,
     "end_time": "2024-01-26T12:41:26.146916",
     "exception": false,
     "start_time": "2024-01-26T12:41:26.141396",
     "status": "completed"
    },
    "tags": []
   },
   "source": [
    "## Encode"
   ]
  },
  {
   "cell_type": "code",
   "execution_count": 11,
   "id": "39d7087f",
   "metadata": {
    "ExecuteTime": {
     "end_time": "2023-10-07T08:51:06.645910Z",
     "start_time": "2023-10-07T08:51:01.623993Z"
    },
    "execution": {
     "iopub.execute_input": "2024-01-26T12:41:26.156472Z",
     "iopub.status.busy": "2024-01-26T12:41:26.155429Z",
     "iopub.status.idle": "2024-01-26T12:43:40.413950Z",
     "shell.execute_reply": "2024-01-26T12:43:40.412949Z"
    },
    "papermill": {
     "duration": 134.268546,
     "end_time": "2024-01-26T12:43:40.419465",
     "exception": false,
     "start_time": "2024-01-26T12:41:26.150919",
     "status": "completed"
    },
    "tags": []
   },
   "outputs": [
    {
     "data": {
      "text/plain": [
       "((4927, 3072), (4927, 3072))"
      ]
     },
     "execution_count": 11,
     "metadata": {},
     "output_type": "execute_result"
    }
   ],
   "source": [
    "sentence1_embs = get_embeddings(df[\"sentence_A_Ja\"].values)\n",
    "sentence2_embs = get_embeddings(df[\"sentence_B_Ja\"].values)\n",
    "sentence1_embs.shape, sentence2_embs.shape"
   ]
  },
  {
   "cell_type": "markdown",
   "id": "27f45241",
   "metadata": {
    "papermill": {
     "duration": 0.003525,
     "end_time": "2024-01-26T12:43:40.427991",
     "exception": false,
     "start_time": "2024-01-26T12:43:40.424466",
     "status": "completed"
    },
    "tags": []
   },
   "source": [
    "## Correlation Score"
   ]
  },
  {
   "cell_type": "code",
   "execution_count": 12,
   "id": "ccbb0ef6",
   "metadata": {
    "execution": {
     "iopub.execute_input": "2024-01-26T12:43:40.439512Z",
     "iopub.status.busy": "2024-01-26T12:43:40.439512Z",
     "iopub.status.idle": "2024-01-26T12:43:40.582051Z",
     "shell.execute_reply": "2024-01-26T12:43:40.581056Z"
    },
    "papermill": {
     "duration": 0.150071,
     "end_time": "2024-01-26T12:43:40.584065",
     "exception": false,
     "start_time": "2024-01-26T12:43:40.433994",
     "status": "completed"
    },
    "tags": []
   },
   "outputs": [
    {
     "data": {
      "text/plain": [
       "0.8115338122021275"
      ]
     },
     "execution_count": 12,
     "metadata": {},
     "output_type": "execute_result"
    }
   ],
   "source": [
    "from scipy.spatial.distance import cosine\n",
    "from scipy.stats import spearmanr\n",
    "\n",
    "df[\"similarity\"] = [\n",
    "    1 - cosine(s1, s2) for s1, s2 in zip(sentence1_embs, sentence2_embs)\n",
    "]\n",
    "jsick_score = spearmanr(df[\"similarity\"], df[\"relatedness_score_Ja\"])[0]\n",
    "jsick_score"
   ]
  },
  {
   "cell_type": "markdown",
   "id": "b9e9a96f",
   "metadata": {
    "papermill": {
     "duration": 0.002999,
     "end_time": "2024-01-26T12:43:40.592593",
     "exception": false,
     "start_time": "2024-01-26T12:43:40.589594",
     "status": "completed"
    },
    "tags": []
   },
   "source": [
    "# Miracle\n",
    "* Need access token for huggingface"
   ]
  },
  {
   "cell_type": "code",
   "execution_count": 13,
   "id": "5ccdd60d",
   "metadata": {
    "execution": {
     "iopub.execute_input": "2024-01-26T12:43:40.605053Z",
     "iopub.status.busy": "2024-01-26T12:43:40.605053Z",
     "iopub.status.idle": "2024-01-26T12:43:40.612894Z",
     "shell.execute_reply": "2024-01-26T12:43:40.611894Z"
    },
    "papermill": {
     "duration": 0.015818,
     "end_time": "2024-01-26T12:43:40.614903",
     "exception": false,
     "start_time": "2024-01-26T12:43:40.599085",
     "status": "completed"
    },
    "tags": []
   },
   "outputs": [
    {
     "data": {
      "text/plain": [
       "True"
      ]
     },
     "execution_count": 13,
     "metadata": {},
     "output_type": "execute_result"
    }
   ],
   "source": [
    "import os\n",
    "import dotenv\n",
    "\n",
    "dotenv.load_dotenv(\"huggingface_access_token\", override=True)"
   ]
  },
  {
   "cell_type": "code",
   "execution_count": 14,
   "id": "1cbc5f82",
   "metadata": {
    "execution": {
     "iopub.execute_input": "2024-01-26T12:43:40.625419Z",
     "iopub.status.busy": "2024-01-26T12:43:40.624420Z",
     "iopub.status.idle": "2024-01-26T12:43:42.785147Z",
     "shell.execute_reply": "2024-01-26T12:43:42.785147Z"
    },
    "papermill": {
     "duration": 2.167302,
     "end_time": "2024-01-26T12:43:42.786729",
     "exception": false,
     "start_time": "2024-01-26T12:43:40.619427",
     "status": "completed"
    },
    "tags": []
   },
   "outputs": [
    {
     "name": "stderr",
     "output_type": "stream",
     "text": [
      "Found cached dataset miracl (G:/cache/miracl___miracl/ja/1.0.0/f598b4ee332f2b16e82c6c83ab1ba82e1a7777ef82e7ce3c1416f6b20a142313)\n"
     ]
    },
    {
     "data": {
      "text/plain": [
       "Dataset({\n",
       "    features: ['query_id', 'query', 'positive_passages', 'negative_passages'],\n",
       "    num_rows: 860\n",
       "})"
      ]
     },
     "execution_count": 14,
     "metadata": {},
     "output_type": "execute_result"
    }
   ],
   "source": [
    "import datasets\n",
    "\n",
    "# query and positives\n",
    "ds = datasets.load_dataset(\n",
    "    \"miracl/miracl\", \"ja\", use_auth_token=os.environ[\"HF_ACCESS_TOKEN\"], split=\"dev\"\n",
    ")\n",
    "ds"
   ]
  },
  {
   "cell_type": "code",
   "execution_count": 15,
   "id": "1d5621b0",
   "metadata": {
    "execution": {
     "iopub.execute_input": "2024-01-26T12:43:42.796685Z",
     "iopub.status.busy": "2024-01-26T12:43:42.796685Z",
     "iopub.status.idle": "2024-01-26T12:43:45.130499Z",
     "shell.execute_reply": "2024-01-26T12:43:45.129942Z"
    },
    "papermill": {
     "duration": 2.339832,
     "end_time": "2024-01-26T12:43:45.131515",
     "exception": false,
     "start_time": "2024-01-26T12:43:42.791683",
     "status": "completed"
    },
    "tags": []
   },
   "outputs": [
    {
     "name": "stderr",
     "output_type": "stream",
     "text": [
      "Found cached dataset miracl-corpus (G:/cache/miracl___miracl-corpus/ja/1.0.0/16b566312c83a2e1f94d0813c8702b464b97f6b8959336adf062d289ce9b51fa)\n"
     ]
    },
    {
     "data": {
      "application/vnd.jupyter.widget-view+json": {
       "model_id": "23b533b8700743beb77ed1c7613e7ef1",
       "version_major": 2,
       "version_minor": 0
      },
      "text/plain": [
       "  0%|          | 0/1 [00:00<?, ?it/s]"
      ]
     },
     "metadata": {},
     "output_type": "display_data"
    },
    {
     "data": {
      "text/plain": [
       "DatasetDict({\n",
       "    train: Dataset({\n",
       "        features: ['docid', 'title', 'text'],\n",
       "        num_rows: 6953614\n",
       "    })\n",
       "})"
      ]
     },
     "execution_count": 15,
     "metadata": {},
     "output_type": "execute_result"
    }
   ],
   "source": [
    "# all corpus texts\n",
    "corpus = datasets.load_dataset(\"miracl/miracl-corpus\", \"ja\")\n",
    "corpus"
   ]
  },
  {
   "cell_type": "code",
   "execution_count": 16,
   "id": "9919b650",
   "metadata": {
    "execution": {
     "iopub.execute_input": "2024-01-26T12:43:45.143032Z",
     "iopub.status.busy": "2024-01-26T12:43:45.143032Z",
     "iopub.status.idle": "2024-01-26T12:43:45.313594Z",
     "shell.execute_reply": "2024-01-26T12:43:45.313594Z"
    },
    "papermill": {
     "duration": 0.176569,
     "end_time": "2024-01-26T12:43:45.314599",
     "exception": false,
     "start_time": "2024-01-26T12:43:45.138030",
     "status": "completed"
    },
    "tags": []
   },
   "outputs": [
    {
     "data": {
      "text/plain": [
       "(860,\n",
       " ['0', '3', '4', '5', '7'],\n",
       " dict_keys(['docids', 'indices']),\n",
       " ['2681119#0', '2681119#1'],\n",
       " [1393435, 1393436])"
      ]
     },
     "execution_count": 16,
     "metadata": {},
     "output_type": "execute_result"
    }
   ],
   "source": [
    "# hard negatives\n",
    "with open(\"./miracl_hard_negs_1000.json\") as f:\n",
    "    hn = json.loads(f.read())\n",
    "len(hn), list(hn.keys())[:5], hn[\"0\"].keys(), hn[\"0\"][\"docids\"][:2], hn[\"0\"][\"indices\"][\n",
    "    :2\n",
    "]"
   ]
  },
  {
   "cell_type": "code",
   "execution_count": 17,
   "id": "69bfee03",
   "metadata": {
    "execution": {
     "iopub.execute_input": "2024-01-26T12:43:45.329694Z",
     "iopub.status.busy": "2024-01-26T12:43:45.328688Z",
     "iopub.status.idle": "2024-01-26T12:46:46.453477Z",
     "shell.execute_reply": "2024-01-26T12:46:46.452477Z"
    },
    "papermill": {
     "duration": 181.132365,
     "end_time": "2024-01-26T12:46:46.455476",
     "exception": false,
     "start_time": "2024-01-26T12:43:45.323111",
     "status": "completed"
    },
    "tags": []
   },
   "outputs": [],
   "source": [
    "import numpy as np\n",
    "import pandas as pd\n",
    "from scipy.spatial.distance import cdist\n",
    "\n",
    "\n",
    "def get_text(corpus_item):\n",
    "    return corpus_item[\"title\"] + \" \" + corpus_item[\"text\"]\n",
    "\n",
    "\n",
    "corpus_dict = {item[\"docid\"]: get_text(item) for item in corpus[\"train\"]}"
   ]
  },
  {
   "cell_type": "code",
   "execution_count": 18,
   "id": "7c79936e",
   "metadata": {
    "execution": {
     "iopub.execute_input": "2024-01-26T12:46:46.465989Z",
     "iopub.status.busy": "2024-01-26T12:46:46.465989Z",
     "iopub.status.idle": "2024-01-26T12:58:24.165892Z",
     "shell.execute_reply": "2024-01-26T12:58:24.164893Z"
    },
    "papermill": {
     "duration": 697.706903,
     "end_time": "2024-01-26T12:58:24.167891",
     "exception": false,
     "start_time": "2024-01-26T12:46:46.460988",
     "status": "completed"
    },
    "tags": []
   },
   "outputs": [
    {
     "data": {
      "text/plain": [
       "(195, 164, 0.841025641025641)"
      ]
     },
     "execution_count": 18,
     "metadata": {},
     "output_type": "execute_result"
    }
   ],
   "source": [
    "n_total_pos = 0\n",
    "n_total_tp = 0\n",
    "\n",
    "# only evaluate first 100 queries\n",
    "for item in ds.select(range(100)):\n",
    "    # query\n",
    "    query_emb = get_embeddings([query_prefix + item[\"query\"]])\n",
    "\n",
    "    # passages are set(300 hard negatives + positives)\n",
    "    positive_docids = [pp[\"docid\"] for pp in item[\"positive_passages\"]]\n",
    "    positive_texts = [get_text(pp) for pp in item[\"positive_passages\"]]\n",
    "    hn_docids = hn[item[\"query_id\"]][\"docids\"][:miracle_n_hard_negs]\n",
    "\n",
    "    # drop hard negatives in positives\n",
    "    hn_docids = [docid for docid in hn_docids if docid not in positive_docids]\n",
    "\n",
    "    # search target\n",
    "    target_docids = positive_docids + hn_docids\n",
    "    target_texts = positive_texts + [corpus_dict[docid] for docid in hn_docids]\n",
    "\n",
    "    # embedding\n",
    "    tmppath = f'tmp/{model_id}_{dimension}_{item[\"query_id\"]}.npy'\n",
    "    if os.path.exists(tmppath):\n",
    "        target_embs = np.load(tmppath)\n",
    "    else:\n",
    "        # use cache\n",
    "        target_embs = get_embeddings([passage_prefix + text for text in target_texts])\n",
    "        np.save(tmppath, target_embs)\n",
    "\n",
    "    # topK\n",
    "    topk_indices = np.argsort(cdist(query_emb, target_embs, metric=\"cosine\"))[0][\n",
    "        :miracle_n_recall\n",
    "    ]\n",
    "\n",
    "    n_pos = len(positive_docids)\n",
    "    n_tp = len(\n",
    "        set(topk_indices) & set(range(len(positive_docids)))\n",
    "    )  # positives are first indices\n",
    "\n",
    "    n_total_pos += n_pos\n",
    "    n_total_tp += n_tp\n",
    "\n",
    "miracl_recall = n_total_tp / n_total_pos\n",
    "\n",
    "n_total_pos, n_total_tp, miracl_recall"
   ]
  },
  {
   "cell_type": "markdown",
   "id": "a8564bab",
   "metadata": {
    "papermill": {
     "duration": 0.006537,
     "end_time": "2024-01-26T12:58:24.178935",
     "exception": false,
     "start_time": "2024-01-26T12:58:24.172398",
     "status": "completed"
    },
    "tags": []
   },
   "source": [
    "# Output"
   ]
  },
  {
   "cell_type": "code",
   "execution_count": 19,
   "id": "7c6ccef0",
   "metadata": {
    "execution": {
     "iopub.execute_input": "2024-01-26T12:58:24.192430Z",
     "iopub.status.busy": "2024-01-26T12:58:24.192430Z",
     "iopub.status.idle": "2024-01-26T12:58:24.213042Z",
     "shell.execute_reply": "2024-01-26T12:58:24.211044Z"
    },
    "papermill": {
     "duration": 0.02811,
     "end_time": "2024-01-26T12:58:24.215042",
     "exception": false,
     "start_time": "2024-01-26T12:58:24.186932",
     "status": "completed"
    },
    "tags": []
   },
   "outputs": [
    {
     "data": {
      "text/plain": [
       "('text-embedding-3-large',\n",
       " 3072,\n",
       " 0.8376993902963759,\n",
       " 0.8115338122021275,\n",
       " 0.841025641025641)"
      ]
     },
     "execution_count": 19,
     "metadata": {},
     "output_type": "execute_result"
    }
   ],
   "source": [
    "model_id, dimension, jsts_score, jsick_score, miracl_recall"
   ]
  },
  {
   "cell_type": "code",
   "execution_count": 20,
   "id": "6cfc258f",
   "metadata": {
    "execution": {
     "iopub.execute_input": "2024-01-26T12:58:24.224566Z",
     "iopub.status.busy": "2024-01-26T12:58:24.224566Z",
     "iopub.status.idle": "2024-01-26T12:58:24.243150Z",
     "shell.execute_reply": "2024-01-26T12:58:24.242153Z"
    },
    "papermill": {
     "duration": 0.026579,
     "end_time": "2024-01-26T12:58:24.246150",
     "exception": false,
     "start_time": "2024-01-26T12:58:24.219571",
     "status": "completed"
    },
    "tags": []
   },
   "outputs": [],
   "source": [
    "import json\n",
    "\n",
    "with open(f'./scores/{model_id.replace(\"/\", \"_\")}_{dimension}.txt', \"w\") as f:\n",
    "    f.write(\n",
    "        json.dumps(\n",
    "            {\n",
    "                \"model_id\": model_id,\n",
    "                \"jsts\": jsts_score,\n",
    "                \"jsick\": jsick_score,\n",
    "                \"miracl\": miracl_recall,\n",
    "            }\n",
    "        )\n",
    "    )"
   ]
  }
 ],
 "metadata": {
  "kernelspec": {
   "display_name": "Python 3 (ipykernel)",
   "language": "python",
   "name": "python3"
  },
  "language_info": {
   "codemirror_mode": {
    "name": "ipython",
    "version": 3
   },
   "file_extension": ".py",
   "mimetype": "text/x-python",
   "name": "python",
   "nbconvert_exporter": "python",
   "pygments_lexer": "ipython3",
   "version": "3.9.11"
  },
  "papermill": {
   "default_parameters": {},
   "duration": 1062.982272,
   "end_time": "2024-01-26T12:58:25.973502",
   "environment_variables": {},
   "exception": null,
   "input_path": "template_openai.ipynb",
   "output_path": "23_text-embedding-3-large_3072.ipynb",
   "parameters": {
    "dimension": 3072,
    "model_id": "text-embedding-3-large"
   },
   "start_time": "2024-01-26T12:40:42.991230",
   "version": "2.4.0"
  },
  "toc": {
   "base_numbering": 1,
   "nav_menu": {},
   "number_sections": true,
   "sideBar": true,
   "skip_h1_title": false,
   "title_cell": "Table of Contents",
   "title_sidebar": "Contents",
   "toc_cell": false,
   "toc_position": {},
   "toc_section_display": true,
   "toc_window_display": false
  },
  "vscode": {
   "interpreter": {
    "hash": "02c2702a58ea2fe60fd5f26dd152a70e7993d77024040a4f035d0ea16923b730"
   }
  },
  "widgets": {
   "application/vnd.jupyter.widget-state+json": {
    "state": {
     "1837b417e0f641df850fea84c314bde4": {
      "model_module": "@jupyter-widgets/controls",
      "model_module_version": "2.0.0",
      "model_name": "HTMLStyleModel",
      "state": {
       "_model_module": "@jupyter-widgets/controls",
       "_model_module_version": "2.0.0",
       "_model_name": "HTMLStyleModel",
       "_view_count": null,
       "_view_module": "@jupyter-widgets/base",
       "_view_module_version": "2.0.0",
       "_view_name": "StyleView",
       "background": null,
       "description_width": "",
       "font_size": null,
       "text_color": null
      }
     },
     "23b533b8700743beb77ed1c7613e7ef1": {
      "model_module": "@jupyter-widgets/controls",
      "model_module_version": "2.0.0",
      "model_name": "HBoxModel",
      "state": {
       "_dom_classes": [],
       "_model_module": "@jupyter-widgets/controls",
       "_model_module_version": "2.0.0",
       "_model_name": "HBoxModel",
       "_view_count": null,
       "_view_module": "@jupyter-widgets/controls",
       "_view_module_version": "2.0.0",
       "_view_name": "HBoxView",
       "box_style": "",
       "children": [
        "IPY_MODEL_54f6c4e0515b434a9fd1f373e04ac873",
        "IPY_MODEL_4a73a570cc0b4a85a964cd5b2c547a1f",
        "IPY_MODEL_51aa7a510b32471ba8ffaab031dc3455"
       ],
       "layout": "IPY_MODEL_ca60f932d60e44fd9f5fbca4d15fbf2b",
       "tabbable": null,
       "tooltip": null
      }
     },
     "29761c135c8a4530903c9fe29c06be77": {
      "model_module": "@jupyter-widgets/base",
      "model_module_version": "2.0.0",
      "model_name": "LayoutModel",
      "state": {
       "_model_module": "@jupyter-widgets/base",
       "_model_module_version": "2.0.0",
       "_model_name": "LayoutModel",
       "_view_count": null,
       "_view_module": "@jupyter-widgets/base",
       "_view_module_version": "2.0.0",
       "_view_name": "LayoutView",
       "align_content": null,
       "align_items": null,
       "align_self": null,
       "border_bottom": null,
       "border_left": null,
       "border_right": null,
       "border_top": null,
       "bottom": null,
       "display": null,
       "flex": null,
       "flex_flow": null,
       "grid_area": null,
       "grid_auto_columns": null,
       "grid_auto_flow": null,
       "grid_auto_rows": null,
       "grid_column": null,
       "grid_gap": null,
       "grid_row": null,
       "grid_template_areas": null,
       "grid_template_columns": null,
       "grid_template_rows": null,
       "height": null,
       "justify_content": null,
       "justify_items": null,
       "left": null,
       "margin": null,
       "max_height": null,
       "max_width": null,
       "min_height": null,
       "min_width": null,
       "object_fit": null,
       "object_position": null,
       "order": null,
       "overflow": null,
       "padding": null,
       "right": null,
       "top": null,
       "visibility": null,
       "width": null
      }
     },
     "2c450e35584d4904919d28b60c30bafc": {
      "model_module": "@jupyter-widgets/base",
      "model_module_version": "2.0.0",
      "model_name": "LayoutModel",
      "state": {
       "_model_module": "@jupyter-widgets/base",
       "_model_module_version": "2.0.0",
       "_model_name": "LayoutModel",
       "_view_count": null,
       "_view_module": "@jupyter-widgets/base",
       "_view_module_version": "2.0.0",
       "_view_name": "LayoutView",
       "align_content": null,
       "align_items": null,
       "align_self": null,
       "border_bottom": null,
       "border_left": null,
       "border_right": null,
       "border_top": null,
       "bottom": null,
       "display": null,
       "flex": null,
       "flex_flow": null,
       "grid_area": null,
       "grid_auto_columns": null,
       "grid_auto_flow": null,
       "grid_auto_rows": null,
       "grid_column": null,
       "grid_gap": null,
       "grid_row": null,
       "grid_template_areas": null,
       "grid_template_columns": null,
       "grid_template_rows": null,
       "height": null,
       "justify_content": null,
       "justify_items": null,
       "left": null,
       "margin": null,
       "max_height": null,
       "max_width": null,
       "min_height": null,
       "min_width": null,
       "object_fit": null,
       "object_position": null,
       "order": null,
       "overflow": null,
       "padding": null,
       "right": null,
       "top": null,
       "visibility": null,
       "width": null
      }
     },
     "45c041d070354a2eb3b43e7a415a8f4f": {
      "model_module": "@jupyter-widgets/controls",
      "model_module_version": "2.0.0",
      "model_name": "ProgressStyleModel",
      "state": {
       "_model_module": "@jupyter-widgets/controls",
       "_model_module_version": "2.0.0",
       "_model_name": "ProgressStyleModel",
       "_view_count": null,
       "_view_module": "@jupyter-widgets/base",
       "_view_module_version": "2.0.0",
       "_view_name": "StyleView",
       "bar_color": null,
       "description_width": ""
      }
     },
     "4a73a570cc0b4a85a964cd5b2c547a1f": {
      "model_module": "@jupyter-widgets/controls",
      "model_module_version": "2.0.0",
      "model_name": "FloatProgressModel",
      "state": {
       "_dom_classes": [],
       "_model_module": "@jupyter-widgets/controls",
       "_model_module_version": "2.0.0",
       "_model_name": "FloatProgressModel",
       "_view_count": null,
       "_view_module": "@jupyter-widgets/controls",
       "_view_module_version": "2.0.0",
       "_view_name": "ProgressView",
       "bar_style": "success",
       "description": "",
       "description_allow_html": false,
       "layout": "IPY_MODEL_54a2fb57409f4d13892816896c06798d",
       "max": 1.0,
       "min": 0.0,
       "orientation": "horizontal",
       "style": "IPY_MODEL_45c041d070354a2eb3b43e7a415a8f4f",
       "tabbable": null,
       "tooltip": null,
       "value": 1.0
      }
     },
     "51aa7a510b32471ba8ffaab031dc3455": {
      "model_module": "@jupyter-widgets/controls",
      "model_module_version": "2.0.0",
      "model_name": "HTMLModel",
      "state": {
       "_dom_classes": [],
       "_model_module": "@jupyter-widgets/controls",
       "_model_module_version": "2.0.0",
       "_model_name": "HTMLModel",
       "_view_count": null,
       "_view_module": "@jupyter-widgets/controls",
       "_view_module_version": "2.0.0",
       "_view_name": "HTMLView",
       "description": "",
       "description_allow_html": false,
       "layout": "IPY_MODEL_2c450e35584d4904919d28b60c30bafc",
       "placeholder": "​",
       "style": "IPY_MODEL_83e1d6a44efe44069fbf36292e716b99",
       "tabbable": null,
       "tooltip": null,
       "value": " 1/1 [00:00&lt;00:00,  2.87it/s]"
      }
     },
     "54a2fb57409f4d13892816896c06798d": {
      "model_module": "@jupyter-widgets/base",
      "model_module_version": "2.0.0",
      "model_name": "LayoutModel",
      "state": {
       "_model_module": "@jupyter-widgets/base",
       "_model_module_version": "2.0.0",
       "_model_name": "LayoutModel",
       "_view_count": null,
       "_view_module": "@jupyter-widgets/base",
       "_view_module_version": "2.0.0",
       "_view_name": "LayoutView",
       "align_content": null,
       "align_items": null,
       "align_self": null,
       "border_bottom": null,
       "border_left": null,
       "border_right": null,
       "border_top": null,
       "bottom": null,
       "display": null,
       "flex": null,
       "flex_flow": null,
       "grid_area": null,
       "grid_auto_columns": null,
       "grid_auto_flow": null,
       "grid_auto_rows": null,
       "grid_column": null,
       "grid_gap": null,
       "grid_row": null,
       "grid_template_areas": null,
       "grid_template_columns": null,
       "grid_template_rows": null,
       "height": null,
       "justify_content": null,
       "justify_items": null,
       "left": null,
       "margin": null,
       "max_height": null,
       "max_width": null,
       "min_height": null,
       "min_width": null,
       "object_fit": null,
       "object_position": null,
       "order": null,
       "overflow": null,
       "padding": null,
       "right": null,
       "top": null,
       "visibility": null,
       "width": null
      }
     },
     "54f6c4e0515b434a9fd1f373e04ac873": {
      "model_module": "@jupyter-widgets/controls",
      "model_module_version": "2.0.0",
      "model_name": "HTMLModel",
      "state": {
       "_dom_classes": [],
       "_model_module": "@jupyter-widgets/controls",
       "_model_module_version": "2.0.0",
       "_model_name": "HTMLModel",
       "_view_count": null,
       "_view_module": "@jupyter-widgets/controls",
       "_view_module_version": "2.0.0",
       "_view_name": "HTMLView",
       "description": "",
       "description_allow_html": false,
       "layout": "IPY_MODEL_29761c135c8a4530903c9fe29c06be77",
       "placeholder": "​",
       "style": "IPY_MODEL_1837b417e0f641df850fea84c314bde4",
       "tabbable": null,
       "tooltip": null,
       "value": "100%"
      }
     },
     "83e1d6a44efe44069fbf36292e716b99": {
      "model_module": "@jupyter-widgets/controls",
      "model_module_version": "2.0.0",
      "model_name": "HTMLStyleModel",
      "state": {
       "_model_module": "@jupyter-widgets/controls",
       "_model_module_version": "2.0.0",
       "_model_name": "HTMLStyleModel",
       "_view_count": null,
       "_view_module": "@jupyter-widgets/base",
       "_view_module_version": "2.0.0",
       "_view_name": "StyleView",
       "background": null,
       "description_width": "",
       "font_size": null,
       "text_color": null
      }
     },
     "ca60f932d60e44fd9f5fbca4d15fbf2b": {
      "model_module": "@jupyter-widgets/base",
      "model_module_version": "2.0.0",
      "model_name": "LayoutModel",
      "state": {
       "_model_module": "@jupyter-widgets/base",
       "_model_module_version": "2.0.0",
       "_model_name": "LayoutModel",
       "_view_count": null,
       "_view_module": "@jupyter-widgets/base",
       "_view_module_version": "2.0.0",
       "_view_name": "LayoutView",
       "align_content": null,
       "align_items": null,
       "align_self": null,
       "border_bottom": null,
       "border_left": null,
       "border_right": null,
       "border_top": null,
       "bottom": null,
       "display": null,
       "flex": null,
       "flex_flow": null,
       "grid_area": null,
       "grid_auto_columns": null,
       "grid_auto_flow": null,
       "grid_auto_rows": null,
       "grid_column": null,
       "grid_gap": null,
       "grid_row": null,
       "grid_template_areas": null,
       "grid_template_columns": null,
       "grid_template_rows": null,
       "height": null,
       "justify_content": null,
       "justify_items": null,
       "left": null,
       "margin": null,
       "max_height": null,
       "max_width": null,
       "min_height": null,
       "min_width": null,
       "object_fit": null,
       "object_position": null,
       "order": null,
       "overflow": null,
       "padding": null,
       "right": null,
       "top": null,
       "visibility": null,
       "width": null
      }
     }
    },
    "version_major": 2,
    "version_minor": 0
   }
  }
 },
 "nbformat": 4,
 "nbformat_minor": 5
}